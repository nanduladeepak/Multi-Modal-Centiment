{
 "cells": [
  {
   "cell_type": "code",
   "execution_count": 1,
   "metadata": {},
   "outputs": [
    {
     "name": "stdout",
     "output_type": "stream",
     "text": [
      "Total number of 0 datapoints have been dropped.\n",
      "Dataset split\n",
      "Train Set: 16326\n",
      "Validation Set: 1871\n",
      "Test Set: 4659\n"
     ]
    }
   ],
   "source": [
    "import sys\n",
    "import os\n",
    "import re\n",
    "import pickle\n",
    "import pandas as pd\n",
    "import numpy as np\n",
    "import random\n",
    "import tensorflow as tf\n",
    "from transformers import TFBertModel,BertTokenizer\n",
    "from sklearn.preprocessing import StandardScaler\n",
    "import sys\n",
    "import os\n",
    "import re\n",
    "import pickle\n",
    "\n",
    "\n",
    "DATA_PATH = '../data/MOSEI/'\n",
    "\n",
    "def to_pickle(obj, path):\n",
    "    with open(path, 'wb') as f:\n",
    "        pickle.dump(obj, f)\n",
    "\n",
    "def load_pickle(path):\n",
    "    with open(path, 'rb') as f:\n",
    "        return pickle.load(f)\n",
    "\n",
    "def get_length(x):\n",
    "    return x.shape[1]-(np.sum(x, axis=-1) == 0).sum(1)\n",
    "\n",
    "# first we align to words with averaging, collapse_function receives a list of functions\n",
    "# dataset.align(text_field, collapse_functions=[avg])\n",
    "# load pickle file for unaligned acoustic and visual source\n",
    "pickle_filename = DATA_PATH+'mosei_senti_data_noalign.pkl'\n",
    "csv_filename = DATA_PATH+'MOSEI-label.csv'\n",
    "\n",
    "with open(pickle_filename, 'rb') as f:\n",
    "    d = pickle.load(f)\n",
    "\n",
    "# read csv file for label and text\n",
    "df = pd.read_csv(csv_filename)\n",
    "text = df['text']\n",
    "vid = df['video_id']\n",
    "cid = df['clip_id']\n",
    "\n",
    "train_split_noalign = d['train']\n",
    "dev_split_noalign = d['valid']\n",
    "test_split_noalign = d['test']\n",
    "\n",
    "# a sentinel epsilon for safe division, without it we will replace illegal values with a constant\n",
    "EPS = 1e-6\n",
    "\n",
    "# place holders for the final train/dev/test dataset\n",
    "train = train = []\n",
    "dev = dev = []\n",
    "test = test = []\n",
    "\n",
    "# define a regular expression to extract the video ID out of the keys\n",
    "# pattern = re.compile('(.*)\\[.*\\]')\n",
    "pattern = re.compile('(.*)_([.*])')\n",
    "num_drop = 0 # a counter to count how many data points went into some processing issues\n",
    "\n",
    "v = np.concatenate((train_split_noalign['vision'],dev_split_noalign['vision'], test_split_noalign['vision']),axis=0)\n",
    "vlens = get_length(v)\n",
    "\n",
    "a = np.concatenate((train_split_noalign['audio'],dev_split_noalign['audio'], test_split_noalign['audio']),axis=0)\n",
    "alens = get_length(a)\n",
    "\n",
    "label = np.concatenate((train_split_noalign['labels'],dev_split_noalign['labels'], test_split_noalign['labels']),axis=0)\n",
    "\n",
    "L_V = v.shape[1]\n",
    "L_A = a.shape[1]\n",
    "\n",
    "\n",
    "all_id = np.concatenate((train_split_noalign['id'], dev_split_noalign['id'], test_split_noalign['id']),axis=0)[:,0]\n",
    "all_id_list = all_id.tolist()\n",
    "\n",
    "train_size = len(train_split_noalign['id'])\n",
    "dev_size = len(dev_split_noalign['id'])\n",
    "test_size = len(test_split_noalign['id'])\n",
    "\n",
    "dev_start = train_size\n",
    "test_start = train_size + dev_size\n",
    "\n",
    "all_csv_id = [(vid[i], str(cid[i])) for i in range(len(vid))]\n",
    "\n",
    "for i, idd in enumerate(all_id_list):\n",
    "    # get the video ID and the features out of the aligned dataset\n",
    "\n",
    "    # matching process\n",
    "    try:\n",
    "        index = i\n",
    "    except:\n",
    "        import ipdb; ipdb.set_trace()\n",
    "\n",
    "    _words = text[index].split()\n",
    "    _label = label[i].astype(np.float32)\n",
    "    _visual = v[i]\n",
    "    _acoustic = a[i]\n",
    "    _vlen = vlens[i]\n",
    "    _alen = alens[i]\n",
    "    _id = '{}[{}]'.format(all_csv_id[0], all_csv_id[1])           \n",
    "\n",
    "    # remove nan values\n",
    "    # label = np.nan_to_num(label)\n",
    "    _visual = np.nan_to_num(_visual)\n",
    "    _acoustic = np.nan_to_num(_acoustic)\n",
    "\n",
    "    # remove speech pause tokens - this is in general helpful\n",
    "    # we should remove speech pauses and corresponding visual/acoustic features together\n",
    "    # otherwise modalities would no longer be aligned\n",
    "    actual_words = []\n",
    "    words = []\n",
    "    visual = []\n",
    "    acoustic = []\n",
    "\n",
    "    for word in _words:\n",
    "        actual_words.append(word)\n",
    "\n",
    "    visual = _visual[L_V - _vlen:,:]\n",
    "    acoustic = _acoustic[L_A - _alen:,:]\n",
    "\n",
    "    if i < dev_start:\n",
    "        train.append((words, visual, acoustic, actual_words, _vlen, _alen, _label, idd))\n",
    "    elif i >= dev_start and i < test_start:\n",
    "        dev.append((words, visual, acoustic, actual_words, _vlen, _alen, _label, idd))\n",
    "    elif i >= test_start:\n",
    "        test.append((words, visual, acoustic, actual_words, _vlen, _alen, _label, idd))\n",
    "    else:\n",
    "        print(f\"Found video that doesn't belong to any splits: {idd}\")\n",
    "\n",
    "\n",
    "# print(f\"Total number of {num_drop} datapoints have been dropped.\")\n",
    "print(f\"Total number of {num_drop} datapoints have been dropped.\")\n",
    "print(\"Dataset split\")\n",
    "print(\"Train Set: {}\".format(len(train)))\n",
    "print(\"Validation Set: {}\".format(len(dev)))\n",
    "print(\"Test Set: {}\".format(len(test)))\n",
    "\n",
    "# Save glove embeddings cache too\n",
    "# self.pretrained_emb = pretrained_emb = load_emb(word2id, config.word_emb_path)\n",
    "# torch.save((pretrained_emb, word2id), CACHE_PATH)\n",
    "pretrained_emb = None\n",
    "\n",
    "# Save pickles\n",
    "# to_pickle(train, DATA_PATH + '/dftrain.pkl')\n",
    "# to_pickle(dev, DATA_PATH + '/dfdev.pkl')\n",
    "# to_pickle(test, DATA_PATH + '/dftest.pkl')"
   ]
  },
  {
   "cell_type": "code",
   "execution_count": 2,
   "metadata": {},
   "outputs": [],
   "source": [
    "train_df = pd.DataFrame(train,columns=['words', 'visual', 'acoustic', 'actual_words', '_vlen', '_alen', '_label', 'idd'])\n",
    "dev_df = pd.DataFrame(dev,columns=['words', 'visual', 'acoustic', 'actual_words', '_vlen', '_alen', '_label', 'idd'])\n",
    "test_df = pd.DataFrame(test,columns=['words', 'visual', 'acoustic', 'actual_words', '_vlen', '_alen', '_label', 'idd'])\n"
   ]
  },
  {
   "cell_type": "code",
   "execution_count": 3,
   "metadata": {},
   "outputs": [
    {
     "data": {
      "text/html": [
       "<div>\n",
       "<style scoped>\n",
       "    .dataframe tbody tr th:only-of-type {\n",
       "        vertical-align: middle;\n",
       "    }\n",
       "\n",
       "    .dataframe tbody tr th {\n",
       "        vertical-align: top;\n",
       "    }\n",
       "\n",
       "    .dataframe thead th {\n",
       "        text-align: right;\n",
       "    }\n",
       "</style>\n",
       "<table border=\"1\" class=\"dataframe\">\n",
       "  <thead>\n",
       "    <tr style=\"text-align: right;\">\n",
       "      <th></th>\n",
       "      <th>words</th>\n",
       "      <th>visual</th>\n",
       "      <th>acoustic</th>\n",
       "      <th>actual_words</th>\n",
       "      <th>_vlen</th>\n",
       "      <th>_alen</th>\n",
       "      <th>_label</th>\n",
       "      <th>idd</th>\n",
       "    </tr>\n",
       "  </thead>\n",
       "  <tbody>\n",
       "    <tr>\n",
       "      <th>0</th>\n",
       "      <td>[]</td>\n",
       "      <td>[[-1.2108299732208252, -0.46178698539733887, -...</td>\n",
       "      <td>[[194.5, 0.0, 0.07899338752031326, 0.412973552...</td>\n",
       "      <td>[Key, is, part, of, the, people, that, we, use...</td>\n",
       "      <td>267</td>\n",
       "      <td>356</td>\n",
       "      <td>[[1.0]]</td>\n",
       "      <td>-3g5yACwYnA</td>\n",
       "    </tr>\n",
       "    <tr>\n",
       "      <th>1</th>\n",
       "      <td>[]</td>\n",
       "      <td>[[-1.7858200073242188, -0.6380839943885803, 0....</td>\n",
       "      <td>[[105.5, 1.0, 0.021022265776991844, 0.08599962...</td>\n",
       "      <td>[They've, been, able, to, find, solutions, or,...</td>\n",
       "      <td>81</td>\n",
       "      <td>107</td>\n",
       "      <td>[[0.6666667]]</td>\n",
       "      <td>-3g5yACwYnA</td>\n",
       "    </tr>\n",
       "    <tr>\n",
       "      <th>2</th>\n",
       "      <td>[]</td>\n",
       "      <td>[[-1.7642099857330322, -0.7958599925041199, -0...</td>\n",
       "      <td>[[106.5, 1.0, 0.11148008704185486, 0.726543664...</td>\n",
       "      <td>[We're, a, huge, user, of, adhesives, for, our...</td>\n",
       "      <td>215</td>\n",
       "      <td>286</td>\n",
       "      <td>[[0.0]]</td>\n",
       "      <td>-3g5yACwYnA</td>\n",
       "    </tr>\n",
       "    <tr>\n",
       "      <th>3</th>\n",
       "      <td>[]</td>\n",
       "      <td>[[-1.2986199855804443, -0.2510870099067688, -0...</td>\n",
       "      <td>[[115.5, 1.0, 0.057251088321208954, 0.33875322...</td>\n",
       "      <td>[Key, Polymer, brings, a, technical, aspect, t...</td>\n",
       "      <td>138</td>\n",
       "      <td>184</td>\n",
       "      <td>[[0.0]]</td>\n",
       "      <td>-3g5yACwYnA</td>\n",
       "    </tr>\n",
       "    <tr>\n",
       "      <th>4</th>\n",
       "      <td>[]</td>\n",
       "      <td>[[-1.6502399444580078, -0.3371959924697876, -0...</td>\n",
       "      <td>[[100.5, 1.0, 0.14517584443092346, 0.675116181...</td>\n",
       "      <td>[Key, brings, those, types, of, aspects, to, a...</td>\n",
       "      <td>221</td>\n",
       "      <td>295</td>\n",
       "      <td>[[1.0]]</td>\n",
       "      <td>-3g5yACwYnA</td>\n",
       "    </tr>\n",
       "    <tr>\n",
       "      <th>...</th>\n",
       "      <td>...</td>\n",
       "      <td>...</td>\n",
       "      <td>...</td>\n",
       "      <td>...</td>\n",
       "      <td>...</td>\n",
       "      <td>...</td>\n",
       "      <td>...</td>\n",
       "      <td>...</td>\n",
       "    </tr>\n",
       "    <tr>\n",
       "      <th>16321</th>\n",
       "      <td>[]</td>\n",
       "      <td>[[-1.8842400312423706, -0.6028929948806763, 0....</td>\n",
       "      <td>[[127.5, 1.0, 0.11853820085525513, 0.720579862...</td>\n",
       "      <td>[I, read, other, articles,, what, other, train...</td>\n",
       "      <td>72</td>\n",
       "      <td>103</td>\n",
       "      <td>[[0.0]]</td>\n",
       "      <td>zwTrXwi54us</td>\n",
       "    </tr>\n",
       "    <tr>\n",
       "      <th>16322</th>\n",
       "      <td>[]</td>\n",
       "      <td>[[-2.153140068054199, -0.04792049899697304, -0...</td>\n",
       "      <td>[[129.5, 1.0, 0.1991356760263443, 0.6945900321...</td>\n",
       "      <td>[I, do, all, of, that]</td>\n",
       "      <td>28</td>\n",
       "      <td>37</td>\n",
       "      <td>[[0.0]]</td>\n",
       "      <td>zwTrXwi54us</td>\n",
       "    </tr>\n",
       "    <tr>\n",
       "      <th>16323</th>\n",
       "      <td>[]</td>\n",
       "      <td>[[-4.401090145111084, -1.0127899646759033, -1....</td>\n",
       "      <td>[[188.5, 0.0, 0.05910159647464752, 0.331484466...</td>\n",
       "      <td>[Now,, if, this, sounds, like, something, you'...</td>\n",
       "      <td>163</td>\n",
       "      <td>227</td>\n",
       "      <td>[[0.6666667]]</td>\n",
       "      <td>zwTrXwi54us</td>\n",
       "    </tr>\n",
       "    <tr>\n",
       "      <th>16324</th>\n",
       "      <td>[]</td>\n",
       "      <td>[[-2.3272500038146973, -1.1171799898147583, 0....</td>\n",
       "      <td>[[133.0, 0.0, 0.027281710878014565, 0.07664652...</td>\n",
       "      <td>[I, actually, speak, to, the, experts, myself,...</td>\n",
       "      <td>80</td>\n",
       "      <td>106</td>\n",
       "      <td>[[1.0]]</td>\n",
       "      <td>zwTrXwi54us</td>\n",
       "    </tr>\n",
       "    <tr>\n",
       "      <th>16325</th>\n",
       "      <td>[]</td>\n",
       "      <td>[[-1.8243299722671509, -0.061710700392723083, ...</td>\n",
       "      <td>[[116.5, 1.0, 0.17489837110042572, 0.565754592...</td>\n",
       "      <td>[And, we’ve, seen, some, programs,, we’ve, see...</td>\n",
       "      <td>349</td>\n",
       "      <td>465</td>\n",
       "      <td>[[1.0]]</td>\n",
       "      <td>zx4W0Vuus-I</td>\n",
       "    </tr>\n",
       "  </tbody>\n",
       "</table>\n",
       "<p>16326 rows × 8 columns</p>\n",
       "</div>"
      ],
      "text/plain": [
       "      words                                             visual  \\\n",
       "0        []  [[-1.2108299732208252, -0.46178698539733887, -...   \n",
       "1        []  [[-1.7858200073242188, -0.6380839943885803, 0....   \n",
       "2        []  [[-1.7642099857330322, -0.7958599925041199, -0...   \n",
       "3        []  [[-1.2986199855804443, -0.2510870099067688, -0...   \n",
       "4        []  [[-1.6502399444580078, -0.3371959924697876, -0...   \n",
       "...     ...                                                ...   \n",
       "16321    []  [[-1.8842400312423706, -0.6028929948806763, 0....   \n",
       "16322    []  [[-2.153140068054199, -0.04792049899697304, -0...   \n",
       "16323    []  [[-4.401090145111084, -1.0127899646759033, -1....   \n",
       "16324    []  [[-2.3272500038146973, -1.1171799898147583, 0....   \n",
       "16325    []  [[-1.8243299722671509, -0.061710700392723083, ...   \n",
       "\n",
       "                                                acoustic  \\\n",
       "0      [[194.5, 0.0, 0.07899338752031326, 0.412973552...   \n",
       "1      [[105.5, 1.0, 0.021022265776991844, 0.08599962...   \n",
       "2      [[106.5, 1.0, 0.11148008704185486, 0.726543664...   \n",
       "3      [[115.5, 1.0, 0.057251088321208954, 0.33875322...   \n",
       "4      [[100.5, 1.0, 0.14517584443092346, 0.675116181...   \n",
       "...                                                  ...   \n",
       "16321  [[127.5, 1.0, 0.11853820085525513, 0.720579862...   \n",
       "16322  [[129.5, 1.0, 0.1991356760263443, 0.6945900321...   \n",
       "16323  [[188.5, 0.0, 0.05910159647464752, 0.331484466...   \n",
       "16324  [[133.0, 0.0, 0.027281710878014565, 0.07664652...   \n",
       "16325  [[116.5, 1.0, 0.17489837110042572, 0.565754592...   \n",
       "\n",
       "                                            actual_words  _vlen  _alen  \\\n",
       "0      [Key, is, part, of, the, people, that, we, use...    267    356   \n",
       "1      [They've, been, able, to, find, solutions, or,...     81    107   \n",
       "2      [We're, a, huge, user, of, adhesives, for, our...    215    286   \n",
       "3      [Key, Polymer, brings, a, technical, aspect, t...    138    184   \n",
       "4      [Key, brings, those, types, of, aspects, to, a...    221    295   \n",
       "...                                                  ...    ...    ...   \n",
       "16321  [I, read, other, articles,, what, other, train...     72    103   \n",
       "16322                             [I, do, all, of, that]     28     37   \n",
       "16323  [Now,, if, this, sounds, like, something, you'...    163    227   \n",
       "16324  [I, actually, speak, to, the, experts, myself,...     80    106   \n",
       "16325  [And, we’ve, seen, some, programs,, we’ve, see...    349    465   \n",
       "\n",
       "              _label          idd  \n",
       "0            [[1.0]]  -3g5yACwYnA  \n",
       "1      [[0.6666667]]  -3g5yACwYnA  \n",
       "2            [[0.0]]  -3g5yACwYnA  \n",
       "3            [[0.0]]  -3g5yACwYnA  \n",
       "4            [[1.0]]  -3g5yACwYnA  \n",
       "...              ...          ...  \n",
       "16321        [[0.0]]  zwTrXwi54us  \n",
       "16322        [[0.0]]  zwTrXwi54us  \n",
       "16323  [[0.6666667]]  zwTrXwi54us  \n",
       "16324        [[1.0]]  zwTrXwi54us  \n",
       "16325        [[1.0]]  zx4W0Vuus-I  \n",
       "\n",
       "[16326 rows x 8 columns]"
      ]
     },
     "execution_count": 3,
     "metadata": {},
     "output_type": "execute_result"
    }
   ],
   "source": [
    "train_df"
   ]
  },
  {
   "cell_type": "markdown",
   "metadata": {},
   "source": [
    "Auto Encoder\n",
    "=======================================================================================================================================\n",
    "---------------------------------------------------------------------------------------------------------------------------------------"
   ]
  },
  {
   "cell_type": "code",
   "execution_count": 4,
   "metadata": {},
   "outputs": [],
   "source": [
    "# Encode text data using BERT tokenizer\n",
    "def encode_text_data(text_data, max_length=500):\n",
    "    tokenizer = BertTokenizer.from_pretrained('bert-base-uncased')\n",
    "    input_ids = []\n",
    "    attention_masks = []\n",
    "\n",
    "    for text in text_data:\n",
    "        encoded_dict = tokenizer.encode_plus(\n",
    "            text,\n",
    "            add_special_tokens=True,\n",
    "            max_length=max_length,  # Set max_length to 500 for BERT base model\n",
    "            padding='max_length',\n",
    "            return_attention_mask=True,\n",
    "            return_tensors='tf'\n",
    "        )\n",
    "        input_ids.append(encoded_dict['input_ids'])\n",
    "        attention_masks.append(encoded_dict['attention_mask'])\n",
    "\n",
    "    input_ids = tf.concat(input_ids, axis=0)\n",
    "    attention_masks = tf.concat(attention_masks, axis=0)\n",
    "\n",
    "    return input_ids, attention_masks\n",
    "\n",
    "def addPadding(df, colName, dim):\n",
    "    max_length_x = df[colName].apply(lambda x: x.shape[0] if isinstance(x, np.ndarray) else 0).max()\n",
    "\n",
    "    # Perform padding within the DataFrame\n",
    "    df[colName] = df[colName].apply(lambda x: np.vstack([x, np.zeros((max_length_x - x.shape[0], dim))]) if isinstance(x, np.ndarray) else x)\n",
    "\n",
    "\n",
    "\n",
    "def processText(text):\n",
    "    return ' '.join(text)\n",
    "\n",
    "def preprocessData(df):\n",
    "    # addPadding(df,'visual',35)\n",
    "    # addPadding(df,'acoustic',74)\n",
    "\n",
    "    df['words'] = df['actual_words'].apply(processText)\n",
    "\n",
    "    # Preprocess text data and create a tf.data.Dataset\n",
    "    text_data = encode_text_data(df['words'].tolist())\n",
    "\n",
    "    # Prepare the rest of the data\n",
    "    # acoustic_data = np.stack(df['acoustic'])\n",
    "    # visual_data = np.stack(df['visual'])\n",
    "    label_data = np.array([label[0] for label in df['_label']])\n",
    "\n",
    "    # Unpack the text_data into input_ids_data and attention_mask_data\n",
    "    input_ids_data, attention_mask_data = text_data\n",
    "    input_ids_data = input_ids_data.numpy().astype(np.int32)\n",
    "    attention_mask_data = attention_mask_data.numpy().astype(np.int32)\n",
    "\n",
    "    # Convert the label_data to float32 as it is expected for regression\n",
    "    label_data = label_data.astype(np.float32)\n",
    "    return { 'textData':[input_ids_data, attention_mask_data],'Label_denorm':label_data}"
   ]
  },
  {
   "cell_type": "code",
   "execution_count": 5,
   "metadata": {},
   "outputs": [
    {
     "data": {
      "text/plain": [
       "(147, 74)"
      ]
     },
     "execution_count": 5,
     "metadata": {},
     "output_type": "execute_result"
    }
   ],
   "source": [
    "np.shape(train_df['acoustic'][15])"
   ]
  },
  {
   "cell_type": "code",
   "execution_count": 6,
   "metadata": {},
   "outputs": [
    {
     "data": {
      "text/plain": [
       "(64, 35)"
      ]
     },
     "execution_count": 6,
     "metadata": {},
     "output_type": "execute_result"
    }
   ],
   "source": [
    "np.shape(train_df['visual'][15])"
   ]
  },
  {
   "cell_type": "code",
   "execution_count": 7,
   "metadata": {},
   "outputs": [
    {
     "name": "stderr",
     "output_type": "stream",
     "text": [
      "2023-08-27 03:19:58.358513: I tensorflow/core/common_runtime/pluggable_device/pluggable_device_factory.cc:305] Could not identify NUMA node of platform GPU ID 0, defaulting to 0. Your kernel may not have been built with NUMA support.\n",
      "2023-08-27 03:19:58.358652: I tensorflow/core/common_runtime/pluggable_device/pluggable_device_factory.cc:271] Created TensorFlow device (/job:localhost/replica:0/task:0/device:GPU:0 with 0 MB memory) -> physical PluggableDevice (device: 0, name: METAL, pci bus id: <undefined>)\n"
     ]
    },
    {
     "name": "stdout",
     "output_type": "stream",
     "text": [
      "Metal device set to: Apple M1 Max\n",
      "\n",
      "systemMemory: 64.00 GB\n",
      "maxCacheSize: 24.00 GB\n",
      "\n"
     ]
    }
   ],
   "source": [
    "modelTrainData = preprocessData(train_df)\n",
    "modelValData = preprocessData(dev_df)\n",
    "modelTestData = preprocessData(test_df)"
   ]
  },
  {
   "cell_type": "code",
   "execution_count": 8,
   "metadata": {},
   "outputs": [],
   "source": [
    "\n",
    "def flatten_2d_array(arr_2d):\n",
    "    arr_1d = []\n",
    "    for row in arr_2d:\n",
    "        for item in row:\n",
    "            arr_1d.append(item)\n",
    "    return arr_1d\n",
    "\n",
    "train_df['acoustic'] = train_df['acoustic'].apply(flatten_2d_array)\n",
    "train_df['visual'] = train_df['visual'].apply(flatten_2d_array)\n",
    "dev_df['acoustic'] = dev_df['acoustic'].apply(flatten_2d_array)\n",
    "dev_df['visual'] = dev_df['visual'].apply(flatten_2d_array)\n",
    "test_df['acoustic'] = test_df['acoustic'].apply(flatten_2d_array)\n",
    "test_df['visual'] = test_df['visual'].apply(flatten_2d_array)"
   ]
  },
  {
   "cell_type": "code",
   "execution_count": 9,
   "metadata": {},
   "outputs": [
    {
     "data": {
      "text/html": [
       "<div>\n",
       "<style scoped>\n",
       "    .dataframe tbody tr th:only-of-type {\n",
       "        vertical-align: middle;\n",
       "    }\n",
       "\n",
       "    .dataframe tbody tr th {\n",
       "        vertical-align: top;\n",
       "    }\n",
       "\n",
       "    .dataframe thead th {\n",
       "        text-align: right;\n",
       "    }\n",
       "</style>\n",
       "<table border=\"1\" class=\"dataframe\">\n",
       "  <thead>\n",
       "    <tr style=\"text-align: right;\">\n",
       "      <th></th>\n",
       "      <th>words</th>\n",
       "      <th>visual</th>\n",
       "      <th>acoustic</th>\n",
       "      <th>actual_words</th>\n",
       "      <th>_vlen</th>\n",
       "      <th>_alen</th>\n",
       "      <th>_label</th>\n",
       "      <th>idd</th>\n",
       "    </tr>\n",
       "  </thead>\n",
       "  <tbody>\n",
       "    <tr>\n",
       "      <th>0</th>\n",
       "      <td>Key is part of the people that we use to solve...</td>\n",
       "      <td>[-1.2108299732208252, -0.46178698539733887, -0...</td>\n",
       "      <td>[194.5, 0.0, 0.07899338752031326, 0.4129735529...</td>\n",
       "      <td>[Key, is, part, of, the, people, that, we, use...</td>\n",
       "      <td>267</td>\n",
       "      <td>356</td>\n",
       "      <td>[[1.0]]</td>\n",
       "      <td>-3g5yACwYnA</td>\n",
       "    </tr>\n",
       "    <tr>\n",
       "      <th>1</th>\n",
       "      <td>They've been able to find solutions or at leas...</td>\n",
       "      <td>[-1.7858200073242188, -0.6380839943885803, 0.7...</td>\n",
       "      <td>[105.5, 1.0, 0.021022265776991844, 0.085999622...</td>\n",
       "      <td>[They've, been, able, to, find, solutions, or,...</td>\n",
       "      <td>81</td>\n",
       "      <td>107</td>\n",
       "      <td>[[0.6666667]]</td>\n",
       "      <td>-3g5yACwYnA</td>\n",
       "    </tr>\n",
       "    <tr>\n",
       "      <th>2</th>\n",
       "      <td>We're a huge user of adhesives for our operati...</td>\n",
       "      <td>[-1.7642099857330322, -0.7958599925041199, -0....</td>\n",
       "      <td>[106.5, 1.0, 0.11148008704185486, 0.7265436649...</td>\n",
       "      <td>[We're, a, huge, user, of, adhesives, for, our...</td>\n",
       "      <td>215</td>\n",
       "      <td>286</td>\n",
       "      <td>[[0.0]]</td>\n",
       "      <td>-3g5yACwYnA</td>\n",
       "    </tr>\n",
       "    <tr>\n",
       "      <th>3</th>\n",
       "      <td>Key Polymer brings a technical aspect to our o...</td>\n",
       "      <td>[-1.2986199855804443, -0.2510870099067688, -0....</td>\n",
       "      <td>[115.5, 1.0, 0.057251088321208954, 0.338753223...</td>\n",
       "      <td>[Key, Polymer, brings, a, technical, aspect, t...</td>\n",
       "      <td>138</td>\n",
       "      <td>184</td>\n",
       "      <td>[[0.0]]</td>\n",
       "      <td>-3g5yACwYnA</td>\n",
       "    </tr>\n",
       "    <tr>\n",
       "      <th>4</th>\n",
       "      <td>Key brings those types of aspects to a busines...</td>\n",
       "      <td>[-1.6502399444580078, -0.3371959924697876, -0....</td>\n",
       "      <td>[100.5, 1.0, 0.14517584443092346, 0.6751161813...</td>\n",
       "      <td>[Key, brings, those, types, of, aspects, to, a...</td>\n",
       "      <td>221</td>\n",
       "      <td>295</td>\n",
       "      <td>[[1.0]]</td>\n",
       "      <td>-3g5yACwYnA</td>\n",
       "    </tr>\n",
       "    <tr>\n",
       "      <th>...</th>\n",
       "      <td>...</td>\n",
       "      <td>...</td>\n",
       "      <td>...</td>\n",
       "      <td>...</td>\n",
       "      <td>...</td>\n",
       "      <td>...</td>\n",
       "      <td>...</td>\n",
       "      <td>...</td>\n",
       "    </tr>\n",
       "    <tr>\n",
       "      <th>16321</th>\n",
       "      <td>I read other articles, what other trainers in ...</td>\n",
       "      <td>[-1.8842400312423706, -0.6028929948806763, 0.6...</td>\n",
       "      <td>[127.5, 1.0, 0.11853820085525513, 0.7205798625...</td>\n",
       "      <td>[I, read, other, articles,, what, other, train...</td>\n",
       "      <td>72</td>\n",
       "      <td>103</td>\n",
       "      <td>[[0.0]]</td>\n",
       "      <td>zwTrXwi54us</td>\n",
       "    </tr>\n",
       "    <tr>\n",
       "      <th>16322</th>\n",
       "      <td>I do all of that</td>\n",
       "      <td>[-2.153140068054199, -0.04792049899697304, -0....</td>\n",
       "      <td>[129.5, 1.0, 0.1991356760263443, 0.69459003210...</td>\n",
       "      <td>[I, do, all, of, that]</td>\n",
       "      <td>28</td>\n",
       "      <td>37</td>\n",
       "      <td>[[0.0]]</td>\n",
       "      <td>zwTrXwi54us</td>\n",
       "    </tr>\n",
       "    <tr>\n",
       "      <th>16323</th>\n",
       "      <td>Now, if this sounds like something you're inte...</td>\n",
       "      <td>[-4.401090145111084, -1.0127899646759033, -1.5...</td>\n",
       "      <td>[188.5, 0.0, 0.05910159647464752, 0.3314844667...</td>\n",
       "      <td>[Now,, if, this, sounds, like, something, you'...</td>\n",
       "      <td>163</td>\n",
       "      <td>227</td>\n",
       "      <td>[[0.6666667]]</td>\n",
       "      <td>zwTrXwi54us</td>\n",
       "    </tr>\n",
       "    <tr>\n",
       "      <th>16324</th>\n",
       "      <td>I actually speak to the experts myself to give...</td>\n",
       "      <td>[-2.3272500038146973, -1.1171799898147583, 0.2...</td>\n",
       "      <td>[133.0, 0.0, 0.027281710878014565, 0.076646529...</td>\n",
       "      <td>[I, actually, speak, to, the, experts, myself,...</td>\n",
       "      <td>80</td>\n",
       "      <td>106</td>\n",
       "      <td>[[1.0]]</td>\n",
       "      <td>zwTrXwi54us</td>\n",
       "    </tr>\n",
       "    <tr>\n",
       "      <th>16325</th>\n",
       "      <td>And we’ve seen some programs, we’ve seen progr...</td>\n",
       "      <td>[-1.8243299722671509, -0.061710700392723083, -...</td>\n",
       "      <td>[116.5, 1.0, 0.17489837110042572, 0.5657545924...</td>\n",
       "      <td>[And, we’ve, seen, some, programs,, we’ve, see...</td>\n",
       "      <td>349</td>\n",
       "      <td>465</td>\n",
       "      <td>[[1.0]]</td>\n",
       "      <td>zx4W0Vuus-I</td>\n",
       "    </tr>\n",
       "  </tbody>\n",
       "</table>\n",
       "<p>16326 rows × 8 columns</p>\n",
       "</div>"
      ],
      "text/plain": [
       "                                                   words  \\\n",
       "0      Key is part of the people that we use to solve...   \n",
       "1      They've been able to find solutions or at leas...   \n",
       "2      We're a huge user of adhesives for our operati...   \n",
       "3      Key Polymer brings a technical aspect to our o...   \n",
       "4      Key brings those types of aspects to a busines...   \n",
       "...                                                  ...   \n",
       "16321  I read other articles, what other trainers in ...   \n",
       "16322                                   I do all of that   \n",
       "16323  Now, if this sounds like something you're inte...   \n",
       "16324  I actually speak to the experts myself to give...   \n",
       "16325  And we’ve seen some programs, we’ve seen progr...   \n",
       "\n",
       "                                                  visual  \\\n",
       "0      [-1.2108299732208252, -0.46178698539733887, -0...   \n",
       "1      [-1.7858200073242188, -0.6380839943885803, 0.7...   \n",
       "2      [-1.7642099857330322, -0.7958599925041199, -0....   \n",
       "3      [-1.2986199855804443, -0.2510870099067688, -0....   \n",
       "4      [-1.6502399444580078, -0.3371959924697876, -0....   \n",
       "...                                                  ...   \n",
       "16321  [-1.8842400312423706, -0.6028929948806763, 0.6...   \n",
       "16322  [-2.153140068054199, -0.04792049899697304, -0....   \n",
       "16323  [-4.401090145111084, -1.0127899646759033, -1.5...   \n",
       "16324  [-2.3272500038146973, -1.1171799898147583, 0.2...   \n",
       "16325  [-1.8243299722671509, -0.061710700392723083, -...   \n",
       "\n",
       "                                                acoustic  \\\n",
       "0      [194.5, 0.0, 0.07899338752031326, 0.4129735529...   \n",
       "1      [105.5, 1.0, 0.021022265776991844, 0.085999622...   \n",
       "2      [106.5, 1.0, 0.11148008704185486, 0.7265436649...   \n",
       "3      [115.5, 1.0, 0.057251088321208954, 0.338753223...   \n",
       "4      [100.5, 1.0, 0.14517584443092346, 0.6751161813...   \n",
       "...                                                  ...   \n",
       "16321  [127.5, 1.0, 0.11853820085525513, 0.7205798625...   \n",
       "16322  [129.5, 1.0, 0.1991356760263443, 0.69459003210...   \n",
       "16323  [188.5, 0.0, 0.05910159647464752, 0.3314844667...   \n",
       "16324  [133.0, 0.0, 0.027281710878014565, 0.076646529...   \n",
       "16325  [116.5, 1.0, 0.17489837110042572, 0.5657545924...   \n",
       "\n",
       "                                            actual_words  _vlen  _alen  \\\n",
       "0      [Key, is, part, of, the, people, that, we, use...    267    356   \n",
       "1      [They've, been, able, to, find, solutions, or,...     81    107   \n",
       "2      [We're, a, huge, user, of, adhesives, for, our...    215    286   \n",
       "3      [Key, Polymer, brings, a, technical, aspect, t...    138    184   \n",
       "4      [Key, brings, those, types, of, aspects, to, a...    221    295   \n",
       "...                                                  ...    ...    ...   \n",
       "16321  [I, read, other, articles,, what, other, train...     72    103   \n",
       "16322                             [I, do, all, of, that]     28     37   \n",
       "16323  [Now,, if, this, sounds, like, something, you'...    163    227   \n",
       "16324  [I, actually, speak, to, the, experts, myself,...     80    106   \n",
       "16325  [And, we’ve, seen, some, programs,, we’ve, see...    349    465   \n",
       "\n",
       "              _label          idd  \n",
       "0            [[1.0]]  -3g5yACwYnA  \n",
       "1      [[0.6666667]]  -3g5yACwYnA  \n",
       "2            [[0.0]]  -3g5yACwYnA  \n",
       "3            [[0.0]]  -3g5yACwYnA  \n",
       "4            [[1.0]]  -3g5yACwYnA  \n",
       "...              ...          ...  \n",
       "16321        [[0.0]]  zwTrXwi54us  \n",
       "16322        [[0.0]]  zwTrXwi54us  \n",
       "16323  [[0.6666667]]  zwTrXwi54us  \n",
       "16324        [[1.0]]  zwTrXwi54us  \n",
       "16325        [[1.0]]  zx4W0Vuus-I  \n",
       "\n",
       "[16326 rows x 8 columns]"
      ]
     },
     "execution_count": 9,
     "metadata": {},
     "output_type": "execute_result"
    }
   ],
   "source": [
    "train_df"
   ]
  },
  {
   "cell_type": "code",
   "execution_count": 10,
   "metadata": {},
   "outputs": [],
   "source": [
    "accusticMaxTrain = train_df['acoustic'].apply(len).max()\n",
    "accusticMaxDev = dev_df['acoustic'].apply(len).max()\n",
    "accusticMaxTest = test_df['acoustic'].apply(len).max()\n",
    "visualMaxTrain = train_df['visual'].apply(len).max()\n",
    "visualMaxDev = dev_df['visual'].apply(len).max()\n",
    "visualMaxTest = test_df['visual'].apply(len).max()"
   ]
  },
  {
   "cell_type": "code",
   "execution_count": 11,
   "metadata": {},
   "outputs": [
    {
     "data": {
      "text/plain": [
       "37000"
      ]
     },
     "execution_count": 11,
     "metadata": {},
     "output_type": "execute_result"
    }
   ],
   "source": [
    "accusticMaxTrain"
   ]
  },
  {
   "cell_type": "code",
   "execution_count": 12,
   "metadata": {},
   "outputs": [
    {
     "data": {
      "text/plain": [
       "37000"
      ]
     },
     "execution_count": 12,
     "metadata": {},
     "output_type": "execute_result"
    }
   ],
   "source": [
    "accusticMaxDev"
   ]
  },
  {
   "cell_type": "code",
   "execution_count": 13,
   "metadata": {},
   "outputs": [
    {
     "data": {
      "text/plain": [
       "37000"
      ]
     },
     "execution_count": 13,
     "metadata": {},
     "output_type": "execute_result"
    }
   ],
   "source": [
    "accusticMaxTest"
   ]
  },
  {
   "cell_type": "code",
   "execution_count": 14,
   "metadata": {},
   "outputs": [
    {
     "data": {
      "text/plain": [
       "17500"
      ]
     },
     "execution_count": 14,
     "metadata": {},
     "output_type": "execute_result"
    }
   ],
   "source": [
    "visualMaxTrain"
   ]
  },
  {
   "cell_type": "code",
   "execution_count": 15,
   "metadata": {},
   "outputs": [
    {
     "data": {
      "text/plain": [
       "17500"
      ]
     },
     "execution_count": 15,
     "metadata": {},
     "output_type": "execute_result"
    }
   ],
   "source": [
    "visualMaxDev"
   ]
  },
  {
   "cell_type": "code",
   "execution_count": 16,
   "metadata": {},
   "outputs": [
    {
     "data": {
      "text/plain": [
       "17500"
      ]
     },
     "execution_count": 16,
     "metadata": {},
     "output_type": "execute_result"
    }
   ],
   "source": [
    "visualMaxTest"
   ]
  },
  {
   "cell_type": "code",
   "execution_count": 17,
   "metadata": {},
   "outputs": [],
   "source": [
    "train_df['acoustic'] = train_df['acoustic'].apply(lambda arr: arr + [0] * (accusticMaxTrain - len(arr)))\n",
    "dev_df['acoustic'] = dev_df['acoustic'].apply(lambda arr: arr + [0] * (accusticMaxDev - len(arr)))\n",
    "test_df['acoustic'] = test_df['acoustic'].apply(lambda arr: arr + [0] * (accusticMaxTest - len(arr)))\n",
    "train_df['visual'] = train_df['visual'].apply(lambda arr: arr + [0] * (visualMaxTrain - len(arr)))\n",
    "dev_df['visual'] = dev_df['visual'].apply(lambda arr: arr + [0] * (visualMaxDev - len(arr)))\n",
    "test_df['visual'] = test_df['visual'].apply(lambda arr: arr + [0] * (visualMaxTest - len(arr)))"
   ]
  },
  {
   "cell_type": "code",
   "execution_count": 18,
   "metadata": {},
   "outputs": [
    {
     "data": {
      "text/plain": [
       "(17500,)"
      ]
     },
     "execution_count": 18,
     "metadata": {},
     "output_type": "execute_result"
    }
   ],
   "source": [
    "np.shape(train_df['visual'][3])"
   ]
  },
  {
   "cell_type": "code",
   "execution_count": 19,
   "metadata": {},
   "outputs": [
    {
     "data": {
      "text/plain": [
       "0        [-1.2108299732208252, -0.46178698539733887, -0...\n",
       "1        [-1.7858200073242188, -0.6380839943885803, 0.7...\n",
       "2        [-1.7642099857330322, -0.7958599925041199, -0....\n",
       "3        [-1.2986199855804443, -0.2510870099067688, -0....\n",
       "4        [-1.6502399444580078, -0.3371959924697876, -0....\n",
       "                               ...                        \n",
       "16321    [-1.8842400312423706, -0.6028929948806763, 0.6...\n",
       "16322    [-2.153140068054199, -0.04792049899697304, -0....\n",
       "16323    [-4.401090145111084, -1.0127899646759033, -1.5...\n",
       "16324    [-2.3272500038146973, -1.1171799898147583, 0.2...\n",
       "16325    [-1.8243299722671509, -0.061710700392723083, -...\n",
       "Name: visual, Length: 16326, dtype: object"
      ]
     },
     "execution_count": 19,
     "metadata": {},
     "output_type": "execute_result"
    }
   ],
   "source": [
    "train_df['visual']"
   ]
  },
  {
   "cell_type": "code",
   "execution_count": 20,
   "metadata": {},
   "outputs": [
    {
     "name": "stdout",
     "output_type": "stream",
     "text": [
      "Overall Label Minimum: -3.0\n",
      "Overall Label Maximum: 3.0\n"
     ]
    }
   ],
   "source": [
    "all_arrays_label = np.vstack(flatten_2d_array(modelTrainData['Label_denorm']) + flatten_2d_array(modelValData['Label_denorm']) + flatten_2d_array(modelTestData['Label_denorm']))\n",
    "\n",
    "# Calculate the overall label minimum and maximum values\n",
    "label_min = np.min(all_arrays_label)\n",
    "label_max = np.max(all_arrays_label)\n",
    "\n",
    "print(\"Overall Label Minimum:\", label_min)\n",
    "print(\"Overall Label Maximum:\", label_max)"
   ]
  },
  {
   "cell_type": "code",
   "execution_count": 21,
   "metadata": {},
   "outputs": [],
   "source": [
    "# Combine all arrays into a single array\n",
    "all_arrays_visual = np.vstack([train_df['visual'].tolist()+dev_df['visual'].tolist()+test_df['visual'].tolist()])\n",
    "all_arrays_acoustic = np.vstack([train_df['acoustic'].tolist()+dev_df['acoustic'].tolist()+test_df['acoustic'].tolist()])\n",
    "\n",
    "# Calculate the overall visual minimum and maximum values\n",
    "visual_min = np.min(all_arrays_visual)\n",
    "visual_max = np.max(all_arrays_visual)\n",
    "\n",
    "# Calculate the overall acoustic minimum and maximum values\n",
    "acoustic_min = np.min(all_arrays_acoustic)\n",
    "acoustic_max = np.max(all_arrays_acoustic)"
   ]
  },
  {
   "cell_type": "code",
   "execution_count": 22,
   "metadata": {},
   "outputs": [
    {
     "name": "stdout",
     "output_type": "stream",
     "text": [
      "Overall Visual Minimum: -39.62459945678711\n",
      "Overall Visual Maximum: 31.594900131225586\n",
      "Overall Acoustic Minimum: -60.02680587768555\n",
      "Overall Acoustic Maximum: 500.0\n"
     ]
    }
   ],
   "source": [
    "print(\"Overall Visual Minimum:\", visual_min)\n",
    "print(\"Overall Visual Maximum:\", visual_max)\n",
    "\n",
    "print(\"Overall Acoustic Minimum:\", acoustic_min)\n",
    "print(\"Overall Acoustic Maximum:\", acoustic_max)\n"
   ]
  },
  {
   "cell_type": "code",
   "execution_count": 23,
   "metadata": {},
   "outputs": [],
   "source": [
    "def minmax_normalize(arr, min_val, max_val):\n",
    "    return (arr - min_val) / (max_val - min_val)\n",
    "def minmax_denormalize(arr_normalized, min_val, max_val):\n",
    "    return arr_normalized * (max_val - min_val) + min_val"
   ]
  },
  {
   "cell_type": "code",
   "execution_count": 24,
   "metadata": {},
   "outputs": [],
   "source": [
    "train_df['visual_normalized'] = [minmax_normalize(arr, visual_min, visual_max) for arr in train_df['visual']]\n",
    "dev_df['visual_normalized'] = [minmax_normalize(arr, visual_min, visual_max) for arr in dev_df['visual']]\n",
    "test_df['visual_normalized'] = [minmax_normalize(arr, visual_min, visual_max) for arr in test_df['visual']]\n",
    "\n",
    "train_df['acoustic_normalized'] = [minmax_normalize(arr, acoustic_min, acoustic_max) for arr in train_df['acoustic']]\n",
    "dev_df['acoustic_normalized'] = [minmax_normalize(arr, acoustic_min, acoustic_max) for arr in dev_df['acoustic']]\n",
    "test_df['acoustic_normalized'] = [minmax_normalize(arr, acoustic_min, acoustic_max) for arr in test_df['acoustic']]\n"
   ]
  },
  {
   "cell_type": "code",
   "execution_count": 25,
   "metadata": {},
   "outputs": [],
   "source": [
    "modelTrainData['Label'] = np.array([[minmax_normalize(arr[0], label_min, label_max)] for arr in modelTrainData['Label_denorm']])\n",
    "modelValData['Label'] = np.array([[minmax_normalize(arr[0], label_min, label_max)] for arr in modelValData['Label_denorm']])\n",
    "modelTestData['Label'] = np.array([[minmax_normalize(arr[0], label_min, label_max)] for arr in modelTestData['Label_denorm']])"
   ]
  },
  {
   "cell_type": "code",
   "execution_count": 26,
   "metadata": {},
   "outputs": [
    {
     "data": {
      "text/plain": [
       "0        [0.5393715163091639, 0.5498889025889963, 0.549...\n",
       "1        [0.5312980246751372, 0.5474134989423675, 0.566...\n",
       "2        [0.531601453114205, 0.5451981506314661, 0.5429...\n",
       "3        [0.5381388481091982, 0.552847361672666, 0.5556...\n",
       "4        [0.5332017176756568, 0.5516382969774472, 0.545...\n",
       "                               ...                        \n",
       "16321    [0.5299160994371407, 0.5479076192284054, 0.565...\n",
       "16322    [0.5261404475669739, 0.5557000426390455, 0.544...\n",
       "16323    [0.4945767593908322, 0.5421522155515138, 0.534...\n",
       "16324    [0.5236957528307333, 0.540686464939073, 0.5602...\n",
       "16325    [0.5307573024689197, 0.5555064130646238, 0.544...\n",
       "Name: visual_normalized, Length: 16326, dtype: object"
      ]
     },
     "execution_count": 26,
     "metadata": {},
     "output_type": "execute_result"
    }
   ],
   "source": [
    "train_df['visual_normalized']"
   ]
  },
  {
   "cell_type": "code",
   "execution_count": 27,
   "metadata": {},
   "outputs": [
    {
     "data": {
      "text/plain": [
       "0        [-1.2108299732208252, -0.46178698539733887, -0...\n",
       "1        [-1.7858200073242188, -0.6380839943885803, 0.7...\n",
       "2        [-1.7642099857330322, -0.7958599925041199, -0....\n",
       "3        [-1.2986199855804443, -0.2510870099067688, -0....\n",
       "4        [-1.6502399444580078, -0.3371959924697876, -0....\n",
       "                               ...                        \n",
       "16321    [-1.8842400312423706, -0.6028929948806763, 0.6...\n",
       "16322    [-2.153140068054199, -0.04792049899697304, -0....\n",
       "16323    [-4.401090145111084, -1.0127899646759033, -1.5...\n",
       "16324    [-2.3272500038146973, -1.1171799898147583, 0.2...\n",
       "16325    [-1.8243299722671509, -0.061710700392723083, -...\n",
       "Name: visual, Length: 16326, dtype: object"
      ]
     },
     "execution_count": 27,
     "metadata": {},
     "output_type": "execute_result"
    }
   ],
   "source": [
    "train_df['visual']"
   ]
  },
  {
   "cell_type": "code",
   "execution_count": 28,
   "metadata": {},
   "outputs": [
    {
     "data": {
      "text/plain": [
       "array([[0.6666667],\n",
       "       [0.6111111],\n",
       "       [0.5      ],\n",
       "       ...,\n",
       "       [0.6111111],\n",
       "       [0.6666667],\n",
       "       [0.6666667]], dtype=float32)"
      ]
     },
     "execution_count": 28,
     "metadata": {},
     "output_type": "execute_result"
    }
   ],
   "source": [
    "modelTrainData['Label']"
   ]
  },
  {
   "cell_type": "code",
   "execution_count": 29,
   "metadata": {},
   "outputs": [
    {
     "data": {
      "text/html": [
       "<div>\n",
       "<style scoped>\n",
       "    .dataframe tbody tr th:only-of-type {\n",
       "        vertical-align: middle;\n",
       "    }\n",
       "\n",
       "    .dataframe tbody tr th {\n",
       "        vertical-align: top;\n",
       "    }\n",
       "\n",
       "    .dataframe thead th {\n",
       "        text-align: right;\n",
       "    }\n",
       "</style>\n",
       "<table border=\"1\" class=\"dataframe\">\n",
       "  <thead>\n",
       "    <tr style=\"text-align: right;\">\n",
       "      <th></th>\n",
       "      <th>words</th>\n",
       "      <th>visual</th>\n",
       "      <th>acoustic</th>\n",
       "      <th>actual_words</th>\n",
       "      <th>_vlen</th>\n",
       "      <th>_alen</th>\n",
       "      <th>_label</th>\n",
       "      <th>idd</th>\n",
       "      <th>visual_normalized</th>\n",
       "      <th>acoustic_normalized</th>\n",
       "    </tr>\n",
       "  </thead>\n",
       "  <tbody>\n",
       "    <tr>\n",
       "      <th>0</th>\n",
       "      <td>Key is part of the people that we use to solve...</td>\n",
       "      <td>[-1.2108299732208252, -0.46178698539733887, -0...</td>\n",
       "      <td>[194.5, 0.0, 0.07899338752031326, 0.4129735529...</td>\n",
       "      <td>[Key, is, part, of, the, people, that, we, use...</td>\n",
       "      <td>267</td>\n",
       "      <td>356</td>\n",
       "      <td>[[1.0]]</td>\n",
       "      <td>-3g5yACwYnA</td>\n",
       "      <td>[0.5393715163091639, 0.5498889025889963, 0.549...</td>\n",
       "      <td>[0.45449039797083624, 0.10718559406028842, 0.1...</td>\n",
       "    </tr>\n",
       "    <tr>\n",
       "      <th>1</th>\n",
       "      <td>They've been able to find solutions or at leas...</td>\n",
       "      <td>[-1.7858200073242188, -0.6380839943885803, 0.7...</td>\n",
       "      <td>[105.5, 1.0, 0.021022265776991844, 0.085999622...</td>\n",
       "      <td>[They've, been, able, to, find, solutions, or,...</td>\n",
       "      <td>81</td>\n",
       "      <td>107</td>\n",
       "      <td>[[0.6666667]]</td>\n",
       "      <td>-3g5yACwYnA</td>\n",
       "      <td>[0.5312980246751372, 0.5474134989423675, 0.566...</td>\n",
       "      <td>[0.2955694337135676, 0.10897122287216784, 0.10...</td>\n",
       "    </tr>\n",
       "    <tr>\n",
       "      <th>2</th>\n",
       "      <td>We're a huge user of adhesives for our operati...</td>\n",
       "      <td>[-1.7642099857330322, -0.7958599925041199, -0....</td>\n",
       "      <td>[106.5, 1.0, 0.11148008704185486, 0.7265436649...</td>\n",
       "      <td>[We're, a, huge, user, of, adhesives, for, our...</td>\n",
       "      <td>215</td>\n",
       "      <td>286</td>\n",
       "      <td>[[0.0]]</td>\n",
       "      <td>-3g5yACwYnA</td>\n",
       "      <td>[0.531601453114205, 0.5451981506314661, 0.5429...</td>\n",
       "      <td>[0.29735506252544697, 0.10897122287216784, 0.1...</td>\n",
       "    </tr>\n",
       "    <tr>\n",
       "      <th>3</th>\n",
       "      <td>Key Polymer brings a technical aspect to our o...</td>\n",
       "      <td>[-1.2986199855804443, -0.2510870099067688, -0....</td>\n",
       "      <td>[115.5, 1.0, 0.057251088321208954, 0.338753223...</td>\n",
       "      <td>[Key, Polymer, brings, a, technical, aspect, t...</td>\n",
       "      <td>138</td>\n",
       "      <td>184</td>\n",
       "      <td>[[0.0]]</td>\n",
       "      <td>-3g5yACwYnA</td>\n",
       "      <td>[0.5381388481091982, 0.552847361672666, 0.5556...</td>\n",
       "      <td>[0.3134257218323618, 0.10897122287216784, 0.10...</td>\n",
       "    </tr>\n",
       "    <tr>\n",
       "      <th>4</th>\n",
       "      <td>Key brings those types of aspects to a busines...</td>\n",
       "      <td>[-1.6502399444580078, -0.3371959924697876, -0....</td>\n",
       "      <td>[100.5, 1.0, 0.14517584443092346, 0.6751161813...</td>\n",
       "      <td>[Key, brings, those, types, of, aspects, to, a...</td>\n",
       "      <td>221</td>\n",
       "      <td>295</td>\n",
       "      <td>[[1.0]]</td>\n",
       "      <td>-3g5yACwYnA</td>\n",
       "      <td>[0.5332017176756568, 0.5516382969774472, 0.545...</td>\n",
       "      <td>[0.28664128965417046, 0.10897122287216784, 0.1...</td>\n",
       "    </tr>\n",
       "    <tr>\n",
       "      <th>...</th>\n",
       "      <td>...</td>\n",
       "      <td>...</td>\n",
       "      <td>...</td>\n",
       "      <td>...</td>\n",
       "      <td>...</td>\n",
       "      <td>...</td>\n",
       "      <td>...</td>\n",
       "      <td>...</td>\n",
       "      <td>...</td>\n",
       "      <td>...</td>\n",
       "    </tr>\n",
       "    <tr>\n",
       "      <th>16321</th>\n",
       "      <td>I read other articles, what other trainers in ...</td>\n",
       "      <td>[-1.8842400312423706, -0.6028929948806763, 0.6...</td>\n",
       "      <td>[127.5, 1.0, 0.11853820085525513, 0.7205798625...</td>\n",
       "      <td>[I, read, other, articles,, what, other, train...</td>\n",
       "      <td>72</td>\n",
       "      <td>103</td>\n",
       "      <td>[[0.0]]</td>\n",
       "      <td>zwTrXwi54us</td>\n",
       "      <td>[0.5299160994371407, 0.5479076192284054, 0.565...</td>\n",
       "      <td>[0.33485326757491485, 0.10897122287216784, 0.1...</td>\n",
       "    </tr>\n",
       "    <tr>\n",
       "      <th>16322</th>\n",
       "      <td>I do all of that</td>\n",
       "      <td>[-2.153140068054199, -0.04792049899697304, -0....</td>\n",
       "      <td>[129.5, 1.0, 0.1991356760263443, 0.69459003210...</td>\n",
       "      <td>[I, do, all, of, that]</td>\n",
       "      <td>28</td>\n",
       "      <td>37</td>\n",
       "      <td>[[0.0]]</td>\n",
       "      <td>zwTrXwi54us</td>\n",
       "      <td>[0.5261404475669739, 0.5557000426390455, 0.544...</td>\n",
       "      <td>[0.3384245251986737, 0.10897122287216784, 0.10...</td>\n",
       "    </tr>\n",
       "    <tr>\n",
       "      <th>16323</th>\n",
       "      <td>Now, if this sounds like something you're inte...</td>\n",
       "      <td>[-4.401090145111084, -1.0127899646759033, -1.5...</td>\n",
       "      <td>[188.5, 0.0, 0.05910159647464752, 0.3314844667...</td>\n",
       "      <td>[Now,, if, this, sounds, like, something, you'...</td>\n",
       "      <td>163</td>\n",
       "      <td>227</td>\n",
       "      <td>[[0.6666667]]</td>\n",
       "      <td>zwTrXwi54us</td>\n",
       "      <td>[0.4945767593908322, 0.5421522155515138, 0.534...</td>\n",
       "      <td>[0.4437766250995597, 0.10718559406028842, 0.10...</td>\n",
       "    </tr>\n",
       "    <tr>\n",
       "      <th>16324</th>\n",
       "      <td>I actually speak to the experts myself to give...</td>\n",
       "      <td>[-2.3272500038146973, -1.1171799898147583, 0.2...</td>\n",
       "      <td>[133.0, 0.0, 0.027281710878014565, 0.076646529...</td>\n",
       "      <td>[I, actually, speak, to, the, experts, myself,...</td>\n",
       "      <td>80</td>\n",
       "      <td>106</td>\n",
       "      <td>[[1.0]]</td>\n",
       "      <td>zwTrXwi54us</td>\n",
       "      <td>[0.5236957528307333, 0.540686464939073, 0.5602...</td>\n",
       "      <td>[0.3446742260402517, 0.10718559406028842, 0.10...</td>\n",
       "    </tr>\n",
       "    <tr>\n",
       "      <th>16325</th>\n",
       "      <td>And we’ve seen some programs, we’ve seen progr...</td>\n",
       "      <td>[-1.8243299722671509, -0.061710700392723083, -...</td>\n",
       "      <td>[116.5, 1.0, 0.17489837110042572, 0.5657545924...</td>\n",
       "      <td>[And, we’ve, seen, some, programs,, we’ve, see...</td>\n",
       "      <td>349</td>\n",
       "      <td>465</td>\n",
       "      <td>[[1.0]]</td>\n",
       "      <td>zx4W0Vuus-I</td>\n",
       "      <td>[0.5307573024689197, 0.5555064130646238, 0.544...</td>\n",
       "      <td>[0.3152113506442412, 0.10897122287216784, 0.10...</td>\n",
       "    </tr>\n",
       "  </tbody>\n",
       "</table>\n",
       "<p>16326 rows × 10 columns</p>\n",
       "</div>"
      ],
      "text/plain": [
       "                                                   words  \\\n",
       "0      Key is part of the people that we use to solve...   \n",
       "1      They've been able to find solutions or at leas...   \n",
       "2      We're a huge user of adhesives for our operati...   \n",
       "3      Key Polymer brings a technical aspect to our o...   \n",
       "4      Key brings those types of aspects to a busines...   \n",
       "...                                                  ...   \n",
       "16321  I read other articles, what other trainers in ...   \n",
       "16322                                   I do all of that   \n",
       "16323  Now, if this sounds like something you're inte...   \n",
       "16324  I actually speak to the experts myself to give...   \n",
       "16325  And we’ve seen some programs, we’ve seen progr...   \n",
       "\n",
       "                                                  visual  \\\n",
       "0      [-1.2108299732208252, -0.46178698539733887, -0...   \n",
       "1      [-1.7858200073242188, -0.6380839943885803, 0.7...   \n",
       "2      [-1.7642099857330322, -0.7958599925041199, -0....   \n",
       "3      [-1.2986199855804443, -0.2510870099067688, -0....   \n",
       "4      [-1.6502399444580078, -0.3371959924697876, -0....   \n",
       "...                                                  ...   \n",
       "16321  [-1.8842400312423706, -0.6028929948806763, 0.6...   \n",
       "16322  [-2.153140068054199, -0.04792049899697304, -0....   \n",
       "16323  [-4.401090145111084, -1.0127899646759033, -1.5...   \n",
       "16324  [-2.3272500038146973, -1.1171799898147583, 0.2...   \n",
       "16325  [-1.8243299722671509, -0.061710700392723083, -...   \n",
       "\n",
       "                                                acoustic  \\\n",
       "0      [194.5, 0.0, 0.07899338752031326, 0.4129735529...   \n",
       "1      [105.5, 1.0, 0.021022265776991844, 0.085999622...   \n",
       "2      [106.5, 1.0, 0.11148008704185486, 0.7265436649...   \n",
       "3      [115.5, 1.0, 0.057251088321208954, 0.338753223...   \n",
       "4      [100.5, 1.0, 0.14517584443092346, 0.6751161813...   \n",
       "...                                                  ...   \n",
       "16321  [127.5, 1.0, 0.11853820085525513, 0.7205798625...   \n",
       "16322  [129.5, 1.0, 0.1991356760263443, 0.69459003210...   \n",
       "16323  [188.5, 0.0, 0.05910159647464752, 0.3314844667...   \n",
       "16324  [133.0, 0.0, 0.027281710878014565, 0.076646529...   \n",
       "16325  [116.5, 1.0, 0.17489837110042572, 0.5657545924...   \n",
       "\n",
       "                                            actual_words  _vlen  _alen  \\\n",
       "0      [Key, is, part, of, the, people, that, we, use...    267    356   \n",
       "1      [They've, been, able, to, find, solutions, or,...     81    107   \n",
       "2      [We're, a, huge, user, of, adhesives, for, our...    215    286   \n",
       "3      [Key, Polymer, brings, a, technical, aspect, t...    138    184   \n",
       "4      [Key, brings, those, types, of, aspects, to, a...    221    295   \n",
       "...                                                  ...    ...    ...   \n",
       "16321  [I, read, other, articles,, what, other, train...     72    103   \n",
       "16322                             [I, do, all, of, that]     28     37   \n",
       "16323  [Now,, if, this, sounds, like, something, you'...    163    227   \n",
       "16324  [I, actually, speak, to, the, experts, myself,...     80    106   \n",
       "16325  [And, we’ve, seen, some, programs,, we’ve, see...    349    465   \n",
       "\n",
       "              _label          idd  \\\n",
       "0            [[1.0]]  -3g5yACwYnA   \n",
       "1      [[0.6666667]]  -3g5yACwYnA   \n",
       "2            [[0.0]]  -3g5yACwYnA   \n",
       "3            [[0.0]]  -3g5yACwYnA   \n",
       "4            [[1.0]]  -3g5yACwYnA   \n",
       "...              ...          ...   \n",
       "16321        [[0.0]]  zwTrXwi54us   \n",
       "16322        [[0.0]]  zwTrXwi54us   \n",
       "16323  [[0.6666667]]  zwTrXwi54us   \n",
       "16324        [[1.0]]  zwTrXwi54us   \n",
       "16325        [[1.0]]  zx4W0Vuus-I   \n",
       "\n",
       "                                       visual_normalized  \\\n",
       "0      [0.5393715163091639, 0.5498889025889963, 0.549...   \n",
       "1      [0.5312980246751372, 0.5474134989423675, 0.566...   \n",
       "2      [0.531601453114205, 0.5451981506314661, 0.5429...   \n",
       "3      [0.5381388481091982, 0.552847361672666, 0.5556...   \n",
       "4      [0.5332017176756568, 0.5516382969774472, 0.545...   \n",
       "...                                                  ...   \n",
       "16321  [0.5299160994371407, 0.5479076192284054, 0.565...   \n",
       "16322  [0.5261404475669739, 0.5557000426390455, 0.544...   \n",
       "16323  [0.4945767593908322, 0.5421522155515138, 0.534...   \n",
       "16324  [0.5236957528307333, 0.540686464939073, 0.5602...   \n",
       "16325  [0.5307573024689197, 0.5555064130646238, 0.544...   \n",
       "\n",
       "                                     acoustic_normalized  \n",
       "0      [0.45449039797083624, 0.10718559406028842, 0.1...  \n",
       "1      [0.2955694337135676, 0.10897122287216784, 0.10...  \n",
       "2      [0.29735506252544697, 0.10897122287216784, 0.1...  \n",
       "3      [0.3134257218323618, 0.10897122287216784, 0.10...  \n",
       "4      [0.28664128965417046, 0.10897122287216784, 0.1...  \n",
       "...                                                  ...  \n",
       "16321  [0.33485326757491485, 0.10897122287216784, 0.1...  \n",
       "16322  [0.3384245251986737, 0.10897122287216784, 0.10...  \n",
       "16323  [0.4437766250995597, 0.10718559406028842, 0.10...  \n",
       "16324  [0.3446742260402517, 0.10718559406028842, 0.10...  \n",
       "16325  [0.3152113506442412, 0.10897122287216784, 0.10...  \n",
       "\n",
       "[16326 rows x 10 columns]"
      ]
     },
     "execution_count": 29,
     "metadata": {},
     "output_type": "execute_result"
    }
   ],
   "source": [
    "train_df"
   ]
  },
  {
   "cell_type": "code",
   "execution_count": 30,
   "metadata": {},
   "outputs": [],
   "source": [
    "import numpy as np\n",
    "import tensorflow as tf\n",
    "\n",
    "class Create_audio_autoencoder(tf.keras.models.Model):\n",
    "    def __init__(self):\n",
    "\n",
    "        super(Create_audio_autoencoder, self).__init__()\n",
    "\n",
    "        self.encoder = tf.keras.Sequential([\n",
    "            tf.keras.layers.Input(shape=(37000,)),\n",
    "            tf.keras.layers.Dense(18500, activation='sigmoid'),\n",
    "            # tf.keras.layers.Dense(9250, activation='relu')\n",
    "        ])\n",
    "\n",
    "        self.decoder = tf.keras.Sequential([\n",
    "            # tf.keras.layers.Dense(18500, activation='relu'),\n",
    "            tf.keras.layers.Dense(37000, activation='sigmoid')\n",
    "        ])\n",
    "    \n",
    "    def call(self, x):\n",
    "        encoded = self.encoder(x)\n",
    "        decoded = self.decoder(encoded)\n",
    "        \n",
    "        return decoded\n",
    "\n",
    "class Create_visual_autoencoder(tf.keras.models.Model):\n",
    "    def __init__(self):\n",
    "\n",
    "        super(Create_visual_autoencoder, self).__init__()\n",
    "\n",
    "        self.encoder = tf.keras.Sequential([\n",
    "            tf.keras.layers.Input(shape=(17500,)),\n",
    "            tf.keras.layers.Dense(8750, activation='relu'),\n",
    "            # tf.keras.layers.Dense(4375, activation='relu')\n",
    "        ])\n",
    "\n",
    "        self.decoder = tf.keras.Sequential([\n",
    "            # tf.keras.layers.Dense(8750, activation='relu'),\n",
    "            tf.keras.layers.Dense(17500, activation='sigmoid')\n",
    "        ])\n",
    "    \n",
    "    def call(self, x):\n",
    "        encoded = self.encoder(x)\n",
    "        decoded = self.decoder(encoded)\n",
    "        \n",
    "        return decoded\n",
    "        \n",
    "# Create autoencoders\n",
    "audio_autoencoder = Create_audio_autoencoder()\n",
    "visual_autoencoder = Create_visual_autoencoder()\n"
   ]
  },
  {
   "cell_type": "code",
   "execution_count": 31,
   "metadata": {},
   "outputs": [],
   "source": [
    "# Convert DataFrame columns to TensorFlow tensors\n",
    "train_acoustic_normalized = tf.convert_to_tensor(train_df['acoustic_normalized'].tolist(), dtype=tf.float32)\n",
    "dev_acoustic_normalized = tf.convert_to_tensor(dev_df['acoustic_normalized'].tolist(), dtype=tf.float32)\n"
   ]
  },
  {
   "cell_type": "code",
   "execution_count": 38,
   "metadata": {},
   "outputs": [],
   "source": [
    "audio_autoencoder.build((None, 37000))\n",
    "visual_autoencoder.build((None, 17500))"
   ]
  },
  {
   "cell_type": "code",
   "execution_count": 39,
   "metadata": {},
   "outputs": [],
   "source": [
    "# Compile audio autoencoder\n",
    "audio_autoencoder.compile(optimizer='adam', loss='mean_squared_error',metrics=['mean_absolute_error'])"
   ]
  },
  {
   "cell_type": "code",
   "execution_count": 33,
   "metadata": {},
   "outputs": [
    {
     "name": "stderr",
     "output_type": "stream",
     "text": [
      "2023-08-27 03:18:51.579634: W tensorflow/core/platform/profile_utils/cpu_utils.cc:128] Failed to get CPU frequency: 0 Hz\n",
      "2023-08-27 03:18:54.481447: I tensorflow/core/grappler/optimizers/custom_graph_optimizer_registry.cc:113] Plugin optimizer for device_type GPU is enabled.\n"
     ]
    },
    {
     "name": "stdout",
     "output_type": "stream",
     "text": [
      " 67/511 [==>...........................] - ETA: 3:09 - loss: 0.1132 - mean_absolute_error: 0.3074"
     ]
    }
   ],
   "source": [
    "\n",
    "# Train visual autoencoder\n",
    "audio_autoencoder.fit(\n",
    "    train_acoustic_normalized,\n",
    "    train_acoustic_normalized,\n",
    "    epochs=1,\n",
    "    batch_size=32,\n",
    "    shuffle=True,\n",
    "    validation_data=(dev_acoustic_normalized, dev_acoustic_normalized)\n",
    ")\n"
   ]
  },
  {
   "cell_type": "code",
   "execution_count": null,
   "metadata": {},
   "outputs": [],
   "source": [
    "audio_autoencoder.save_weights('audio_autoencoder.h5')"
   ]
  },
  {
   "cell_type": "code",
   "execution_count": 40,
   "metadata": {},
   "outputs": [],
   "source": [
    "audio_autoencoder.load_weights('audio_autoencoder.h5')"
   ]
  },
  {
   "cell_type": "code",
   "execution_count": 41,
   "metadata": {},
   "outputs": [],
   "source": [
    "# Convert DataFrame columns to TensorFlow tensors\n",
    "train_visual_normalized = tf.convert_to_tensor(train_df['visual_normalized'].tolist(), dtype=tf.float32)\n",
    "dev_visual_normalized = tf.convert_to_tensor(dev_df['visual_normalized'].tolist(), dtype=tf.float32)\n"
   ]
  },
  {
   "cell_type": "code",
   "execution_count": 42,
   "metadata": {},
   "outputs": [],
   "source": [
    "# compiling visual autoencoder\n",
    "visual_autoencoder.compile(optimizer='adam', loss='mean_squared_error',metrics=['mean_absolute_error'])"
   ]
  },
  {
   "cell_type": "code",
   "execution_count": null,
   "metadata": {},
   "outputs": [
    {
     "name": "stdout",
     "output_type": "stream",
     "text": [
      "Epoch 1/10\n"
     ]
    },
    {
     "name": "stderr",
     "output_type": "stream",
     "text": [
      "2023-08-23 20:26:28.169421: I tensorflow/core/grappler/optimizers/custom_graph_optimizer_registry.cc:113] Plugin optimizer for device_type GPU is enabled.\n"
     ]
    },
    {
     "name": "stdout",
     "output_type": "stream",
     "text": [
      "511/511 [==============================] - ETA: 0s - loss: 4.2369e-04 - accuracy: 8.5753e-04 - mean_absolute_error: 0.0079"
     ]
    },
    {
     "name": "stderr",
     "output_type": "stream",
     "text": [
      "2023-08-23 20:27:22.033603: I tensorflow/core/grappler/optimizers/custom_graph_optimizer_registry.cc:113] Plugin optimizer for device_type GPU is enabled.\n"
     ]
    },
    {
     "name": "stdout",
     "output_type": "stream",
     "text": [
      "511/511 [==============================] - 55s 107ms/step - loss: 4.2369e-04 - accuracy: 8.5753e-04 - mean_absolute_error: 0.0079 - val_loss: 2.9457e-04 - val_accuracy: 0.0027 - val_mean_absolute_error: 0.0062\n",
      "Epoch 2/10\n",
      "511/511 [==============================] - 53s 104ms/step - loss: 2.7452e-04 - accuracy: 0.0014 - mean_absolute_error: 0.0061 - val_loss: 2.8288e-04 - val_accuracy: 5.3447e-04 - val_mean_absolute_error: 0.0062\n",
      "Epoch 3/10\n",
      "511/511 [==============================] - 53s 104ms/step - loss: 2.5215e-04 - accuracy: 0.0033 - mean_absolute_error: 0.0061 - val_loss: 2.3202e-04 - val_accuracy: 0.0059 - val_mean_absolute_error: 0.0056\n",
      "Epoch 4/10\n",
      "511/511 [==============================] - 54s 105ms/step - loss: 2.2702e-04 - accuracy: 0.0076 - mean_absolute_error: 0.0057 - val_loss: 2.2207e-04 - val_accuracy: 0.0080 - val_mean_absolute_error: 0.0057\n",
      "Epoch 5/10\n",
      "511/511 [==============================] - 53s 103ms/step - loss: 2.2607e-04 - accuracy: 0.0058 - mean_absolute_error: 0.0059 - val_loss: 2.3423e-04 - val_accuracy: 0.0059 - val_mean_absolute_error: 0.0075\n",
      "Epoch 6/10\n",
      "511/511 [==============================] - 53s 104ms/step - loss: 2.2454e-04 - accuracy: 0.0067 - mean_absolute_error: 0.0060 - val_loss: 2.2187e-04 - val_accuracy: 0.0080 - val_mean_absolute_error: 0.0061\n",
      "Epoch 7/10\n",
      "511/511 [==============================] - 53s 104ms/step - loss: 2.2293e-04 - accuracy: 0.0064 - mean_absolute_error: 0.0059 - val_loss: 2.1639e-04 - val_accuracy: 0.0075 - val_mean_absolute_error: 0.0057\n",
      "Epoch 8/10\n",
      "511/511 [==============================] - 53s 105ms/step - loss: 2.2235e-04 - accuracy: 0.0063 - mean_absolute_error: 0.0059 - val_loss: 2.2232e-04 - val_accuracy: 0.0059 - val_mean_absolute_error: 0.0060\n",
      "Epoch 9/10\n",
      "511/511 [==============================] - 52s 103ms/step - loss: 2.2079e-04 - accuracy: 0.0056 - mean_absolute_error: 0.0059 - val_loss: 2.2113e-04 - val_accuracy: 0.0075 - val_mean_absolute_error: 0.0063\n",
      "Epoch 10/10\n",
      "511/511 [==============================] - 53s 104ms/step - loss: 2.1963e-04 - accuracy: 0.0056 - mean_absolute_error: 0.0059 - val_loss: 2.1399e-04 - val_accuracy: 0.0048 - val_mean_absolute_error: 0.0059\n"
     ]
    },
    {
     "data": {
      "text/plain": [
       "<keras.callbacks.History at 0x7cd2085580>"
      ]
     },
     "execution_count": 70,
     "metadata": {},
     "output_type": "execute_result"
    }
   ],
   "source": [
    "# Train acustic autoencoders\n",
    "visual_autoencoder.fit(\n",
    "    train_visual_normalized,\n",
    "    train_visual_normalized,\n",
    "    epochs=10,\n",
    "    batch_size=32,\n",
    "    shuffle=True,\n",
    "    validation_data=(dev_visual_normalized, dev_visual_normalized)\n",
    ")"
   ]
  },
  {
   "cell_type": "code",
   "execution_count": null,
   "metadata": {},
   "outputs": [],
   "source": [
    "visual_autoencoder.save_weights('visual_autoencoder.h5')"
   ]
  },
  {
   "cell_type": "code",
   "execution_count": 43,
   "metadata": {},
   "outputs": [],
   "source": [
    "visual_autoencoder.load_weights('visual_autoencoder.h5')"
   ]
  },
  {
   "cell_type": "code",
   "execution_count": 44,
   "metadata": {},
   "outputs": [],
   "source": [
    "# Convert DataFrame columns to TensorFlow tensors\n",
    "\n",
    "test_acoustic_normalized = tf.convert_to_tensor(test_df['acoustic_normalized'].tolist(), dtype=tf.float32)\n",
    "test_visual_normalized = tf.convert_to_tensor(test_df['visual_normalized'].tolist(), dtype=tf.float32)\n"
   ]
  },
  {
   "cell_type": "code",
   "execution_count": 47,
   "metadata": {},
   "outputs": [
    {
     "name": "stdout",
     "output_type": "stream",
     "text": [
      "146/146 [==============================] - 2s 17ms/step\n",
      "Mean Squared Error: 0.00021735395\n",
      "Mean Absolute Error: 0.005861344\n"
     ]
    }
   ],
   "source": [
    "from sklearn.metrics import mean_squared_error, mean_absolute_error, accuracy_score, f1_score\n",
    "\n",
    "visual_autoencoder_predictions = visual_autoencoder.predict(test_visual_normalized)\n",
    "visual_mse = mean_squared_error(test_visual_normalized, visual_autoencoder_predictions)\n",
    "visual_mae = mean_absolute_error(test_visual_normalized, visual_autoencoder_predictions)\n",
    "\n",
    "print(\"Mean Squared Error:\", visual_mse)\n",
    "print(\"Mean Absolute Error:\", visual_mae)"
   ]
  },
  {
   "cell_type": "code",
   "execution_count": 48,
   "metadata": {},
   "outputs": [
    {
     "data": {
      "text/plain": [
       "array([[0.5277634 , 0.5391883 , 0.54541576, ..., 0.5560055 , 0.55774456,\n",
       "        0.55709016],\n",
       "       [0.53049886, 0.5415843 , 0.5477496 , ..., 0.55775976, 0.5594362 ,\n",
       "        0.558759  ],\n",
       "       [0.52945   , 0.5405634 , 0.5467851 , ..., 0.55703825, 0.5587172 ,\n",
       "        0.5580613 ],\n",
       "       ...,\n",
       "       [0.5283435 , 0.53818566, 0.54488134, ..., 0.5556544 , 0.5570629 ,\n",
       "        0.55658996],\n",
       "       [0.5260107 , 0.5331684 , 0.54086465, ..., 0.552735  , 0.5535721 ,\n",
       "        0.55348563],\n",
       "       [0.52803427, 0.5369292 , 0.543946  , ..., 0.5549844 , 0.556193  ,\n",
       "        0.5558442 ]], dtype=float32)"
      ]
     },
     "execution_count": 48,
     "metadata": {},
     "output_type": "execute_result"
    }
   ],
   "source": [
    "visual_autoencoder_predictions"
   ]
  },
  {
   "cell_type": "code",
   "execution_count": 49,
   "metadata": {},
   "outputs": [
    {
     "data": {
      "text/plain": [
       "<tf.Tensor: shape=(4659, 17500), dtype=float32, numpy=\n",
       "array([[0.5563729 , 0.5563729 , 0.5563729 , ..., 0.5563729 , 0.5563729 ,\n",
       "        0.5563729 ],\n",
       "       [0.5711742 , 0.5437265 , 0.54679555, ..., 0.5563729 , 0.5563729 ,\n",
       "        0.5563729 ],\n",
       "       [0.54695755, 0.57714516, 0.53652537, ..., 0.5563729 , 0.5563729 ,\n",
       "        0.5563729 ],\n",
       "       ...,\n",
       "       [0.49155146, 0.49578163, 0.5142577 , ..., 0.5563729 , 0.5563729 ,\n",
       "        0.5563729 ],\n",
       "       [0.4790709 , 0.43330434, 0.5136048 , ..., 0.5563729 , 0.5563729 ,\n",
       "        0.5563729 ],\n",
       "       [0.5080169 , 0.44718552, 0.5561996 , ..., 0.5563729 , 0.5563729 ,\n",
       "        0.5563729 ]], dtype=float32)>"
      ]
     },
     "execution_count": 49,
     "metadata": {},
     "output_type": "execute_result"
    }
   ],
   "source": [
    "test_visual_normalized"
   ]
  },
  {
   "cell_type": "code",
   "execution_count": 50,
   "metadata": {},
   "outputs": [
    {
     "name": "stdout",
     "output_type": "stream",
     "text": [
      "  1/146 [..............................] - ETA: 12s"
     ]
    },
    {
     "name": "stderr",
     "output_type": "stream",
     "text": [
      "2023-08-27 03:30:16.042913: I tensorflow/core/grappler/optimizers/custom_graph_optimizer_registry.cc:113] Plugin optimizer for device_type GPU is enabled.\n"
     ]
    },
    {
     "name": "stdout",
     "output_type": "stream",
     "text": [
      "146/146 [==============================] - 12s 79ms/step\n",
      "Mean Squared Error: 0.0026780884\n",
      "Mean Absolute Error: 0.0267388\n"
     ]
    }
   ],
   "source": [
    "\n",
    "acustic_autoencoder_predictions = audio_autoencoder.predict(test_acoustic_normalized)\n",
    "acustic_mse = mean_squared_error(test_acoustic_normalized, acustic_autoencoder_predictions)\n",
    "acustic_mae = mean_absolute_error(test_acoustic_normalized, acustic_autoencoder_predictions)\n",
    "\n",
    "print(\"Mean Squared Error:\", acustic_mse)\n",
    "print(\"Mean Absolute Error:\", acustic_mae)"
   ]
  },
  {
   "cell_type": "code",
   "execution_count": 51,
   "metadata": {},
   "outputs": [
    {
     "data": {
      "text/plain": [
       "<tf.Tensor: shape=(4659, 37000), dtype=float32, numpy=\n",
       "array([[0.3928862 , 0.10718559, 0.10721393, ..., 0.10718559, 0.10718559,\n",
       "        0.10718559],\n",
       "       [0.2803916 , 0.10897122, 0.10723966, ..., 0.10718559, 0.10718559,\n",
       "        0.10718559],\n",
       "       [0.30181915, 0.10718559, 0.10718559, ..., 0.10718559, 0.10718559,\n",
       "        0.10718559],\n",
       "       ...,\n",
       "       [0.66162336, 0.10718559, 0.10736787, ..., 0.10718559, 0.10718559,\n",
       "        0.10718559],\n",
       "       [0.5750203 , 0.10897122, 0.10751038, ..., 0.10718559, 0.10718559,\n",
       "        0.10718559],\n",
       "       [0.750012  , 0.10897122, 0.10725091, ..., 0.10718559, 0.10718559,\n",
       "        0.10718559]], dtype=float32)>"
      ]
     },
     "execution_count": 51,
     "metadata": {},
     "output_type": "execute_result"
    }
   ],
   "source": [
    "test_acoustic_normalized"
   ]
  },
  {
   "cell_type": "code",
   "execution_count": 52,
   "metadata": {},
   "outputs": [
    {
     "data": {
      "text/plain": [
       "array([[2.57759750e-01, 1.19529446e-07, 2.63436721e-08, ...,\n",
       "        1.09322719e-01, 1.06109597e-01, 1.05204798e-01],\n",
       "       [2.33680144e-01, 1.18624257e-07, 2.62066049e-08, ...,\n",
       "        1.08811311e-01, 1.05882972e-01, 1.05136178e-01],\n",
       "       [2.42503315e-01, 1.17011687e-07, 2.61683439e-08, ...,\n",
       "        1.06735349e-01, 1.06527776e-01, 1.04344755e-01],\n",
       "       ...,\n",
       "       [5.59828579e-01, 1.26736097e-07, 2.86295645e-08, ...,\n",
       "        1.07545145e-01, 1.07920744e-01, 1.07943691e-01],\n",
       "       [4.23325241e-01, 1.22470240e-07, 2.72850365e-08, ...,\n",
       "        1.09382607e-01, 1.05654359e-01, 1.08239017e-01],\n",
       "       [4.39187378e-01, 1.25476930e-07, 2.82064629e-08, ...,\n",
       "        1.07135370e-01, 1.07630871e-01, 1.06306113e-01]], dtype=float32)"
      ]
     },
     "execution_count": 52,
     "metadata": {},
     "output_type": "execute_result"
    }
   ],
   "source": [
    "acustic_autoencoder_predictions"
   ]
  },
  {
   "cell_type": "code",
   "execution_count": 53,
   "metadata": {},
   "outputs": [
    {
     "data": {
      "text/plain": [
       "<tf.Tensor: shape=(37000,), dtype=float32, numpy=\n",
       "array([0.4544904 , 0.10718559, 0.10732665, ..., 0.10718559, 0.10718559,\n",
       "       0.10718559], dtype=float32)>"
      ]
     },
     "execution_count": 53,
     "metadata": {},
     "output_type": "execute_result"
    }
   ],
   "source": [
    "train_acoustic_normalized[0]"
   ]
  },
  {
   "cell_type": "code",
   "execution_count": 54,
   "metadata": {},
   "outputs": [
    {
     "name": "stdout",
     "output_type": "stream",
     "text": [
      "Encoded Audio Data Shape: (16326, 18500)\n",
      "Encoded Visual Data Shape: (16326, 8750)\n"
     ]
    }
   ],
   "source": [
    "# audio_encoder = tf.keras.models.Model(inputs=audio_autoencoder.input, outputs=audio_autoencoder.layers[2].output)\n",
    "# visual_encoder = tf.keras.models.Model(inputs=visual_autoencoder.input, outputs=visual_autoencoder.layers[2].output)\n",
    "\n",
    "# Predict encoded values\n",
    "encoded_audio_data_train = audio_autoencoder.encoder(train_acoustic_normalized)\n",
    "encoded_visual_data_train = visual_autoencoder.encoder(train_visual_normalized)\n",
    "\n",
    "print(\"Encoded Audio Data Shape:\", encoded_audio_data_train.shape)\n",
    "print(\"Encoded Visual Data Shape:\", encoded_visual_data_train.shape)"
   ]
  },
  {
   "cell_type": "code",
   "execution_count": 55,
   "metadata": {},
   "outputs": [
    {
     "data": {
      "text/plain": [
       "(16326, 1)"
      ]
     },
     "execution_count": 55,
     "metadata": {},
     "output_type": "execute_result"
    }
   ],
   "source": [
    "np.shape(modelTrainData['Label'])"
   ]
  },
  {
   "cell_type": "code",
   "execution_count": 56,
   "metadata": {},
   "outputs": [],
   "source": [
    "\n",
    "encoded_audio_data_val = audio_autoencoder.encoder(dev_acoustic_normalized)\n",
    "encoded_visual_data_val = visual_autoencoder.encoder(dev_visual_normalized)"
   ]
  },
  {
   "cell_type": "code",
   "execution_count": 57,
   "metadata": {},
   "outputs": [
    {
     "data": {
      "text/plain": [
       "(9250,)"
      ]
     },
     "execution_count": 57,
     "metadata": {},
     "output_type": "execute_result"
    }
   ],
   "source": [
    "input_shape1 = (16326, 9250)\n",
    "input_shape1[1:]"
   ]
  },
  {
   "cell_type": "code",
   "execution_count": 58,
   "metadata": {},
   "outputs": [
    {
     "data": {
      "text/plain": [
       "<tf.Tensor: shape=(18500,), dtype=float32, numpy=\n",
       "array([0.9973482 , 0.9996753 , 0.33161014, ..., 0.468815  , 0.35748327,\n",
       "       0.7078165 ], dtype=float32)>"
      ]
     },
     "execution_count": 58,
     "metadata": {},
     "output_type": "execute_result"
    }
   ],
   "source": [
    "encoded_audio_data_val[0]"
   ]
  },
  {
   "cell_type": "code",
   "execution_count": 59,
   "metadata": {},
   "outputs": [],
   "source": [
    "encoded_audio_data_test = audio_autoencoder.encoder(test_acoustic_normalized)\n",
    "encoded_visual_data_test = visual_autoencoder.encoder(test_visual_normalized)"
   ]
  },
  {
   "cell_type": "code",
   "execution_count": 117,
   "metadata": {},
   "outputs": [],
   "source": [
    "import tensorflow as tf\n",
    "import numpy as np\n",
    "\n",
    "# Define the MLP architecture\n",
    "input_layer1 = tf.keras.layers.Input(shape=(18500,))\n",
    "input_layer2 = tf.keras.layers.Input(shape=(8750,))\n",
    "\n",
    "# Combine input layers\n",
    "combined_input = tf.keras.layers.Concatenate(axis=-1)([input_layer1, input_layer2])\n",
    "\n",
    "\n",
    "# hidden_layer1 = tf.keras.layers.Dense(6800, activation='sigmoid')(combined_input)\n",
    "hidden_layer2 = tf.keras.layers.Dense(128, activation='sigmoid')(combined_input)\n",
    "\n",
    "output_layer = tf.keras.layers.Dense(1, activation='sigmoid')(hidden_layer2)\n",
    "\n",
    "# Create the model\n",
    "model_final = tf.keras.Model(inputs=[input_layer1, input_layer2], outputs=output_layer)\n"
   ]
  },
  {
   "cell_type": "code",
   "execution_count": 118,
   "metadata": {},
   "outputs": [
    {
     "name": "stdout",
     "output_type": "stream",
     "text": [
      "Model: \"model_4\"\n",
      "__________________________________________________________________________________________________\n",
      " Layer (type)                   Output Shape         Param #     Connected to                     \n",
      "==================================================================================================\n",
      " input_11 (InputLayer)          [(None, 18500)]      0           []                               \n",
      "                                                                                                  \n",
      " input_12 (InputLayer)          [(None, 8750)]       0           []                               \n",
      "                                                                                                  \n",
      " concatenate_4 (Concatenate)    (None, 27250)        0           ['input_11[0][0]',               \n",
      "                                                                  'input_12[0][0]']               \n",
      "                                                                                                  \n",
      " dense_13 (Dense)               (None, 128)          3488128     ['concatenate_4[0][0]']          \n",
      "                                                                                                  \n",
      " dense_14 (Dense)               (None, 1)            129         ['dense_13[0][0]']               \n",
      "                                                                                                  \n",
      "==================================================================================================\n",
      "Total params: 3,488,257\n",
      "Trainable params: 3,488,257\n",
      "Non-trainable params: 0\n",
      "__________________________________________________________________________________________________\n"
     ]
    }
   ],
   "source": [
    "# Compile the model\n",
    "model_final.compile(optimizer='adam', loss='mean_squared_error',metrics=['mean_absolute_error'])\n",
    "# Print model summary\n",
    "model_final.summary()"
   ]
  },
  {
   "cell_type": "code",
   "execution_count": 119,
   "metadata": {},
   "outputs": [
    {
     "name": "stdout",
     "output_type": "stream",
     "text": [
      "Epoch 1/2\n",
      "  7/511 [..............................] - ETA: 5s - loss: 0.2487 - mean_absolute_error: 0.4534  "
     ]
    },
    {
     "name": "stderr",
     "output_type": "stream",
     "text": [
      "2023-08-27 03:35:38.317831: I tensorflow/core/grappler/optimizers/custom_graph_optimizer_registry.cc:113] Plugin optimizer for device_type GPU is enabled.\n"
     ]
    },
    {
     "name": "stdout",
     "output_type": "stream",
     "text": [
      "511/511 [==============================] - ETA: 0s - loss: 0.0847 - mean_absolute_error: 0.2120"
     ]
    },
    {
     "name": "stderr",
     "output_type": "stream",
     "text": [
      "2023-08-27 03:35:42.606840: I tensorflow/core/grappler/optimizers/custom_graph_optimizer_registry.cc:113] Plugin optimizer for device_type GPU is enabled.\n"
     ]
    },
    {
     "name": "stdout",
     "output_type": "stream",
     "text": [
      "511/511 [==============================] - 5s 9ms/step - loss: 0.0847 - mean_absolute_error: 0.2120 - val_loss: 0.0304 - val_mean_absolute_error: 0.1296\n",
      "Epoch 2/2\n",
      "511/511 [==============================] - 4s 8ms/step - loss: 0.0353 - mean_absolute_error: 0.1416 - val_loss: 0.0300 - val_mean_absolute_error: 0.1296\n"
     ]
    },
    {
     "data": {
      "text/plain": [
       "<keras.callbacks.History at 0x2ccd0cb50>"
      ]
     },
     "execution_count": 119,
     "metadata": {},
     "output_type": "execute_result"
    }
   ],
   "source": [
    "\n",
    "# Train the model\n",
    "model_final.fit(\n",
    "    [encoded_audio_data_train, encoded_visual_data_train], \n",
    "    modelTrainData['Label'], \n",
    "    epochs=2, \n",
    "    # batch_size=32,\n",
    "    shuffle=True,\n",
    "    validation_data=([encoded_audio_data_val, encoded_visual_data_val],modelValData['Label'])\n",
    ")  # Adjust epochs and batch_size as needed\n"
   ]
  },
  {
   "cell_type": "code",
   "execution_count": 120,
   "metadata": {},
   "outputs": [
    {
     "name": "stdout",
     "output_type": "stream",
     "text": [
      " 55/146 [==========>...................] - ETA: 0s"
     ]
    },
    {
     "name": "stderr",
     "output_type": "stream",
     "text": [
      "2023-08-27 03:35:47.319862: I tensorflow/core/grappler/optimizers/custom_graph_optimizer_registry.cc:113] Plugin optimizer for device_type GPU is enabled.\n"
     ]
    },
    {
     "name": "stdout",
     "output_type": "stream",
     "text": [
      "146/146 [==============================] - 0s 3ms/step\n"
     ]
    }
   ],
   "source": [
    "\n",
    "\n",
    "predictions = model_final.predict([encoded_audio_data_test, encoded_visual_data_test])"
   ]
  },
  {
   "cell_type": "code",
   "execution_count": 121,
   "metadata": {},
   "outputs": [
    {
     "data": {
      "text/plain": [
       "array([[0.5555555 ],\n",
       "       [0.33333334],\n",
       "       [0.5       ],\n",
       "       ...,\n",
       "       [0.5       ],\n",
       "       [0.6666667 ],\n",
       "       [0.77777773]], dtype=float32)"
      ]
     },
     "execution_count": 121,
     "metadata": {},
     "output_type": "execute_result"
    }
   ],
   "source": [
    "modelTestData['Label']"
   ]
  },
  {
   "cell_type": "code",
   "execution_count": 122,
   "metadata": {},
   "outputs": [
    {
     "data": {
      "text/plain": [
       "array([[0.52611643],\n",
       "       [0.52611643],\n",
       "       [0.52611643],\n",
       "       ...,\n",
       "       [0.52611643],\n",
       "       [0.52611643],\n",
       "       [0.52611643]], dtype=float32)"
      ]
     },
     "execution_count": 122,
     "metadata": {},
     "output_type": "execute_result"
    }
   ],
   "source": [
    "predictions"
   ]
  },
  {
   "cell_type": "code",
   "execution_count": 123,
   "metadata": {},
   "outputs": [],
   "source": [
    "denormPred = np.array([[minmax_denormalize(arr[0], label_min, label_max)] for arr in predictions])"
   ]
  },
  {
   "cell_type": "code",
   "execution_count": 124,
   "metadata": {},
   "outputs": [
    {
     "data": {
      "text/plain": [
       "array([[0.1566987],\n",
       "       [0.1566987],\n",
       "       [0.1566987],\n",
       "       ...,\n",
       "       [0.1566987],\n",
       "       [0.1566987],\n",
       "       [0.1566987]], dtype=float32)"
      ]
     },
     "execution_count": 124,
     "metadata": {},
     "output_type": "execute_result"
    }
   ],
   "source": [
    "denormPred"
   ]
  },
  {
   "cell_type": "code",
   "execution_count": 125,
   "metadata": {},
   "outputs": [
    {
     "data": {
      "text/plain": [
       "4659"
      ]
     },
     "execution_count": 125,
     "metadata": {},
     "output_type": "execute_result"
    }
   ],
   "source": [
    "len(denormPred)"
   ]
  },
  {
   "cell_type": "code",
   "execution_count": 126,
   "metadata": {},
   "outputs": [
    {
     "data": {
      "text/plain": [
       "4659"
      ]
     },
     "execution_count": 126,
     "metadata": {},
     "output_type": "execute_result"
    }
   ],
   "source": [
    "len(modelTestData['Label_denorm'])"
   ]
  },
  {
   "cell_type": "code",
   "execution_count": 127,
   "metadata": {},
   "outputs": [],
   "source": [
    "# from sklearn.metrics import mean_squared_error, mean_absolute_error\n",
    "# mse = mean_squared_error(modelTestData['Label_denorm'], denormPred)\n",
    "# mae = mean_absolute_error(modelTestData['Label_denorm'], denormPred)\n",
    "\n",
    "# print(\"Mean Squared Error:\", mse)\n",
    "# print(\"Mean Absolute Error:\", mae)"
   ]
  },
  {
   "cell_type": "code",
   "execution_count": 135,
   "metadata": {},
   "outputs": [],
   "source": [
    "\n",
    "def run_metrices(y_true, y_pred):\n",
    "\n",
    "    # Computing metrics\n",
    "\n",
    "    # Compute Mean Squared Error\n",
    "    mse = mean_squared_error(y_true, y_pred)\n",
    "\n",
    "    # Compute Mean Absolute Error\n",
    "    mae = mean_absolute_error(y_true, y_pred)\n",
    "\n",
    "    # Clean NaN values if present\n",
    "    clean_mask = np.logical_and(~np.isnan(y_true), ~np.isnan(y_pred))\n",
    "    y_true_cleaned = y_true[clean_mask]\n",
    "    y_pred_cleaned = y_pred[clean_mask]\n",
    "\n",
    "    # Calculate Pearson correlation\n",
    "    if len(y_true_cleaned) > 1 and len(y_pred_cleaned) > 1 and np.var(y_true_cleaned) != 0 and np.var(y_pred_cleaned) != 0:\n",
    "        corr_coeff = np.corrcoef(y_pred_cleaned, y_true_cleaned)[0, 1]\n",
    "    else:\n",
    "        corr_coeff = np.nan  # or some other value indicating undefined correlation\n",
    "\n",
    "    # Define interval boundaries for Acc-7\n",
    "    interval_boundaries = np.linspace(-3, 3, 8)\n",
    "\n",
    "    # Categorize predictions into intervals\n",
    "    y_true_intervals = np.digitize(y_true, interval_boundaries)\n",
    "    y_pred_intervals = np.digitize(y_pred, interval_boundaries)\n",
    "\n",
    "    # Compute Acc-7\n",
    "    acc_7 = accuracy_score(y_true_intervals, y_pred_intervals)\n",
    "\n",
    "    # Create binary labels for Acc-2 and F1 Score\n",
    "    y_true_binary = np.where(y_true >= 0, 1, 0)\n",
    "    y_pred_binary = np.where(y_pred >= 0, 1, 0)\n",
    "\n",
    "    # Compute Acc-2\n",
    "    acc_2 = accuracy_score(y_true_binary, y_pred_binary)\n",
    "\n",
    "    # Compute F1 Score\n",
    "    f1 = f1_score(y_true_binary, y_pred_binary)\n",
    "\n",
    "    return ({\n",
    "        'mse': mse,\n",
    "        'mae': mae,\n",
    "        'Correlation':corr_coeff,\n",
    "        'Acc-7': acc_7,\n",
    "        'Acc-2': acc_2,\n",
    "        'F1': f1\n",
    "    })"
   ]
  },
  {
   "cell_type": "code",
   "execution_count": 136,
   "metadata": {},
   "outputs": [
    {
     "name": "stdout",
     "output_type": "stream",
     "text": [
      "Pearson Correlation: nan\n",
      "Acc-7: 0.4129641553981541\n",
      "Acc-2: 0.7102382485511912\n",
      "F1 Score: 0.8305722891566265\n",
      "Mean Squared Error: 1.2292641\n",
      "Mean Absolute Error: 0.8414738\n"
     ]
    },
    {
     "name": "stderr",
     "output_type": "stream",
     "text": [
      "/Users/deepaknandula/miniforge3/envs/env_tf/lib/python3.9/site-packages/numpy/lib/function_base.py:2897: RuntimeWarning: invalid value encountered in divide\n",
      "  c /= stddev[:, None]\n",
      "/Users/deepaknandula/miniforge3/envs/env_tf/lib/python3.9/site-packages/numpy/lib/function_base.py:2898: RuntimeWarning: invalid value encountered in divide\n",
      "  c /= stddev[None, :]\n"
     ]
    }
   ],
   "source": [
    "metricsAbr = run_metrices(modelTestData['Label_denorm'],denormPred)\n",
    "\n",
    "# Print the computed metrics\n",
    "print(\"Pearson Correlation:\", metricsAbr['Correlation'])\n",
    "print(\"Acc-7:\", metricsAbr['Acc-7'])\n",
    "print(\"Acc-2:\", metricsAbr['Acc-2'])\n",
    "print(\"F1 Score:\", metricsAbr['F1'])\n",
    "\n",
    "print(\"Mean Squared Error:\", metricsAbr['mse'])\n",
    "print(\"Mean Absolute Error:\", metricsAbr['mae'])"
   ]
  },
  {
   "cell_type": "code",
   "execution_count": 129,
   "metadata": {},
   "outputs": [
    {
     "data": {
      "image/png": "[encoded data removed]",
      "text/plain": [
       "<Figure size 1000x600 with 1 Axes>"
      ]
     },
     "metadata": {},
     "output_type": "display_data"
    }
   ],
   "source": [
    "import matplotlib.pyplot as plt\n",
    "\n",
    "# Sample data (replace these with your actual data)\n",
    "x = np.linspace(0, 10, 4659)  # Assuming you have 4659 data points\n",
    "y1 = flatten_2d_array(denormPred)      # Replace with your first array data\n",
    "y2 = flatten_2d_array(modelTestData['Label_denorm'])      # Replace with your second array data\n",
    "\n",
    "# Create a figure and axis\n",
    "plt.figure(figsize=(10, 6))  # Set the figure size\n",
    "\n",
    "# Plot y1 and y2 as overlapping lines\n",
    "plt.plot(x, y2, color='green', label='predicted')  # Green line for y2\n",
    "plt.plot(x, y1, color='red', label='actual')    # Red line for y1\n",
    "\n",
    "# Add labels and title\n",
    "plt.xlabel('X-axis')\n",
    "plt.ylabel('Y-axis')\n",
    "plt.title('Overlapping Red and Green Lines')\n",
    "\n",
    "# Add a legend\n",
    "plt.legend()\n",
    "\n",
    "# Show the plot\n",
    "plt.show()"
   ]
  },
  {
   "cell_type": "code",
   "execution_count": 130,
   "metadata": {},
   "outputs": [
    {
     "data": {
      "text/plain": [
       "(array([ 311.,  760., 1125., 1459., 1083., 5715., 3116., 1739.,  811.,\n",
       "         207.]),\n",
       " array([0.        , 0.1       , 0.2       , 0.30000001, 0.40000001,\n",
       "        0.5       , 0.60000002, 0.69999999, 0.80000001, 0.89999998,\n",
       "        1.        ]),\n",
       " <BarContainer object of 10 artists>)"
      ]
     },
     "execution_count": 130,
     "metadata": {},
     "output_type": "execute_result"
    },
    {
     "data": {
      "image/png": "[encoded data removed]",
      "text/plain": [
       "<Figure size 640x480 with 1 Axes>"
      ]
     },
     "metadata": {},
     "output_type": "display_data"
    }
   ],
   "source": [
    "plt.hist(modelTrainData['Label'])"
   ]
  }
 ],
 "metadata": {
  "kernelspec": {
   "display_name": "Python 3.9.16 (env_tf)",
   "language": "python",
   "name": "env_tf"
  },
  "language_info": {
   "codemirror_mode": {
    "name": "ipython",
    "version": 3
   },
   "file_extension": ".py",
   "mimetype": "text/x-python",
   "name": "python",
   "nbconvert_exporter": "python",
   "pygments_lexer": "ipython3",
   "version": "3.9.16"
  },
  "orig_nbformat": 4,
  "vscode": {
   "interpreter": {
    "hash": "e7f7a6c7a328c331394eefecd3ffebe18a341a9e21c7b3790bdb1b050ca99952"
   }
  }
 },
 "nbformat": 4,
 "nbformat_minor": 2
}
