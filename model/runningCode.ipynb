{
 "cells": [
  {
   "cell_type": "code",
   "execution_count": 20,
   "metadata": {},
   "outputs": [
    {
     "name": "stdout",
     "output_type": "stream",
     "text": [
      "Total number of 0 datapoints have been dropped.\n",
      "Dataset split\n",
      "Train Set: 16326\n",
      "Validation Set: 1871\n",
      "Test Set: 4659\n"
     ]
    }
   ],
   "source": [
    "import sys\n",
    "import os\n",
    "import re\n",
    "import pickle\n",
    "import pandas as pd\n",
    "import numpy as np\n",
    "import random\n",
    "import tensorflow as tf\n",
    "from transformers import TFBertModel,BertTokenizer\n",
    "from sklearn.preprocessing import StandardScaler\n",
    "import sys\n",
    "import os\n",
    "import re\n",
    "import pickle\n",
    "\n",
    "\n",
    "DATA_PATH = '../data/MOSEI/'\n",
    "\n",
    "def to_pickle(obj, path):\n",
    "    with open(path, 'wb') as f:\n",
    "        pickle.dump(obj, f)\n",
    "\n",
    "def load_pickle(path):\n",
    "    with open(path, 'rb') as f:\n",
    "        return pickle.load(f)\n",
    "\n",
    "def get_length(x):\n",
    "    return x.shape[1]-(np.sum(x, axis=-1) == 0).sum(1)\n",
    "\n",
    "# first we align to words with averaging, collapse_function receives a list of functions\n",
    "# dataset.align(text_field, collapse_functions=[avg])\n",
    "# load pickle file for unaligned acoustic and visual source\n",
    "pickle_filename = DATA_PATH+'mosei_senti_data_noalign.pkl'\n",
    "csv_filename = DATA_PATH+'MOSEI-label.csv'\n",
    "\n",
    "with open(pickle_filename, 'rb') as f:\n",
    "    d = pickle.load(f)\n",
    "\n",
    "# read csv file for label and text\n",
    "df = pd.read_csv(csv_filename)\n",
    "text = df['text']\n",
    "vid = df['video_id']\n",
    "cid = df['clip_id']\n",
    "\n",
    "train_split_noalign = d['train']\n",
    "dev_split_noalign = d['valid']\n",
    "test_split_noalign = d['test']\n",
    "\n",
    "# a sentinel epsilon for safe division, without it we will replace illegal values with a constant\n",
    "EPS = 1e-6\n",
    "\n",
    "# place holders for the final train/dev/test dataset\n",
    "train = train = []\n",
    "dev = dev = []\n",
    "test = test = []\n",
    "\n",
    "# define a regular expression to extract the video ID out of the keys\n",
    "# pattern = re.compile('(.*)\\[.*\\]')\n",
    "pattern = re.compile('(.*)_([.*])')\n",
    "num_drop = 0 # a counter to count how many data points went into some processing issues\n",
    "\n",
    "v = np.concatenate((train_split_noalign['vision'],dev_split_noalign['vision'], test_split_noalign['vision']),axis=0)\n",
    "vlens = get_length(v)\n",
    "\n",
    "a = np.concatenate((train_split_noalign['audio'],dev_split_noalign['audio'], test_split_noalign['audio']),axis=0)\n",
    "alens = get_length(a)\n",
    "\n",
    "label = np.concatenate((train_split_noalign['labels'],dev_split_noalign['labels'], test_split_noalign['labels']),axis=0)\n",
    "\n",
    "L_V = v.shape[1]\n",
    "L_A = a.shape[1]\n",
    "\n",
    "\n",
    "all_id = np.concatenate((train_split_noalign['id'], dev_split_noalign['id'], test_split_noalign['id']),axis=0)[:,0]\n",
    "all_id_list = all_id.tolist()\n",
    "\n",
    "train_size = len(train_split_noalign['id'])\n",
    "dev_size = len(dev_split_noalign['id'])\n",
    "test_size = len(test_split_noalign['id'])\n",
    "\n",
    "dev_start = train_size\n",
    "test_start = train_size + dev_size\n",
    "\n",
    "all_csv_id = [(vid[i], str(cid[i])) for i in range(len(vid))]\n",
    "\n",
    "for i, idd in enumerate(all_id_list):\n",
    "    # get the video ID and the features out of the aligned dataset\n",
    "\n",
    "    # matching process\n",
    "    try:\n",
    "        index = i\n",
    "    except:\n",
    "        import ipdb; ipdb.set_trace()\n",
    "\n",
    "    _words = text[index].split()\n",
    "    _label = label[i].astype(np.float32)\n",
    "    _visual = v[i]\n",
    "    _acoustic = a[i]\n",
    "    _vlen = vlens[i]\n",
    "    _alen = alens[i]\n",
    "    _id = '{}[{}]'.format(all_csv_id[0], all_csv_id[1])           \n",
    "\n",
    "    # remove nan values\n",
    "    # label = np.nan_to_num(label)\n",
    "    _visual = np.nan_to_num(_visual)\n",
    "    _acoustic = np.nan_to_num(_acoustic)\n",
    "\n",
    "    # remove speech pause tokens - this is in general helpful\n",
    "    # we should remove speech pauses and corresponding visual/acoustic features together\n",
    "    # otherwise modalities would no longer be aligned\n",
    "    actual_words = []\n",
    "    words = []\n",
    "    visual = []\n",
    "    acoustic = []\n",
    "\n",
    "    for word in _words:\n",
    "        actual_words.append(word)\n",
    "\n",
    "    visual = _visual[L_V - _vlen:,:]\n",
    "    acoustic = _acoustic[L_A - _alen:,:]\n",
    "\n",
    "    if i < dev_start:\n",
    "        train.append((words, visual, acoustic, actual_words, _vlen, _alen, _label, idd))\n",
    "    elif i >= dev_start and i < test_start:\n",
    "        dev.append((words, visual, acoustic, actual_words, _vlen, _alen, _label, idd))\n",
    "    elif i >= test_start:\n",
    "        test.append((words, visual, acoustic, actual_words, _vlen, _alen, _label, idd))\n",
    "    else:\n",
    "        print(f\"Found video that doesn't belong to any splits: {idd}\")\n",
    "\n",
    "\n",
    "# print(f\"Total number of {num_drop} datapoints have been dropped.\")\n",
    "print(f\"Total number of {num_drop} datapoints have been dropped.\")\n",
    "print(\"Dataset split\")\n",
    "print(\"Train Set: {}\".format(len(train)))\n",
    "print(\"Validation Set: {}\".format(len(dev)))\n",
    "print(\"Test Set: {}\".format(len(test)))\n",
    "\n",
    "# Save glove embeddings cache too\n",
    "# self.pretrained_emb = pretrained_emb = load_emb(word2id, config.word_emb_path)\n",
    "# torch.save((pretrained_emb, word2id), CACHE_PATH)\n",
    "pretrained_emb = None\n",
    "\n",
    "# Save pickles\n",
    "to_pickle(train, DATA_PATH + '/dftrain.pkl')\n",
    "to_pickle(dev, DATA_PATH + '/dfdev.pkl')\n",
    "to_pickle(test, DATA_PATH + '/dftest.pkl')"
   ]
  },
  {
   "cell_type": "code",
   "execution_count": 21,
   "metadata": {},
   "outputs": [],
   "source": [
    "train_df = pd.DataFrame(train,columns=['words', 'visual', 'acoustic', 'actual_words', '_vlen', '_alen', '_label', 'idd'])\n",
    "dev_df = pd.DataFrame(dev,columns=['words', 'visual', 'acoustic', 'actual_words', '_vlen', '_alen', '_label', 'idd'])\n",
    "test_df = pd.DataFrame(test,columns=['words', 'visual', 'acoustic', 'actual_words', '_vlen', '_alen', '_label', 'idd'])\n"
   ]
  },
  {
   "cell_type": "code",
   "execution_count": 22,
   "metadata": {},
   "outputs": [
    {
     "data": {
      "text/html": [
       "<div>\n",
       "<style scoped>\n",
       "    .dataframe tbody tr th:only-of-type {\n",
       "        vertical-align: middle;\n",
       "    }\n",
       "\n",
       "    .dataframe tbody tr th {\n",
       "        vertical-align: top;\n",
       "    }\n",
       "\n",
       "    .dataframe thead th {\n",
       "        text-align: right;\n",
       "    }\n",
       "</style>\n",
       "<table border=\"1\" class=\"dataframe\">\n",
       "  <thead>\n",
       "    <tr style=\"text-align: right;\">\n",
       "      <th></th>\n",
       "      <th>words</th>\n",
       "      <th>visual</th>\n",
       "      <th>acoustic</th>\n",
       "      <th>actual_words</th>\n",
       "      <th>_vlen</th>\n",
       "      <th>_alen</th>\n",
       "      <th>_label</th>\n",
       "      <th>idd</th>\n",
       "    </tr>\n",
       "  </thead>\n",
       "  <tbody>\n",
       "    <tr>\n",
       "      <th>0</th>\n",
       "      <td>[]</td>\n",
       "      <td>[[-1.2108299732208252, -0.46178698539733887, -...</td>\n",
       "      <td>[[194.5, 0.0, 0.07899338752031326, 0.412973552...</td>\n",
       "      <td>[Key, is, part, of, the, people, that, we, use...</td>\n",
       "      <td>267</td>\n",
       "      <td>356</td>\n",
       "      <td>[[1.0]]</td>\n",
       "      <td>-3g5yACwYnA</td>\n",
       "    </tr>\n",
       "    <tr>\n",
       "      <th>1</th>\n",
       "      <td>[]</td>\n",
       "      <td>[[-1.7858200073242188, -0.6380839943885803, 0....</td>\n",
       "      <td>[[105.5, 1.0, 0.021022265776991844, 0.08599962...</td>\n",
       "      <td>[They've, been, able, to, find, solutions, or,...</td>\n",
       "      <td>81</td>\n",
       "      <td>107</td>\n",
       "      <td>[[0.6666667]]</td>\n",
       "      <td>-3g5yACwYnA</td>\n",
       "    </tr>\n",
       "    <tr>\n",
       "      <th>2</th>\n",
       "      <td>[]</td>\n",
       "      <td>[[-1.7642099857330322, -0.7958599925041199, -0...</td>\n",
       "      <td>[[106.5, 1.0, 0.11148008704185486, 0.726543664...</td>\n",
       "      <td>[We're, a, huge, user, of, adhesives, for, our...</td>\n",
       "      <td>215</td>\n",
       "      <td>286</td>\n",
       "      <td>[[0.0]]</td>\n",
       "      <td>-3g5yACwYnA</td>\n",
       "    </tr>\n",
       "    <tr>\n",
       "      <th>3</th>\n",
       "      <td>[]</td>\n",
       "      <td>[[-1.2986199855804443, -0.2510870099067688, -0...</td>\n",
       "      <td>[[115.5, 1.0, 0.057251088321208954, 0.33875322...</td>\n",
       "      <td>[Key, Polymer, brings, a, technical, aspect, t...</td>\n",
       "      <td>138</td>\n",
       "      <td>184</td>\n",
       "      <td>[[0.0]]</td>\n",
       "      <td>-3g5yACwYnA</td>\n",
       "    </tr>\n",
       "    <tr>\n",
       "      <th>4</th>\n",
       "      <td>[]</td>\n",
       "      <td>[[-1.6502399444580078, -0.3371959924697876, -0...</td>\n",
       "      <td>[[100.5, 1.0, 0.14517584443092346, 0.675116181...</td>\n",
       "      <td>[Key, brings, those, types, of, aspects, to, a...</td>\n",
       "      <td>221</td>\n",
       "      <td>295</td>\n",
       "      <td>[[1.0]]</td>\n",
       "      <td>-3g5yACwYnA</td>\n",
       "    </tr>\n",
       "    <tr>\n",
       "      <th>...</th>\n",
       "      <td>...</td>\n",
       "      <td>...</td>\n",
       "      <td>...</td>\n",
       "      <td>...</td>\n",
       "      <td>...</td>\n",
       "      <td>...</td>\n",
       "      <td>...</td>\n",
       "      <td>...</td>\n",
       "    </tr>\n",
       "    <tr>\n",
       "      <th>16321</th>\n",
       "      <td>[]</td>\n",
       "      <td>[[-1.8842400312423706, -0.6028929948806763, 0....</td>\n",
       "      <td>[[127.5, 1.0, 0.11853820085525513, 0.720579862...</td>\n",
       "      <td>[I, read, other, articles,, what, other, train...</td>\n",
       "      <td>72</td>\n",
       "      <td>103</td>\n",
       "      <td>[[0.0]]</td>\n",
       "      <td>zwTrXwi54us</td>\n",
       "    </tr>\n",
       "    <tr>\n",
       "      <th>16322</th>\n",
       "      <td>[]</td>\n",
       "      <td>[[-2.153140068054199, -0.04792049899697304, -0...</td>\n",
       "      <td>[[129.5, 1.0, 0.1991356760263443, 0.6945900321...</td>\n",
       "      <td>[I, do, all, of, that]</td>\n",
       "      <td>28</td>\n",
       "      <td>37</td>\n",
       "      <td>[[0.0]]</td>\n",
       "      <td>zwTrXwi54us</td>\n",
       "    </tr>\n",
       "    <tr>\n",
       "      <th>16323</th>\n",
       "      <td>[]</td>\n",
       "      <td>[[-4.401090145111084, -1.0127899646759033, -1....</td>\n",
       "      <td>[[188.5, 0.0, 0.05910159647464752, 0.331484466...</td>\n",
       "      <td>[Now,, if, this, sounds, like, something, you'...</td>\n",
       "      <td>163</td>\n",
       "      <td>227</td>\n",
       "      <td>[[0.6666667]]</td>\n",
       "      <td>zwTrXwi54us</td>\n",
       "    </tr>\n",
       "    <tr>\n",
       "      <th>16324</th>\n",
       "      <td>[]</td>\n",
       "      <td>[[-2.3272500038146973, -1.1171799898147583, 0....</td>\n",
       "      <td>[[133.0, 0.0, 0.027281710878014565, 0.07664652...</td>\n",
       "      <td>[I, actually, speak, to, the, experts, myself,...</td>\n",
       "      <td>80</td>\n",
       "      <td>106</td>\n",
       "      <td>[[1.0]]</td>\n",
       "      <td>zwTrXwi54us</td>\n",
       "    </tr>\n",
       "    <tr>\n",
       "      <th>16325</th>\n",
       "      <td>[]</td>\n",
       "      <td>[[-1.8243299722671509, -0.061710700392723083, ...</td>\n",
       "      <td>[[116.5, 1.0, 0.17489837110042572, 0.565754592...</td>\n",
       "      <td>[And, we’ve, seen, some, programs,, we’ve, see...</td>\n",
       "      <td>349</td>\n",
       "      <td>465</td>\n",
       "      <td>[[1.0]]</td>\n",
       "      <td>zx4W0Vuus-I</td>\n",
       "    </tr>\n",
       "  </tbody>\n",
       "</table>\n",
       "<p>16326 rows × 8 columns</p>\n",
       "</div>"
      ],
      "text/plain": [
       "      words                                             visual  \\\n",
       "0        []  [[-1.2108299732208252, -0.46178698539733887, -...   \n",
       "1        []  [[-1.7858200073242188, -0.6380839943885803, 0....   \n",
       "2        []  [[-1.7642099857330322, -0.7958599925041199, -0...   \n",
       "3        []  [[-1.2986199855804443, -0.2510870099067688, -0...   \n",
       "4        []  [[-1.6502399444580078, -0.3371959924697876, -0...   \n",
       "...     ...                                                ...   \n",
       "16321    []  [[-1.8842400312423706, -0.6028929948806763, 0....   \n",
       "16322    []  [[-2.153140068054199, -0.04792049899697304, -0...   \n",
       "16323    []  [[-4.401090145111084, -1.0127899646759033, -1....   \n",
       "16324    []  [[-2.3272500038146973, -1.1171799898147583, 0....   \n",
       "16325    []  [[-1.8243299722671509, -0.061710700392723083, ...   \n",
       "\n",
       "                                                acoustic  \\\n",
       "0      [[194.5, 0.0, 0.07899338752031326, 0.412973552...   \n",
       "1      [[105.5, 1.0, 0.021022265776991844, 0.08599962...   \n",
       "2      [[106.5, 1.0, 0.11148008704185486, 0.726543664...   \n",
       "3      [[115.5, 1.0, 0.057251088321208954, 0.33875322...   \n",
       "4      [[100.5, 1.0, 0.14517584443092346, 0.675116181...   \n",
       "...                                                  ...   \n",
       "16321  [[127.5, 1.0, 0.11853820085525513, 0.720579862...   \n",
       "16322  [[129.5, 1.0, 0.1991356760263443, 0.6945900321...   \n",
       "16323  [[188.5, 0.0, 0.05910159647464752, 0.331484466...   \n",
       "16324  [[133.0, 0.0, 0.027281710878014565, 0.07664652...   \n",
       "16325  [[116.5, 1.0, 0.17489837110042572, 0.565754592...   \n",
       "\n",
       "                                            actual_words  _vlen  _alen  \\\n",
       "0      [Key, is, part, of, the, people, that, we, use...    267    356   \n",
       "1      [They've, been, able, to, find, solutions, or,...     81    107   \n",
       "2      [We're, a, huge, user, of, adhesives, for, our...    215    286   \n",
       "3      [Key, Polymer, brings, a, technical, aspect, t...    138    184   \n",
       "4      [Key, brings, those, types, of, aspects, to, a...    221    295   \n",
       "...                                                  ...    ...    ...   \n",
       "16321  [I, read, other, articles,, what, other, train...     72    103   \n",
       "16322                             [I, do, all, of, that]     28     37   \n",
       "16323  [Now,, if, this, sounds, like, something, you'...    163    227   \n",
       "16324  [I, actually, speak, to, the, experts, myself,...     80    106   \n",
       "16325  [And, we’ve, seen, some, programs,, we’ve, see...    349    465   \n",
       "\n",
       "              _label          idd  \n",
       "0            [[1.0]]  -3g5yACwYnA  \n",
       "1      [[0.6666667]]  -3g5yACwYnA  \n",
       "2            [[0.0]]  -3g5yACwYnA  \n",
       "3            [[0.0]]  -3g5yACwYnA  \n",
       "4            [[1.0]]  -3g5yACwYnA  \n",
       "...              ...          ...  \n",
       "16321        [[0.0]]  zwTrXwi54us  \n",
       "16322        [[0.0]]  zwTrXwi54us  \n",
       "16323  [[0.6666667]]  zwTrXwi54us  \n",
       "16324        [[1.0]]  zwTrXwi54us  \n",
       "16325        [[1.0]]  zx4W0Vuus-I  \n",
       "\n",
       "[16326 rows x 8 columns]"
      ]
     },
     "execution_count": 22,
     "metadata": {},
     "output_type": "execute_result"
    }
   ],
   "source": [
    "train_df"
   ]
  },
  {
   "cell_type": "code",
   "execution_count": 23,
   "metadata": {},
   "outputs": [],
   "source": [
    "def create_acoustic_model(input_shape):\n",
    "    inputs = tf.keras.layers.Input(shape=input_shape)\n",
    "    x = tf.keras.layers.Reshape((input_shape[0], input_shape[1], 1))(inputs)\n",
    "    x = tf.keras.layers.Conv2D(64, kernel_size=(3, 3), activation='relu')(x)\n",
    "    x = tf.keras.layers.MaxPooling2D(pool_size=(2, 2))(x)\n",
    "    x = tf.keras.layers.Conv2D(32, kernel_size=(3, 3), activation='relu')(x)  # Add an additional Conv2D layer\n",
    "    x = tf.keras.layers.MaxPooling2D(pool_size=(2, 2))(x)\n",
    "    x = tf.keras.layers.Dropout(0.5)(x)\n",
    "    x = tf.keras.layers.Flatten()(x)\n",
    "    # x = tf.keras.layers.Dense(128, activation='relu')(x)\n",
    "    return tf.keras.Model(inputs=inputs, outputs=x)\n",
    "\n",
    "def create_video_model(input_shape):\n",
    "    inputs = tf.keras.layers.Input(shape=input_shape)\n",
    "    x = tf.keras.layers.Reshape((input_shape[0], input_shape[1], 1))(inputs)\n",
    "    x = tf.keras.layers.Conv2D(64, kernel_size=(3, 3), activation='relu')(x)\n",
    "    x = tf.keras.layers.MaxPooling2D(pool_size=(2, 2))(x)\n",
    "    x = tf.keras.layers.Conv2D(32, kernel_size=(3, 3), activation='relu')(x)  # Add an additional Conv2D layer\n",
    "    x = tf.keras.layers.MaxPooling2D(pool_size=(2, 2))(x)\n",
    "    x = tf.keras.layers.Dropout(0.5)(x)\n",
    "    x = tf.keras.layers.Flatten()(x)\n",
    "    # x = tf.keras.layers.Dense(128, activation='relu')(x)\n",
    "    return tf.keras.models.Model(inputs=inputs, outputs=x)\n",
    "\n",
    "def create_bert_model(max_length):\n",
    "    input_ids = tf.keras.layers.Input(shape=(max_length,), dtype=tf.int32)\n",
    "    attention_mask = tf.keras.layers.Input(shape=(max_length,), dtype=tf.int32)\n",
    "    # bertconfig = BertConfig.from_pretrained('bert-base-uncased', output_hidden_states=True)\n",
    "    # bert_model = BertModel.from_pretrained('bert-base-uncased', config=bertconfig)\n",
    "    \n",
    "    # Use TFBertModel without specifying add_pooling_layer\n",
    "    bert_model = TFBertModel.from_pretrained(\"bert-base-uncased\")\n",
    "    \n",
    "    # Get the pooled output from BERT\n",
    "    bert_output = bert_model(input_ids=input_ids, attention_mask=attention_mask)[1]\n",
    "    return tf.keras.Model(inputs=[input_ids, attention_mask], outputs=bert_output)\n"
   ]
  },
  {
   "cell_type": "code",
   "execution_count": 24,
   "metadata": {},
   "outputs": [],
   "source": [
    "\n",
    "\n",
    "# Modify the create_combined_model function\n",
    "def create_combined_model(acoustic_input_shape, visual_input_shape, text_max_length):\n",
    "    acoustic_model = create_acoustic_model(acoustic_input_shape)\n",
    "    bert_model = create_bert_model(text_max_length)\n",
    "    video_model = create_video_model(visual_input_shape)\n",
    "\n",
    "    input_ids = tf.keras.layers.Input(shape=(text_max_length,), dtype=tf.int32)\n",
    "    attention_mask = tf.keras.layers.Input(shape=(text_max_length,), dtype=tf.int32)\n",
    "    acoustic_input = tf.keras.layers.Input(shape=acoustic_input_shape)\n",
    "    visual_input = tf.keras.layers.Input(shape=visual_input_shape)\n",
    "\n",
    "    # Get the BERT embeddings sequence (output shape: batch_size, max_length, bert_output_dim)\n",
    "    bert_output = bert_model([input_ids, attention_mask])\n",
    "\n",
    "    # Assuming the output shape of your video_model is (batch_size, video_output_dim)\n",
    "    visual_output = video_model(visual_input)\n",
    "\n",
    "    # Assuming the output shape of your acoustic_model is (batch_size, acoustic_output_dim)\n",
    "    acoustic_output = acoustic_model(acoustic_input)\n",
    "\n",
    "    # Modify the next lines according to your actual requirements for combining the models\n",
    "    # For example, flatten the video_output if needed\n",
    "    visual_output = tf.keras.layers.Flatten()(visual_output)\n",
    "\n",
    "    # Flatten the BERT embeddings sequence to match the visual_output's shape\n",
    "    bert_output = tf.keras.layers.Flatten()(bert_output)\n",
    "\n",
    "    # Concatenate the outputs of the three models\n",
    "    combined_input = tf.keras.layers.Concatenate()([acoustic_output, bert_output, visual_output])\n",
    "    x = tf.keras.layers.Dense(500, activation='relu')(combined_input)\n",
    "    # x = tf.keras.layers.Dense(250, activation='sigmoid')(combined_input)\n",
    "    x = tf.keras.layers.Dense(128, activation='sigmoid')(combined_input)\n",
    "    outputs = tf.keras.layers.Dense(1, activation='sigmoid')(x)\n",
    "\n",
    "    model = tf.keras.models.Model(inputs=[acoustic_input, input_ids, attention_mask, visual_input], outputs=outputs)\n",
    "    return model\n"
   ]
  },
  {
   "cell_type": "code",
   "execution_count": 25,
   "metadata": {},
   "outputs": [
    {
     "data": {
      "text/plain": [
       "(147, 74)"
      ]
     },
     "execution_count": 25,
     "metadata": {},
     "output_type": "execute_result"
    }
   ],
   "source": [
    "np.shape(train_df['acoustic'][15])"
   ]
  },
  {
   "cell_type": "code",
   "execution_count": 26,
   "metadata": {},
   "outputs": [
    {
     "data": {
      "text/plain": [
       "(64, 35)"
      ]
     },
     "execution_count": 26,
     "metadata": {},
     "output_type": "execute_result"
    }
   ],
   "source": [
    "np.shape(train_df['visual'][15])"
   ]
  },
  {
   "cell_type": "code",
   "execution_count": 27,
   "metadata": {},
   "outputs": [],
   "source": [
    "# Encode text data using BERT tokenizer\n",
    "def encode_text_data(text_data, max_length=500):\n",
    "    tokenizer = BertTokenizer.from_pretrained('bert-base-uncased')\n",
    "    input_ids = []\n",
    "    attention_masks = []\n",
    "\n",
    "    for text in text_data:\n",
    "        encoded_dict = tokenizer.encode_plus(\n",
    "            text,\n",
    "            add_special_tokens=True,\n",
    "            max_length=max_length,  # Set max_length to 500 for BERT base model\n",
    "            padding='max_length',\n",
    "            return_attention_mask=True,\n",
    "            return_tensors='tf'\n",
    "        )\n",
    "        input_ids.append(encoded_dict['input_ids'])\n",
    "        attention_masks.append(encoded_dict['attention_mask'])\n",
    "\n",
    "    input_ids = tf.concat(input_ids, axis=0)\n",
    "    attention_masks = tf.concat(attention_masks, axis=0)\n",
    "\n",
    "    return input_ids, attention_masks\n",
    "\n",
    "def addPadding(df, colName, dim):\n",
    "    max_length_x = df[colName].apply(lambda x: x.shape[0] if isinstance(x, np.ndarray) else 0).max()\n",
    "\n",
    "    # Perform padding within the DataFrame\n",
    "    df[colName] = df[colName].apply(lambda x: np.vstack([x, np.zeros((max_length_x - x.shape[0], dim))]) if isinstance(x, np.ndarray) else x)\n",
    "\n",
    "\n",
    "def processText(text):\n",
    "    return ' '.join(text)\n",
    "\n",
    "def preprocessData(df):\n",
    "    addPadding(df,'visual',35)\n",
    "    addPadding(df,'acoustic',74)\n",
    "\n",
    "    df['words'] = df['actual_words'].apply(processText)\n",
    "\n",
    "    # Preprocess text data and create a tf.data.Dataset\n",
    "    text_data = encode_text_data(df['words'].tolist())\n",
    "\n",
    "    # Prepare the rest of the data\n",
    "    acoustic_data = np.stack(df['acoustic'])\n",
    "    visual_data = np.stack(df['visual'])\n",
    "    label_data = np.array([label[0] for label in df['_label']])\n",
    "\n",
    "    # Unpack the text_data into input_ids_data and attention_mask_data\n",
    "    input_ids_data, attention_mask_data = text_data\n",
    "    input_ids_data = input_ids_data.numpy().astype(np.int32)\n",
    "    attention_mask_data = attention_mask_data.numpy().astype(np.int32)\n",
    "\n",
    "    # Convert the label_data to float32 as it is expected for regression\n",
    "    label_data = label_data.astype(np.float32)\n",
    "    return {'Data':[acoustic_data, input_ids_data, attention_mask_data, visual_data],'Label_denorm':label_data}"
   ]
  },
  {
   "cell_type": "code",
   "execution_count": 28,
   "metadata": {},
   "outputs": [
    {
     "name": "stderr",
     "output_type": "stream",
     "text": [
      "Some layers from the model checkpoint at bert-base-uncased were not used when initializing TFBertModel: ['nsp___cls', 'mlm___cls']\n",
      "- This IS expected if you are initializing TFBertModel from the checkpoint of a model trained on another task or with another architecture (e.g. initializing a BertForSequenceClassification model from a BertForPreTraining model).\n",
      "- This IS NOT expected if you are initializing TFBertModel from the checkpoint of a model that you expect to be exactly identical (initializing a BertForSequenceClassification model from a BertForSequenceClassification model).\n",
      "All the layers of TFBertModel were initialized from the model checkpoint at bert-base-uncased.\n",
      "If your task is similar to the task the model of the checkpoint was trained on, you can already use TFBertModel for predictions without further training.\n"
     ]
    }
   ],
   "source": [
    "model = create_combined_model(acoustic_input_shape=(500,74), visual_input_shape=(500,35), text_max_length=500)\n",
    "modelTrainData = preprocessData(train_df)\n",
    "modelValData = preprocessData(dev_df)\n",
    "modelTestData = preprocessData(test_df)"
   ]
  },
  {
   "cell_type": "code",
   "execution_count": 29,
   "metadata": {},
   "outputs": [],
   "source": [
    "def flatten_2d_array(arr_2d):\n",
    "    arr_1d = []\n",
    "    for row in arr_2d:\n",
    "        for item in row:\n",
    "            arr_1d.append(item)\n",
    "    return arr_1d\n",
    "def minmax_normalize(arr, min_val, max_val):\n",
    "    return (arr - min_val) / (max_val - min_val)\n",
    "def minmax_denormalize(arr_normalized, min_val, max_val):\n",
    "    return arr_normalized * (max_val - min_val) + min_val"
   ]
  },
  {
   "cell_type": "code",
   "execution_count": 30,
   "metadata": {},
   "outputs": [
    {
     "name": "stdout",
     "output_type": "stream",
     "text": [
      "Overall Label Minimum: -3.0\n",
      "Overall Label Maximum: 3.0\n"
     ]
    }
   ],
   "source": [
    "all_arrays_label = np.vstack(flatten_2d_array(modelTrainData['Label_denorm']) + flatten_2d_array(modelValData['Label_denorm']) + flatten_2d_array(modelTestData['Label_denorm']))\n",
    "\n",
    "# Calculate the overall label minimum and maximum values\n",
    "label_min = np.min(all_arrays_label)\n",
    "label_max = np.max(all_arrays_label)\n",
    "\n",
    "print(\"Overall Label Minimum:\", label_min)\n",
    "print(\"Overall Label Maximum:\", label_max)"
   ]
  },
  {
   "cell_type": "code",
   "execution_count": 31,
   "metadata": {},
   "outputs": [],
   "source": [
    "modelTrainData['Label'] = np.array([[minmax_normalize(arr[0], label_min, label_max)] for arr in modelTrainData['Label_denorm']])\n",
    "modelValData['Label'] = np.array([[minmax_normalize(arr[0], label_min, label_max)] for arr in modelValData['Label_denorm']])\n",
    "modelTestData['Label'] = np.array([[minmax_normalize(arr[0], label_min, label_max)] for arr in modelTestData['Label_denorm']])"
   ]
  },
  {
   "cell_type": "code",
   "execution_count": 32,
   "metadata": {},
   "outputs": [
    {
     "name": "stderr",
     "output_type": "stream",
     "text": [
      "2023-08-22 17:42:28.874508: I tensorflow/core/grappler/optimizers/custom_graph_optimizer_registry.cc:113] Plugin optimizer for device_type GPU is enabled.\n"
     ]
    },
    {
     "name": "stdout",
     "output_type": "stream",
     "text": [
      "511/511 [==============================] - ETA: 0s - loss: 0.0487 - mean_absolute_error: 0.1603"
     ]
    },
    {
     "name": "stderr",
     "output_type": "stream",
     "text": [
      "2023-08-22 18:31:08.555339: I tensorflow/core/grappler/optimizers/custom_graph_optimizer_registry.cc:113] Plugin optimizer for device_type GPU is enabled.\n"
     ]
    },
    {
     "name": "stdout",
     "output_type": "stream",
     "text": [
      "511/511 [==============================] - 2999s 6s/step - loss: 0.0487 - mean_absolute_error: 0.1603 - val_loss: 0.0295 - val_mean_absolute_error: 0.1288\n"
     ]
    },
    {
     "data": {
      "text/plain": [
       "<keras.callbacks.History at 0x2f60ba2b0>"
      ]
     },
     "execution_count": 32,
     "metadata": {},
     "output_type": "execute_result"
    }
   ],
   "source": [
    "model.compile(optimizer='adam', loss='mean_squared_error', metrics=['mean_absolute_error'])\n",
    "model.fit(\n",
    "    modelTrainData['Data'],\n",
    "    modelTrainData['Label'],\n",
    "    epochs=1,\n",
    "    verbose=1,\n",
    "    validation_data=(modelValData['Data'],modelValData['Label'])\n",
    ")\n",
    "\n"
   ]
  },
  {
   "cell_type": "code",
   "execution_count": 33,
   "metadata": {},
   "outputs": [
    {
     "name": "stderr",
     "output_type": "stream",
     "text": [
      "2023-08-22 18:32:24.086279: I tensorflow/core/grappler/optimizers/custom_graph_optimizer_registry.cc:113] Plugin optimizer for device_type GPU is enabled.\n"
     ]
    },
    {
     "name": "stdout",
     "output_type": "stream",
     "text": [
      "146/146 [==============================] - 164s 1s/step\n"
     ]
    }
   ],
   "source": [
    "predictions = model.predict(modelTestData['Data'])"
   ]
  },
  {
   "cell_type": "code",
   "execution_count": 34,
   "metadata": {},
   "outputs": [],
   "source": [
    "denormPred = np.array([[minmax_denormalize(arr[0], label_min, label_max)] for arr in predictions])"
   ]
  },
  {
   "cell_type": "code",
   "execution_count": 35,
   "metadata": {},
   "outputs": [
    {
     "name": "stdout",
     "output_type": "stream",
     "text": [
      "Mean Squared Error: 1.1999362\n",
      "Mean Absolute Error: 0.8365115\n"
     ]
    }
   ],
   "source": [
    "from sklearn.metrics import mean_squared_error, mean_absolute_error\n",
    "mse = mean_squared_error(modelTestData['Label_denorm'], denormPred)\n",
    "mae = mean_absolute_error(modelTestData['Label_denorm'], denormPred)\n",
    "\n",
    "print(\"Mean Squared Error:\", mse)\n",
    "print(\"Mean Absolute Error:\", mae)"
   ]
  },
  {
   "cell_type": "code",
   "execution_count": 36,
   "metadata": {},
   "outputs": [
    {
     "data": {
      "image/png": "[encoded data removed]",
      "text/plain": [
       "<Figure size 1000x600 with 1 Axes>"
      ]
     },
     "metadata": {},
     "output_type": "display_data"
    }
   ],
   "source": [
    "import matplotlib.pyplot as plt\n",
    "\n",
    "# Sample data (replace these with your actual data)\n",
    "x = np.linspace(0, 10, 4659)  # Assuming you have 4659 data points\n",
    "y1 = flatten_2d_array(denormPred)      # Replace with your first array data\n",
    "y2 = flatten_2d_array(modelTestData['Label_denorm'])      # Replace with your second array data\n",
    "\n",
    "# Create a figure and axis\n",
    "plt.figure(figsize=(10, 6))  # Set the figure size\n",
    "\n",
    "# Plot y1 and y2 as overlapping lines\n",
    "plt.plot(x, y2, color='green', label='predicted')  # Green line for y2\n",
    "plt.plot(x, y1, color='red', label='actual')    # Red line for y1\n",
    "\n",
    "# Add labels and title\n",
    "plt.xlabel('X-axis')\n",
    "plt.ylabel('Y-axis')\n",
    "plt.title('Overlapping Red and Green Lines')\n",
    "\n",
    "# Add a legend\n",
    "plt.legend()\n",
    "\n",
    "# Show the plot\n",
    "plt.show()"
   ]
  },
  {
   "cell_type": "code",
   "execution_count": 37,
   "metadata": {},
   "outputs": [
    {
     "data": {
      "text/plain": [
       "(array([ 311.,  760., 1125., 1459., 1083., 5715., 3116., 1739.,  811.,\n",
       "         207.]),\n",
       " array([0.        , 0.1       , 0.2       , 0.30000001, 0.40000001,\n",
       "        0.5       , 0.60000002, 0.69999999, 0.80000001, 0.89999998,\n",
       "        1.        ]),\n",
       " <BarContainer object of 10 artists>)"
      ]
     },
     "execution_count": 37,
     "metadata": {},
     "output_type": "execute_result"
    },
    {
     "data": {
      "image/png": "[encoded data removed]",
      "text/plain": [
       "<Figure size 640x480 with 1 Axes>"
      ]
     },
     "metadata": {},
     "output_type": "display_data"
    }
   ],
   "source": [
    "plt.hist(modelTrainData['Label'])"
   ]
  },
  {
   "cell_type": "code",
   "execution_count": 38,
   "metadata": {},
   "outputs": [
    {
     "data": {
      "text/plain": [
       "(array([ 311.,  760., 1125., 1459., 1083., 5715., 3116., 1739.,  811.,\n",
       "         207.]),\n",
       " array([-3.        , -2.4000001 , -1.79999995, -1.20000005, -0.60000002,\n",
       "         0.        ,  0.60000002,  1.20000005,  1.79999995,  2.4000001 ,\n",
       "         3.        ]),\n",
       " <BarContainer object of 10 artists>)"
      ]
     },
     "execution_count": 38,
     "metadata": {},
     "output_type": "execute_result"
    },
    {
     "data": {
      "image/png": "[encoded data removed]",
      "text/plain": [
       "<Figure size 640x480 with 1 Axes>"
      ]
     },
     "metadata": {},
     "output_type": "display_data"
    }
   ],
   "source": [
    "plt.hist(modelTrainData['Label_denorm'])"
   ]
  },
  {
   "cell_type": "code",
   "execution_count": 65,
   "metadata": {},
   "outputs": [
    {
     "data": {
      "text/plain": [
       "array([[1.       ],\n",
       "       [0.6666667],\n",
       "       [0.       ],\n",
       "       ...,\n",
       "       [0.6666667],\n",
       "       [1.       ],\n",
       "       [1.       ]], dtype=float32)"
      ]
     },
     "execution_count": 65,
     "metadata": {},
     "output_type": "execute_result"
    }
   ],
   "source": [
    "modelTrainData['Label_denorm']"
   ]
  },
  {
   "cell_type": "code",
   "execution_count": 61,
   "metadata": {},
   "outputs": [],
   "source": [
    "sqrtDt = [arr[0]**(1/2) for arr in modelTrainData['Label_denorm']]"
   ]
  },
  {
   "cell_type": "code",
   "execution_count": 62,
   "metadata": {},
   "outputs": [
    {
     "data": {
      "text/plain": [
       "(array([3540.,    0.,    8., 2160., 1776., 1344., 1004.,  739.,  810.,\n",
       "         207.]),\n",
       " array([0.        , 0.17320508, 0.34641016, 0.51961524, 0.69282032,\n",
       "        0.8660254 , 1.03923048, 1.21243557, 1.38564065, 1.55884573,\n",
       "        1.73205081]),\n",
       " <BarContainer object of 10 artists>)"
      ]
     },
     "execution_count": 62,
     "metadata": {},
     "output_type": "execute_result"
    },
    {
     "data": {
      "image/png": "[encoded data removed]",
      "text/plain": [
       "<Figure size 640x480 with 1 Axes>"
      ]
     },
     "metadata": {},
     "output_type": "display_data"
    }
   ],
   "source": [
    "\n",
    "plt.hist(sqrtDt)"
   ]
  },
  {
   "cell_type": "code",
   "execution_count": 72,
   "metadata": {},
   "outputs": [
    {
     "name": "stderr",
     "output_type": "stream",
     "text": [
      "/var/folders/zj/hd8_xvbd3fvbp9wj5412cw_c0000gn/T/ipykernel_4225/1970934531.py:1: RuntimeWarning: divide by zero encountered in log\n",
      "  cubrtDt = [[np.log(arr[0])] for arr in modelTrainData['Label']]\n"
     ]
    }
   ],
   "source": [
    "cubrtDt = [[np.log(arr[0])] for arr in modelTrainData['Label']]"
   ]
  },
  {
   "cell_type": "code",
   "execution_count": 80,
   "metadata": {},
   "outputs": [
    {
     "name": "stderr",
     "output_type": "stream",
     "text": [
      "/var/folders/zj/hd8_xvbd3fvbp9wj5412cw_c0000gn/T/ipykernel_4225/2933082444.py:1: RuntimeWarning: divide by zero encountered in log\n",
      "  np.log(0)\n"
     ]
    },
    {
     "data": {
      "text/plain": [
       "-inf"
      ]
     },
     "execution_count": 80,
     "metadata": {},
     "output_type": "execute_result"
    }
   ],
   "source": [
    "np.log(0)"
   ]
  },
  {
   "cell_type": "code",
   "execution_count": 74,
   "metadata": {},
   "outputs": [
    {
     "data": {
      "text/plain": [
       "array([[0.6666667],\n",
       "       [0.6111111],\n",
       "       [0.5      ],\n",
       "       ...,\n",
       "       [0.6111111],\n",
       "       [0.6666667],\n",
       "       [0.6666667]], dtype=float32)"
      ]
     },
     "execution_count": 74,
     "metadata": {},
     "output_type": "execute_result"
    }
   ],
   "source": [
    "modelTrainData['Label']"
   ]
  },
  {
   "cell_type": "code",
   "execution_count": 73,
   "metadata": {},
   "outputs": [
    {
     "ename": "ValueError",
     "evalue": "supplied range of [-inf, 0.0] is not finite",
     "output_type": "error",
     "traceback": [
      "\u001b[0;31m---------------------------------------------------------------------------\u001b[0m",
      "\u001b[0;31mValueError\u001b[0m                                Traceback (most recent call last)",
      "Cell \u001b[0;32mIn[73], line 1\u001b[0m\n\u001b[0;32m----> 1\u001b[0m plt\u001b[39m.\u001b[39;49mhist(cubrtDt)\n",
      "File \u001b[0;32m~/miniforge3/envs/env_tf/lib/python3.9/site-packages/matplotlib/pyplot.py:2581\u001b[0m, in \u001b[0;36mhist\u001b[0;34m(x, bins, range, density, weights, cumulative, bottom, histtype, align, orientation, rwidth, log, color, label, stacked, data, **kwargs)\u001b[0m\n\u001b[1;32m   2575\u001b[0m \u001b[39m@_copy_docstring_and_deprecators\u001b[39m(Axes\u001b[39m.\u001b[39mhist)\n\u001b[1;32m   2576\u001b[0m \u001b[39mdef\u001b[39;00m \u001b[39mhist\u001b[39m(\n\u001b[1;32m   2577\u001b[0m         x, bins\u001b[39m=\u001b[39m\u001b[39mNone\u001b[39;00m, \u001b[39mrange\u001b[39m\u001b[39m=\u001b[39m\u001b[39mNone\u001b[39;00m, density\u001b[39m=\u001b[39m\u001b[39mFalse\u001b[39;00m, weights\u001b[39m=\u001b[39m\u001b[39mNone\u001b[39;00m,\n\u001b[1;32m   2578\u001b[0m         cumulative\u001b[39m=\u001b[39m\u001b[39mFalse\u001b[39;00m, bottom\u001b[39m=\u001b[39m\u001b[39mNone\u001b[39;00m, histtype\u001b[39m=\u001b[39m\u001b[39m'\u001b[39m\u001b[39mbar\u001b[39m\u001b[39m'\u001b[39m, align\u001b[39m=\u001b[39m\u001b[39m'\u001b[39m\u001b[39mmid\u001b[39m\u001b[39m'\u001b[39m,\n\u001b[1;32m   2579\u001b[0m         orientation\u001b[39m=\u001b[39m\u001b[39m'\u001b[39m\u001b[39mvertical\u001b[39m\u001b[39m'\u001b[39m, rwidth\u001b[39m=\u001b[39m\u001b[39mNone\u001b[39;00m, log\u001b[39m=\u001b[39m\u001b[39mFalse\u001b[39;00m, color\u001b[39m=\u001b[39m\u001b[39mNone\u001b[39;00m,\n\u001b[1;32m   2580\u001b[0m         label\u001b[39m=\u001b[39m\u001b[39mNone\u001b[39;00m, stacked\u001b[39m=\u001b[39m\u001b[39mFalse\u001b[39;00m, \u001b[39m*\u001b[39m, data\u001b[39m=\u001b[39m\u001b[39mNone\u001b[39;00m, \u001b[39m*\u001b[39m\u001b[39m*\u001b[39mkwargs):\n\u001b[0;32m-> 2581\u001b[0m     \u001b[39mreturn\u001b[39;00m gca()\u001b[39m.\u001b[39;49mhist(\n\u001b[1;32m   2582\u001b[0m         x, bins\u001b[39m=\u001b[39;49mbins, \u001b[39mrange\u001b[39;49m\u001b[39m=\u001b[39;49m\u001b[39mrange\u001b[39;49m, density\u001b[39m=\u001b[39;49mdensity, weights\u001b[39m=\u001b[39;49mweights,\n\u001b[1;32m   2583\u001b[0m         cumulative\u001b[39m=\u001b[39;49mcumulative, bottom\u001b[39m=\u001b[39;49mbottom, histtype\u001b[39m=\u001b[39;49mhisttype,\n\u001b[1;32m   2584\u001b[0m         align\u001b[39m=\u001b[39;49malign, orientation\u001b[39m=\u001b[39;49morientation, rwidth\u001b[39m=\u001b[39;49mrwidth, log\u001b[39m=\u001b[39;49mlog,\n\u001b[1;32m   2585\u001b[0m         color\u001b[39m=\u001b[39;49mcolor, label\u001b[39m=\u001b[39;49mlabel, stacked\u001b[39m=\u001b[39;49mstacked,\n\u001b[1;32m   2586\u001b[0m         \u001b[39m*\u001b[39;49m\u001b[39m*\u001b[39;49m({\u001b[39m\"\u001b[39;49m\u001b[39mdata\u001b[39;49m\u001b[39m\"\u001b[39;49m: data} \u001b[39mif\u001b[39;49;00m data \u001b[39mis\u001b[39;49;00m \u001b[39mnot\u001b[39;49;00m \u001b[39mNone\u001b[39;49;00m \u001b[39melse\u001b[39;49;00m {}), \u001b[39m*\u001b[39;49m\u001b[39m*\u001b[39;49mkwargs)\n",
      "File \u001b[0;32m~/miniforge3/envs/env_tf/lib/python3.9/site-packages/matplotlib/__init__.py:1433\u001b[0m, in \u001b[0;36m_preprocess_data.<locals>.inner\u001b[0;34m(ax, data, *args, **kwargs)\u001b[0m\n\u001b[1;32m   1430\u001b[0m \u001b[39m@functools\u001b[39m\u001b[39m.\u001b[39mwraps(func)\n\u001b[1;32m   1431\u001b[0m \u001b[39mdef\u001b[39;00m \u001b[39minner\u001b[39m(ax, \u001b[39m*\u001b[39margs, data\u001b[39m=\u001b[39m\u001b[39mNone\u001b[39;00m, \u001b[39m*\u001b[39m\u001b[39m*\u001b[39mkwargs):\n\u001b[1;32m   1432\u001b[0m     \u001b[39mif\u001b[39;00m data \u001b[39mis\u001b[39;00m \u001b[39mNone\u001b[39;00m:\n\u001b[0;32m-> 1433\u001b[0m         \u001b[39mreturn\u001b[39;00m func(ax, \u001b[39m*\u001b[39;49m\u001b[39mmap\u001b[39;49m(sanitize_sequence, args), \u001b[39m*\u001b[39;49m\u001b[39m*\u001b[39;49mkwargs)\n\u001b[1;32m   1435\u001b[0m     bound \u001b[39m=\u001b[39m new_sig\u001b[39m.\u001b[39mbind(ax, \u001b[39m*\u001b[39margs, \u001b[39m*\u001b[39m\u001b[39m*\u001b[39mkwargs)\n\u001b[1;32m   1436\u001b[0m     auto_label \u001b[39m=\u001b[39m (bound\u001b[39m.\u001b[39marguments\u001b[39m.\u001b[39mget(label_namer)\n\u001b[1;32m   1437\u001b[0m                   \u001b[39mor\u001b[39;00m bound\u001b[39m.\u001b[39mkwargs\u001b[39m.\u001b[39mget(label_namer))\n",
      "File \u001b[0;32m~/miniforge3/envs/env_tf/lib/python3.9/site-packages/matplotlib/axes/_axes.py:6728\u001b[0m, in \u001b[0;36mAxes.hist\u001b[0;34m(self, x, bins, range, density, weights, cumulative, bottom, histtype, align, orientation, rwidth, log, color, label, stacked, **kwargs)\u001b[0m\n\u001b[1;32m   6726\u001b[0m     \u001b[39melse\u001b[39;00m:\n\u001b[1;32m   6727\u001b[0m         _w \u001b[39m=\u001b[39m \u001b[39mNone\u001b[39;00m\n\u001b[0;32m-> 6728\u001b[0m     bins \u001b[39m=\u001b[39m np\u001b[39m.\u001b[39;49mhistogram_bin_edges(\n\u001b[1;32m   6729\u001b[0m         np\u001b[39m.\u001b[39;49mconcatenate(x), bins, bin_range, _w)\n\u001b[1;32m   6730\u001b[0m \u001b[39melse\u001b[39;00m:\n\u001b[1;32m   6731\u001b[0m     hist_kwargs[\u001b[39m'\u001b[39m\u001b[39mrange\u001b[39m\u001b[39m'\u001b[39m] \u001b[39m=\u001b[39m bin_range\n",
      "File \u001b[0;32m~/miniforge3/envs/env_tf/lib/python3.9/site-packages/numpy/lib/histograms.py:669\u001b[0m, in \u001b[0;36mhistogram_bin_edges\u001b[0;34m(a, bins, range, weights)\u001b[0m\n\u001b[1;32m    472\u001b[0m \u001b[39m\u001b[39m\u001b[39mr\u001b[39m\u001b[39m\"\"\"\u001b[39;00m\n\u001b[1;32m    473\u001b[0m \u001b[39mFunction to calculate only the edges of the bins used by the `histogram`\u001b[39;00m\n\u001b[1;32m    474\u001b[0m \u001b[39mfunction.\u001b[39;00m\n\u001b[0;32m   (...)\u001b[0m\n\u001b[1;32m    666\u001b[0m \n\u001b[1;32m    667\u001b[0m \u001b[39m\"\"\"\u001b[39;00m\n\u001b[1;32m    668\u001b[0m a, weights \u001b[39m=\u001b[39m _ravel_and_check_weights(a, weights)\n\u001b[0;32m--> 669\u001b[0m bin_edges, _ \u001b[39m=\u001b[39m _get_bin_edges(a, bins, \u001b[39mrange\u001b[39;49m, weights)\n\u001b[1;32m    670\u001b[0m \u001b[39mreturn\u001b[39;00m bin_edges\n",
      "File \u001b[0;32m~/miniforge3/envs/env_tf/lib/python3.9/site-packages/numpy/lib/histograms.py:426\u001b[0m, in \u001b[0;36m_get_bin_edges\u001b[0;34m(a, bins, range, weights)\u001b[0m\n\u001b[1;32m    423\u001b[0m     \u001b[39mif\u001b[39;00m n_equal_bins \u001b[39m<\u001b[39m \u001b[39m1\u001b[39m:\n\u001b[1;32m    424\u001b[0m         \u001b[39mraise\u001b[39;00m \u001b[39mValueError\u001b[39;00m(\u001b[39m'\u001b[39m\u001b[39m`bins` must be positive, when an integer\u001b[39m\u001b[39m'\u001b[39m)\n\u001b[0;32m--> 426\u001b[0m     first_edge, last_edge \u001b[39m=\u001b[39m _get_outer_edges(a, \u001b[39mrange\u001b[39;49m)\n\u001b[1;32m    428\u001b[0m \u001b[39melif\u001b[39;00m np\u001b[39m.\u001b[39mndim(bins) \u001b[39m==\u001b[39m \u001b[39m1\u001b[39m:\n\u001b[1;32m    429\u001b[0m     bin_edges \u001b[39m=\u001b[39m np\u001b[39m.\u001b[39masarray(bins)\n",
      "File \u001b[0;32m~/miniforge3/envs/env_tf/lib/python3.9/site-packages/numpy/lib/histograms.py:315\u001b[0m, in \u001b[0;36m_get_outer_edges\u001b[0;34m(a, range)\u001b[0m\n\u001b[1;32m    312\u001b[0m         \u001b[39mraise\u001b[39;00m \u001b[39mValueError\u001b[39;00m(\n\u001b[1;32m    313\u001b[0m             \u001b[39m'\u001b[39m\u001b[39mmax must be larger than min in range parameter.\u001b[39m\u001b[39m'\u001b[39m)\n\u001b[1;32m    314\u001b[0m     \u001b[39mif\u001b[39;00m \u001b[39mnot\u001b[39;00m (np\u001b[39m.\u001b[39misfinite(first_edge) \u001b[39mand\u001b[39;00m np\u001b[39m.\u001b[39misfinite(last_edge)):\n\u001b[0;32m--> 315\u001b[0m         \u001b[39mraise\u001b[39;00m \u001b[39mValueError\u001b[39;00m(\n\u001b[1;32m    316\u001b[0m             \u001b[39m\"\u001b[39m\u001b[39msupplied range of [\u001b[39m\u001b[39m{}\u001b[39;00m\u001b[39m, \u001b[39m\u001b[39m{}\u001b[39;00m\u001b[39m] is not finite\u001b[39m\u001b[39m\"\u001b[39m\u001b[39m.\u001b[39mformat(first_edge, last_edge))\n\u001b[1;32m    317\u001b[0m \u001b[39melif\u001b[39;00m a\u001b[39m.\u001b[39msize \u001b[39m==\u001b[39m \u001b[39m0\u001b[39m:\n\u001b[1;32m    318\u001b[0m     \u001b[39m# handle empty arrays. Can't determine range, so use 0-1.\u001b[39;00m\n\u001b[1;32m    319\u001b[0m     first_edge, last_edge \u001b[39m=\u001b[39m \u001b[39m0\u001b[39m, \u001b[39m1\u001b[39m\n",
      "\u001b[0;31mValueError\u001b[0m: supplied range of [-inf, 0.0] is not finite"
     ]
    },
    {
     "data": {
      "image/png": "[encoded data removed]",
      "text/plain": [
       "<Figure size 640x480 with 1 Axes>"
      ]
     },
     "metadata": {},
     "output_type": "display_data"
    }
   ],
   "source": [
    "plt.hist(cubrtDt)"
   ]
  },
  {
   "cell_type": "code",
   "execution_count": 79,
   "metadata": {},
   "outputs": [
    {
     "name": "stderr",
     "output_type": "stream",
     "text": [
      "WARNING:absl:Found untraced functions such as _jit_compiled_convolution_op, _jit_compiled_convolution_op, _jit_compiled_convolution_op, _jit_compiled_convolution_op, embeddings_layer_call_fn while saving (showing 5 of 424). These functions will not be directly callable after loading.\n"
     ]
    },
    {
     "name": "stdout",
     "output_type": "stream",
     "text": [
      "INFO:tensorflow:Assets written to: ./savedModel1/assets\n"
     ]
    },
    {
     "name": "stderr",
     "output_type": "stream",
     "text": [
      "INFO:tensorflow:Assets written to: ./savedModel1/assets\n"
     ]
    }
   ],
   "source": [
    "\n",
    "# Save the model to a directory\n",
    "model.save('./savedModel1')\n",
    "\n",
    "# Optionally, you can save the tokenizer used for encoding the text data\n",
    "# tokenizer.save_pretrained('./savedModels')"
   ]
  },
  {
   "cell_type": "code",
   "execution_count": null,
   "metadata": {},
   "outputs": [],
   "source": [
    "loaded_model = tf.keras.models.load_model('./savedModel1')\n"
   ]
  }
 ],
 "metadata": {
  "kernelspec": {
   "display_name": "Python 3.9.16 (env_tf)",
   "language": "python",
   "name": "env_tf"
  },
  "language_info": {
   "codemirror_mode": {
    "name": "ipython",
    "version": 3
   },
   "file_extension": ".py",
   "mimetype": "text/x-python",
   "name": "python",
   "nbconvert_exporter": "python",
   "pygments_lexer": "ipython3",
   "version": "3.9.16"
  },
  "orig_nbformat": 4,
  "vscode": {
   "interpreter": {
    "hash": "e7f7a6c7a328c331394eefecd3ffebe18a341a9e21c7b3790bdb1b050ca99952"
   }
  }
 },
 "nbformat": 4,
 "nbformat_minor": 2
}
