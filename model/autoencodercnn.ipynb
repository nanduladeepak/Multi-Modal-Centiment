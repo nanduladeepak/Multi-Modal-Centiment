{
 "cells": [
  {
   "cell_type": "code",
   "execution_count": 1,
   "metadata": {},
   "outputs": [
    {
     "name": "stdout",
     "output_type": "stream",
     "text": [
      "Total number of 0 datapoints have been dropped.\n",
      "Dataset split\n",
      "Train Set: 16326\n",
      "Validation Set: 1871\n",
      "Test Set: 4659\n"
     ]
    }
   ],
   "source": [
    "import sys\n",
    "import os\n",
    "import re\n",
    "import pickle\n",
    "import pandas as pd\n",
    "import numpy as np\n",
    "import random\n",
    "import tensorflow as tf\n",
    "from transformers import TFBertModel,BertTokenizer\n",
    "from sklearn.preprocessing import StandardScaler\n",
    "import sys\n",
    "import os\n",
    "import re\n",
    "import pickle\n",
    "\n",
    "\n",
    "DATA_PATH = '../data/MOSEI/'\n",
    "\n",
    "def to_pickle(obj, path):\n",
    "    with open(path, 'wb') as f:\n",
    "        pickle.dump(obj, f)\n",
    "\n",
    "def load_pickle(path):\n",
    "    with open(path, 'rb') as f:\n",
    "        return pickle.load(f)\n",
    "\n",
    "def get_length(x):\n",
    "    return x.shape[1]-(np.sum(x, axis=-1) == 0).sum(1)\n",
    "\n",
    "# first we align to words with averaging, collapse_function receives a list of functions\n",
    "# dataset.align(text_field, collapse_functions=[avg])\n",
    "# load pickle file for unaligned acoustic and visual source\n",
    "pickle_filename = DATA_PATH+'mosei_senti_data_noalign.pkl'\n",
    "csv_filename = DATA_PATH+'MOSEI-label.csv'\n",
    "\n",
    "with open(pickle_filename, 'rb') as f:\n",
    "    d = pickle.load(f)\n",
    "\n",
    "# read csv file for label and text\n",
    "df = pd.read_csv(csv_filename)\n",
    "text = df['text']\n",
    "vid = df['video_id']\n",
    "cid = df['clip_id']\n",
    "\n",
    "train_split_noalign = d['train']\n",
    "dev_split_noalign = d['valid']\n",
    "test_split_noalign = d['test']\n",
    "\n",
    "# a sentinel epsilon for safe division, without it we will replace illegal values with a constant\n",
    "EPS = 1e-6\n",
    "\n",
    "# place holders for the final train/dev/test dataset\n",
    "train = train = []\n",
    "dev = dev = []\n",
    "test = test = []\n",
    "\n",
    "# define a regular expression to extract the video ID out of the keys\n",
    "# pattern = re.compile('(.*)\\[.*\\]')\n",
    "pattern = re.compile('(.*)_([.*])')\n",
    "num_drop = 0 # a counter to count how many data points went into some processing issues\n",
    "\n",
    "v = np.concatenate((train_split_noalign['vision'],dev_split_noalign['vision'], test_split_noalign['vision']),axis=0)\n",
    "vlens = get_length(v)\n",
    "\n",
    "a = np.concatenate((train_split_noalign['audio'],dev_split_noalign['audio'], test_split_noalign['audio']),axis=0)\n",
    "alens = get_length(a)\n",
    "\n",
    "label = np.concatenate((train_split_noalign['labels'],dev_split_noalign['labels'], test_split_noalign['labels']),axis=0)\n",
    "\n",
    "L_V = v.shape[1]\n",
    "L_A = a.shape[1]\n",
    "\n",
    "\n",
    "all_id = np.concatenate((train_split_noalign['id'], dev_split_noalign['id'], test_split_noalign['id']),axis=0)[:,0]\n",
    "all_id_list = all_id.tolist()\n",
    "\n",
    "train_size = len(train_split_noalign['id'])\n",
    "dev_size = len(dev_split_noalign['id'])\n",
    "test_size = len(test_split_noalign['id'])\n",
    "\n",
    "dev_start = train_size\n",
    "test_start = train_size + dev_size\n",
    "\n",
    "all_csv_id = [(vid[i], str(cid[i])) for i in range(len(vid))]\n",
    "\n",
    "for i, idd in enumerate(all_id_list):\n",
    "    # get the video ID and the features out of the aligned dataset\n",
    "\n",
    "    # matching process\n",
    "    try:\n",
    "        index = i\n",
    "    except:\n",
    "        import ipdb; ipdb.set_trace()\n",
    "\n",
    "    _words = text[index].split()\n",
    "    _label = label[i].astype(np.float32)\n",
    "    _visual = v[i]\n",
    "    _acoustic = a[i]\n",
    "    _vlen = vlens[i]\n",
    "    _alen = alens[i]\n",
    "    _id = '{}[{}]'.format(all_csv_id[0], all_csv_id[1])           \n",
    "\n",
    "    # remove nan values\n",
    "    # label = np.nan_to_num(label)\n",
    "    _visual = np.nan_to_num(_visual)\n",
    "    _acoustic = np.nan_to_num(_acoustic)\n",
    "\n",
    "    # remove speech pause tokens - this is in general helpful\n",
    "    # we should remove speech pauses and corresponding visual/acoustic features together\n",
    "    # otherwise modalities would no longer be aligned\n",
    "    actual_words = []\n",
    "    words = []\n",
    "    visual = []\n",
    "    acoustic = []\n",
    "\n",
    "    for word in _words:\n",
    "        actual_words.append(word)\n",
    "\n",
    "    visual = _visual[L_V - _vlen:,:]\n",
    "    acoustic = _acoustic[L_A - _alen:,:]\n",
    "\n",
    "    if i < dev_start:\n",
    "        train.append((words, visual, acoustic, actual_words, _vlen, _alen, _label, idd))\n",
    "    elif i >= dev_start and i < test_start:\n",
    "        dev.append((words, visual, acoustic, actual_words, _vlen, _alen, _label, idd))\n",
    "    elif i >= test_start:\n",
    "        test.append((words, visual, acoustic, actual_words, _vlen, _alen, _label, idd))\n",
    "    else:\n",
    "        print(f\"Found video that doesn't belong to any splits: {idd}\")\n",
    "\n",
    "\n",
    "# print(f\"Total number of {num_drop} datapoints have been dropped.\")\n",
    "print(f\"Total number of {num_drop} datapoints have been dropped.\")\n",
    "print(\"Dataset split\")\n",
    "print(\"Train Set: {}\".format(len(train)))\n",
    "print(\"Validation Set: {}\".format(len(dev)))\n",
    "print(\"Test Set: {}\".format(len(test)))\n",
    "\n",
    "# Save glove embeddings cache too\n",
    "# self.pretrained_emb = pretrained_emb = load_emb(word2id, config.word_emb_path)\n",
    "# torch.save((pretrained_emb, word2id), CACHE_PATH)\n",
    "pretrained_emb = None\n",
    "\n",
    "# Save pickles\n",
    "to_pickle(train, DATA_PATH + '/dftrain.pkl')\n",
    "to_pickle(dev, DATA_PATH + '/dfdev.pkl')\n",
    "to_pickle(test, DATA_PATH + '/dftest.pkl')"
   ]
  },
  {
   "cell_type": "code",
   "execution_count": 2,
   "metadata": {},
   "outputs": [],
   "source": [
    "train_df = pd.DataFrame(train,columns=['words', 'visual', 'acoustic', 'actual_words', '_vlen', '_alen', '_label', 'idd'])\n",
    "dev_df = pd.DataFrame(dev,columns=['words', 'visual', 'acoustic', 'actual_words', '_vlen', '_alen', '_label', 'idd'])\n",
    "test_df = pd.DataFrame(test,columns=['words', 'visual', 'acoustic', 'actual_words', '_vlen', '_alen', '_label', 'idd'])\n"
   ]
  },
  {
   "cell_type": "code",
   "execution_count": 3,
   "metadata": {},
   "outputs": [
    {
     "data": {
      "text/html": [
       "<div>\n",
       "<style scoped>\n",
       "    .dataframe tbody tr th:only-of-type {\n",
       "        vertical-align: middle;\n",
       "    }\n",
       "\n",
       "    .dataframe tbody tr th {\n",
       "        vertical-align: top;\n",
       "    }\n",
       "\n",
       "    .dataframe thead th {\n",
       "        text-align: right;\n",
       "    }\n",
       "</style>\n",
       "<table border=\"1\" class=\"dataframe\">\n",
       "  <thead>\n",
       "    <tr style=\"text-align: right;\">\n",
       "      <th></th>\n",
       "      <th>words</th>\n",
       "      <th>visual</th>\n",
       "      <th>acoustic</th>\n",
       "      <th>actual_words</th>\n",
       "      <th>_vlen</th>\n",
       "      <th>_alen</th>\n",
       "      <th>_label</th>\n",
       "      <th>idd</th>\n",
       "    </tr>\n",
       "  </thead>\n",
       "  <tbody>\n",
       "    <tr>\n",
       "      <th>0</th>\n",
       "      <td>[]</td>\n",
       "      <td>[[-1.2108299732208252, -0.46178698539733887, -...</td>\n",
       "      <td>[[194.5, 0.0, 0.07899338752031326, 0.412973552...</td>\n",
       "      <td>[Key, is, part, of, the, people, that, we, use...</td>\n",
       "      <td>267</td>\n",
       "      <td>356</td>\n",
       "      <td>[[1.0]]</td>\n",
       "      <td>-3g5yACwYnA</td>\n",
       "    </tr>\n",
       "    <tr>\n",
       "      <th>1</th>\n",
       "      <td>[]</td>\n",
       "      <td>[[-1.7858200073242188, -0.6380839943885803, 0....</td>\n",
       "      <td>[[105.5, 1.0, 0.021022265776991844, 0.08599962...</td>\n",
       "      <td>[They've, been, able, to, find, solutions, or,...</td>\n",
       "      <td>81</td>\n",
       "      <td>107</td>\n",
       "      <td>[[0.6666667]]</td>\n",
       "      <td>-3g5yACwYnA</td>\n",
       "    </tr>\n",
       "    <tr>\n",
       "      <th>2</th>\n",
       "      <td>[]</td>\n",
       "      <td>[[-1.7642099857330322, -0.7958599925041199, -0...</td>\n",
       "      <td>[[106.5, 1.0, 0.11148008704185486, 0.726543664...</td>\n",
       "      <td>[We're, a, huge, user, of, adhesives, for, our...</td>\n",
       "      <td>215</td>\n",
       "      <td>286</td>\n",
       "      <td>[[0.0]]</td>\n",
       "      <td>-3g5yACwYnA</td>\n",
       "    </tr>\n",
       "    <tr>\n",
       "      <th>3</th>\n",
       "      <td>[]</td>\n",
       "      <td>[[-1.2986199855804443, -0.2510870099067688, -0...</td>\n",
       "      <td>[[115.5, 1.0, 0.057251088321208954, 0.33875322...</td>\n",
       "      <td>[Key, Polymer, brings, a, technical, aspect, t...</td>\n",
       "      <td>138</td>\n",
       "      <td>184</td>\n",
       "      <td>[[0.0]]</td>\n",
       "      <td>-3g5yACwYnA</td>\n",
       "    </tr>\n",
       "    <tr>\n",
       "      <th>4</th>\n",
       "      <td>[]</td>\n",
       "      <td>[[-1.6502399444580078, -0.3371959924697876, -0...</td>\n",
       "      <td>[[100.5, 1.0, 0.14517584443092346, 0.675116181...</td>\n",
       "      <td>[Key, brings, those, types, of, aspects, to, a...</td>\n",
       "      <td>221</td>\n",
       "      <td>295</td>\n",
       "      <td>[[1.0]]</td>\n",
       "      <td>-3g5yACwYnA</td>\n",
       "    </tr>\n",
       "    <tr>\n",
       "      <th>...</th>\n",
       "      <td>...</td>\n",
       "      <td>...</td>\n",
       "      <td>...</td>\n",
       "      <td>...</td>\n",
       "      <td>...</td>\n",
       "      <td>...</td>\n",
       "      <td>...</td>\n",
       "      <td>...</td>\n",
       "    </tr>\n",
       "    <tr>\n",
       "      <th>16321</th>\n",
       "      <td>[]</td>\n",
       "      <td>[[-1.8842400312423706, -0.6028929948806763, 0....</td>\n",
       "      <td>[[127.5, 1.0, 0.11853820085525513, 0.720579862...</td>\n",
       "      <td>[I, read, other, articles,, what, other, train...</td>\n",
       "      <td>72</td>\n",
       "      <td>103</td>\n",
       "      <td>[[0.0]]</td>\n",
       "      <td>zwTrXwi54us</td>\n",
       "    </tr>\n",
       "    <tr>\n",
       "      <th>16322</th>\n",
       "      <td>[]</td>\n",
       "      <td>[[-2.153140068054199, -0.04792049899697304, -0...</td>\n",
       "      <td>[[129.5, 1.0, 0.1991356760263443, 0.6945900321...</td>\n",
       "      <td>[I, do, all, of, that]</td>\n",
       "      <td>28</td>\n",
       "      <td>37</td>\n",
       "      <td>[[0.0]]</td>\n",
       "      <td>zwTrXwi54us</td>\n",
       "    </tr>\n",
       "    <tr>\n",
       "      <th>16323</th>\n",
       "      <td>[]</td>\n",
       "      <td>[[-4.401090145111084, -1.0127899646759033, -1....</td>\n",
       "      <td>[[188.5, 0.0, 0.05910159647464752, 0.331484466...</td>\n",
       "      <td>[Now,, if, this, sounds, like, something, you'...</td>\n",
       "      <td>163</td>\n",
       "      <td>227</td>\n",
       "      <td>[[0.6666667]]</td>\n",
       "      <td>zwTrXwi54us</td>\n",
       "    </tr>\n",
       "    <tr>\n",
       "      <th>16324</th>\n",
       "      <td>[]</td>\n",
       "      <td>[[-2.3272500038146973, -1.1171799898147583, 0....</td>\n",
       "      <td>[[133.0, 0.0, 0.027281710878014565, 0.07664652...</td>\n",
       "      <td>[I, actually, speak, to, the, experts, myself,...</td>\n",
       "      <td>80</td>\n",
       "      <td>106</td>\n",
       "      <td>[[1.0]]</td>\n",
       "      <td>zwTrXwi54us</td>\n",
       "    </tr>\n",
       "    <tr>\n",
       "      <th>16325</th>\n",
       "      <td>[]</td>\n",
       "      <td>[[-1.8243299722671509, -0.061710700392723083, ...</td>\n",
       "      <td>[[116.5, 1.0, 0.17489837110042572, 0.565754592...</td>\n",
       "      <td>[And, we’ve, seen, some, programs,, we’ve, see...</td>\n",
       "      <td>349</td>\n",
       "      <td>465</td>\n",
       "      <td>[[1.0]]</td>\n",
       "      <td>zx4W0Vuus-I</td>\n",
       "    </tr>\n",
       "  </tbody>\n",
       "</table>\n",
       "<p>16326 rows × 8 columns</p>\n",
       "</div>"
      ],
      "text/plain": [
       "      words                                             visual  \\\n",
       "0        []  [[-1.2108299732208252, -0.46178698539733887, -...   \n",
       "1        []  [[-1.7858200073242188, -0.6380839943885803, 0....   \n",
       "2        []  [[-1.7642099857330322, -0.7958599925041199, -0...   \n",
       "3        []  [[-1.2986199855804443, -0.2510870099067688, -0...   \n",
       "4        []  [[-1.6502399444580078, -0.3371959924697876, -0...   \n",
       "...     ...                                                ...   \n",
       "16321    []  [[-1.8842400312423706, -0.6028929948806763, 0....   \n",
       "16322    []  [[-2.153140068054199, -0.04792049899697304, -0...   \n",
       "16323    []  [[-4.401090145111084, -1.0127899646759033, -1....   \n",
       "16324    []  [[-2.3272500038146973, -1.1171799898147583, 0....   \n",
       "16325    []  [[-1.8243299722671509, -0.061710700392723083, ...   \n",
       "\n",
       "                                                acoustic  \\\n",
       "0      [[194.5, 0.0, 0.07899338752031326, 0.412973552...   \n",
       "1      [[105.5, 1.0, 0.021022265776991844, 0.08599962...   \n",
       "2      [[106.5, 1.0, 0.11148008704185486, 0.726543664...   \n",
       "3      [[115.5, 1.0, 0.057251088321208954, 0.33875322...   \n",
       "4      [[100.5, 1.0, 0.14517584443092346, 0.675116181...   \n",
       "...                                                  ...   \n",
       "16321  [[127.5, 1.0, 0.11853820085525513, 0.720579862...   \n",
       "16322  [[129.5, 1.0, 0.1991356760263443, 0.6945900321...   \n",
       "16323  [[188.5, 0.0, 0.05910159647464752, 0.331484466...   \n",
       "16324  [[133.0, 0.0, 0.027281710878014565, 0.07664652...   \n",
       "16325  [[116.5, 1.0, 0.17489837110042572, 0.565754592...   \n",
       "\n",
       "                                            actual_words  _vlen  _alen  \\\n",
       "0      [Key, is, part, of, the, people, that, we, use...    267    356   \n",
       "1      [They've, been, able, to, find, solutions, or,...     81    107   \n",
       "2      [We're, a, huge, user, of, adhesives, for, our...    215    286   \n",
       "3      [Key, Polymer, brings, a, technical, aspect, t...    138    184   \n",
       "4      [Key, brings, those, types, of, aspects, to, a...    221    295   \n",
       "...                                                  ...    ...    ...   \n",
       "16321  [I, read, other, articles,, what, other, train...     72    103   \n",
       "16322                             [I, do, all, of, that]     28     37   \n",
       "16323  [Now,, if, this, sounds, like, something, you'...    163    227   \n",
       "16324  [I, actually, speak, to, the, experts, myself,...     80    106   \n",
       "16325  [And, we’ve, seen, some, programs,, we’ve, see...    349    465   \n",
       "\n",
       "              _label          idd  \n",
       "0            [[1.0]]  -3g5yACwYnA  \n",
       "1      [[0.6666667]]  -3g5yACwYnA  \n",
       "2            [[0.0]]  -3g5yACwYnA  \n",
       "3            [[0.0]]  -3g5yACwYnA  \n",
       "4            [[1.0]]  -3g5yACwYnA  \n",
       "...              ...          ...  \n",
       "16321        [[0.0]]  zwTrXwi54us  \n",
       "16322        [[0.0]]  zwTrXwi54us  \n",
       "16323  [[0.6666667]]  zwTrXwi54us  \n",
       "16324        [[1.0]]  zwTrXwi54us  \n",
       "16325        [[1.0]]  zx4W0Vuus-I  \n",
       "\n",
       "[16326 rows x 8 columns]"
      ]
     },
     "execution_count": 3,
     "metadata": {},
     "output_type": "execute_result"
    }
   ],
   "source": [
    "train_df"
   ]
  },
  {
   "cell_type": "markdown",
   "metadata": {},
   "source": [
    "Auto Encoder\n",
    "=======================================================================================================================================\n",
    "---------------------------------------------------------------------------------------------------------------------------------------"
   ]
  },
  {
   "cell_type": "code",
   "execution_count": 4,
   "metadata": {},
   "outputs": [],
   "source": [
    "# Encode text data using BERT tokenizer\n",
    "def encode_text_data(text_data, max_length=500):\n",
    "    tokenizer = BertTokenizer.from_pretrained('bert-base-uncased')\n",
    "    input_ids = []\n",
    "    attention_masks = []\n",
    "\n",
    "    for text in text_data:\n",
    "        encoded_dict = tokenizer.encode_plus(\n",
    "            text,\n",
    "            add_special_tokens=True,\n",
    "            max_length=max_length,  # Set max_length to 500 for BERT base model\n",
    "            padding='max_length',\n",
    "            return_attention_mask=True,\n",
    "            return_tensors='tf'\n",
    "        )\n",
    "        input_ids.append(encoded_dict['input_ids'])\n",
    "        attention_masks.append(encoded_dict['attention_mask'])\n",
    "\n",
    "    input_ids = tf.concat(input_ids, axis=0)\n",
    "    attention_masks = tf.concat(attention_masks, axis=0)\n",
    "\n",
    "    return input_ids, attention_masks\n",
    "\n",
    "def addPadding(df, colName, dim):\n",
    "    max_length_x = df[colName].apply(lambda x: x.shape[0] if isinstance(x, np.ndarray) else 0).max()\n",
    "\n",
    "    # Perform padding within the DataFrame\n",
    "    df[colName] = df[colName].apply(lambda x: np.vstack([x, np.zeros((max_length_x - x.shape[0], dim))]) if isinstance(x, np.ndarray) else x)\n",
    "\n",
    "\n",
    "\n",
    "def processText(text):\n",
    "    return ' '.join(text)\n",
    "\n",
    "def preprocessData(df):\n",
    "    # addPadding(df,'visual',35)\n",
    "    # addPadding(df,'acoustic',74)\n",
    "\n",
    "    df['words'] = df['actual_words'].apply(processText)\n",
    "\n",
    "    # Preprocess text data and create a tf.data.Dataset\n",
    "    text_data = encode_text_data(df['words'].tolist())\n",
    "\n",
    "    # Prepare the rest of the data\n",
    "    # acoustic_data = np.stack(df['acoustic'])\n",
    "    # visual_data = np.stack(df['visual'])\n",
    "    label_data = np.array([label[0] for label in df['_label']])\n",
    "\n",
    "    # Unpack the text_data into input_ids_data and attention_mask_data\n",
    "    input_ids_data, attention_mask_data = text_data\n",
    "    input_ids_data = input_ids_data.numpy().astype(np.int32)\n",
    "    attention_mask_data = attention_mask_data.numpy().astype(np.int32)\n",
    "\n",
    "    # Convert the label_data to float32 as it is expected for regression\n",
    "    label_data = label_data.astype(np.float32)\n",
    "    return { 'textData':[input_ids_data, attention_mask_data],'Label_denorm':label_data}"
   ]
  },
  {
   "cell_type": "code",
   "execution_count": 5,
   "metadata": {},
   "outputs": [
    {
     "data": {
      "text/plain": [
       "(147, 74)"
      ]
     },
     "execution_count": 5,
     "metadata": {},
     "output_type": "execute_result"
    }
   ],
   "source": [
    "np.shape(train_df['acoustic'][15])"
   ]
  },
  {
   "cell_type": "code",
   "execution_count": 6,
   "metadata": {},
   "outputs": [
    {
     "data": {
      "text/plain": [
       "(64, 35)"
      ]
     },
     "execution_count": 6,
     "metadata": {},
     "output_type": "execute_result"
    }
   ],
   "source": [
    "np.shape(train_df['visual'][15])"
   ]
  },
  {
   "cell_type": "code",
   "execution_count": 7,
   "metadata": {},
   "outputs": [
    {
     "name": "stderr",
     "output_type": "stream",
     "text": [
      "2023-08-19 21:48:50.479751: I tensorflow/core/common_runtime/pluggable_device/pluggable_device_factory.cc:305] Could not identify NUMA node of platform GPU ID 0, defaulting to 0. Your kernel may not have been built with NUMA support.\n"
     ]
    },
    {
     "name": "stdout",
     "output_type": "stream",
     "text": [
      "Metal device set to: Apple M1 Max\n",
      "\n",
      "systemMemory: 64.00 GB\n",
      "maxCacheSize: 24.00 GB\n",
      "\n"
     ]
    },
    {
     "name": "stderr",
     "output_type": "stream",
     "text": [
      "2023-08-19 21:48:50.479919: I tensorflow/core/common_runtime/pluggable_device/pluggable_device_factory.cc:271] Created TensorFlow device (/job:localhost/replica:0/task:0/device:GPU:0 with 0 MB memory) -> physical PluggableDevice (device: 0, name: METAL, pci bus id: <undefined>)\n"
     ]
    }
   ],
   "source": [
    "modelTrainData = preprocessData(train_df)\n",
    "modelValData = preprocessData(dev_df)\n",
    "modelTestData = preprocessData(test_df)"
   ]
  },
  {
   "cell_type": "code",
   "execution_count": 8,
   "metadata": {},
   "outputs": [],
   "source": [
    "\n",
    "def flatten_2d_array(arr_2d):\n",
    "    arr_1d = []\n",
    "    for row in arr_2d:\n",
    "        for item in row:\n",
    "            arr_1d.append(item)\n",
    "    return arr_1d\n",
    "\n",
    "train_df['acoustic'] = train_df['acoustic'].apply(flatten_2d_array)\n",
    "train_df['visual'] = train_df['visual'].apply(flatten_2d_array)\n",
    "dev_df['acoustic'] = dev_df['acoustic'].apply(flatten_2d_array)\n",
    "dev_df['visual'] = dev_df['visual'].apply(flatten_2d_array)\n",
    "test_df['acoustic'] = test_df['acoustic'].apply(flatten_2d_array)\n",
    "test_df['visual'] = test_df['visual'].apply(flatten_2d_array)"
   ]
  },
  {
   "cell_type": "code",
   "execution_count": 9,
   "metadata": {},
   "outputs": [
    {
     "data": {
      "text/html": [
       "<div>\n",
       "<style scoped>\n",
       "    .dataframe tbody tr th:only-of-type {\n",
       "        vertical-align: middle;\n",
       "    }\n",
       "\n",
       "    .dataframe tbody tr th {\n",
       "        vertical-align: top;\n",
       "    }\n",
       "\n",
       "    .dataframe thead th {\n",
       "        text-align: right;\n",
       "    }\n",
       "</style>\n",
       "<table border=\"1\" class=\"dataframe\">\n",
       "  <thead>\n",
       "    <tr style=\"text-align: right;\">\n",
       "      <th></th>\n",
       "      <th>words</th>\n",
       "      <th>visual</th>\n",
       "      <th>acoustic</th>\n",
       "      <th>actual_words</th>\n",
       "      <th>_vlen</th>\n",
       "      <th>_alen</th>\n",
       "      <th>_label</th>\n",
       "      <th>idd</th>\n",
       "    </tr>\n",
       "  </thead>\n",
       "  <tbody>\n",
       "    <tr>\n",
       "      <th>0</th>\n",
       "      <td>Key is part of the people that we use to solve...</td>\n",
       "      <td>[-1.2108299732208252, -0.46178698539733887, -0...</td>\n",
       "      <td>[194.5, 0.0, 0.07899338752031326, 0.4129735529...</td>\n",
       "      <td>[Key, is, part, of, the, people, that, we, use...</td>\n",
       "      <td>267</td>\n",
       "      <td>356</td>\n",
       "      <td>[[1.0]]</td>\n",
       "      <td>-3g5yACwYnA</td>\n",
       "    </tr>\n",
       "    <tr>\n",
       "      <th>1</th>\n",
       "      <td>They've been able to find solutions or at leas...</td>\n",
       "      <td>[-1.7858200073242188, -0.6380839943885803, 0.7...</td>\n",
       "      <td>[105.5, 1.0, 0.021022265776991844, 0.085999622...</td>\n",
       "      <td>[They've, been, able, to, find, solutions, or,...</td>\n",
       "      <td>81</td>\n",
       "      <td>107</td>\n",
       "      <td>[[0.6666667]]</td>\n",
       "      <td>-3g5yACwYnA</td>\n",
       "    </tr>\n",
       "    <tr>\n",
       "      <th>2</th>\n",
       "      <td>We're a huge user of adhesives for our operati...</td>\n",
       "      <td>[-1.7642099857330322, -0.7958599925041199, -0....</td>\n",
       "      <td>[106.5, 1.0, 0.11148008704185486, 0.7265436649...</td>\n",
       "      <td>[We're, a, huge, user, of, adhesives, for, our...</td>\n",
       "      <td>215</td>\n",
       "      <td>286</td>\n",
       "      <td>[[0.0]]</td>\n",
       "      <td>-3g5yACwYnA</td>\n",
       "    </tr>\n",
       "    <tr>\n",
       "      <th>3</th>\n",
       "      <td>Key Polymer brings a technical aspect to our o...</td>\n",
       "      <td>[-1.2986199855804443, -0.2510870099067688, -0....</td>\n",
       "      <td>[115.5, 1.0, 0.057251088321208954, 0.338753223...</td>\n",
       "      <td>[Key, Polymer, brings, a, technical, aspect, t...</td>\n",
       "      <td>138</td>\n",
       "      <td>184</td>\n",
       "      <td>[[0.0]]</td>\n",
       "      <td>-3g5yACwYnA</td>\n",
       "    </tr>\n",
       "    <tr>\n",
       "      <th>4</th>\n",
       "      <td>Key brings those types of aspects to a busines...</td>\n",
       "      <td>[-1.6502399444580078, -0.3371959924697876, -0....</td>\n",
       "      <td>[100.5, 1.0, 0.14517584443092346, 0.6751161813...</td>\n",
       "      <td>[Key, brings, those, types, of, aspects, to, a...</td>\n",
       "      <td>221</td>\n",
       "      <td>295</td>\n",
       "      <td>[[1.0]]</td>\n",
       "      <td>-3g5yACwYnA</td>\n",
       "    </tr>\n",
       "    <tr>\n",
       "      <th>...</th>\n",
       "      <td>...</td>\n",
       "      <td>...</td>\n",
       "      <td>...</td>\n",
       "      <td>...</td>\n",
       "      <td>...</td>\n",
       "      <td>...</td>\n",
       "      <td>...</td>\n",
       "      <td>...</td>\n",
       "    </tr>\n",
       "    <tr>\n",
       "      <th>16321</th>\n",
       "      <td>I read other articles, what other trainers in ...</td>\n",
       "      <td>[-1.8842400312423706, -0.6028929948806763, 0.6...</td>\n",
       "      <td>[127.5, 1.0, 0.11853820085525513, 0.7205798625...</td>\n",
       "      <td>[I, read, other, articles,, what, other, train...</td>\n",
       "      <td>72</td>\n",
       "      <td>103</td>\n",
       "      <td>[[0.0]]</td>\n",
       "      <td>zwTrXwi54us</td>\n",
       "    </tr>\n",
       "    <tr>\n",
       "      <th>16322</th>\n",
       "      <td>I do all of that</td>\n",
       "      <td>[-2.153140068054199, -0.04792049899697304, -0....</td>\n",
       "      <td>[129.5, 1.0, 0.1991356760263443, 0.69459003210...</td>\n",
       "      <td>[I, do, all, of, that]</td>\n",
       "      <td>28</td>\n",
       "      <td>37</td>\n",
       "      <td>[[0.0]]</td>\n",
       "      <td>zwTrXwi54us</td>\n",
       "    </tr>\n",
       "    <tr>\n",
       "      <th>16323</th>\n",
       "      <td>Now, if this sounds like something you're inte...</td>\n",
       "      <td>[-4.401090145111084, -1.0127899646759033, -1.5...</td>\n",
       "      <td>[188.5, 0.0, 0.05910159647464752, 0.3314844667...</td>\n",
       "      <td>[Now,, if, this, sounds, like, something, you'...</td>\n",
       "      <td>163</td>\n",
       "      <td>227</td>\n",
       "      <td>[[0.6666667]]</td>\n",
       "      <td>zwTrXwi54us</td>\n",
       "    </tr>\n",
       "    <tr>\n",
       "      <th>16324</th>\n",
       "      <td>I actually speak to the experts myself to give...</td>\n",
       "      <td>[-2.3272500038146973, -1.1171799898147583, 0.2...</td>\n",
       "      <td>[133.0, 0.0, 0.027281710878014565, 0.076646529...</td>\n",
       "      <td>[I, actually, speak, to, the, experts, myself,...</td>\n",
       "      <td>80</td>\n",
       "      <td>106</td>\n",
       "      <td>[[1.0]]</td>\n",
       "      <td>zwTrXwi54us</td>\n",
       "    </tr>\n",
       "    <tr>\n",
       "      <th>16325</th>\n",
       "      <td>And we’ve seen some programs, we’ve seen progr...</td>\n",
       "      <td>[-1.8243299722671509, -0.061710700392723083, -...</td>\n",
       "      <td>[116.5, 1.0, 0.17489837110042572, 0.5657545924...</td>\n",
       "      <td>[And, we’ve, seen, some, programs,, we’ve, see...</td>\n",
       "      <td>349</td>\n",
       "      <td>465</td>\n",
       "      <td>[[1.0]]</td>\n",
       "      <td>zx4W0Vuus-I</td>\n",
       "    </tr>\n",
       "  </tbody>\n",
       "</table>\n",
       "<p>16326 rows × 8 columns</p>\n",
       "</div>"
      ],
      "text/plain": [
       "                                                   words  \\\n",
       "0      Key is part of the people that we use to solve...   \n",
       "1      They've been able to find solutions or at leas...   \n",
       "2      We're a huge user of adhesives for our operati...   \n",
       "3      Key Polymer brings a technical aspect to our o...   \n",
       "4      Key brings those types of aspects to a busines...   \n",
       "...                                                  ...   \n",
       "16321  I read other articles, what other trainers in ...   \n",
       "16322                                   I do all of that   \n",
       "16323  Now, if this sounds like something you're inte...   \n",
       "16324  I actually speak to the experts myself to give...   \n",
       "16325  And we’ve seen some programs, we’ve seen progr...   \n",
       "\n",
       "                                                  visual  \\\n",
       "0      [-1.2108299732208252, -0.46178698539733887, -0...   \n",
       "1      [-1.7858200073242188, -0.6380839943885803, 0.7...   \n",
       "2      [-1.7642099857330322, -0.7958599925041199, -0....   \n",
       "3      [-1.2986199855804443, -0.2510870099067688, -0....   \n",
       "4      [-1.6502399444580078, -0.3371959924697876, -0....   \n",
       "...                                                  ...   \n",
       "16321  [-1.8842400312423706, -0.6028929948806763, 0.6...   \n",
       "16322  [-2.153140068054199, -0.04792049899697304, -0....   \n",
       "16323  [-4.401090145111084, -1.0127899646759033, -1.5...   \n",
       "16324  [-2.3272500038146973, -1.1171799898147583, 0.2...   \n",
       "16325  [-1.8243299722671509, -0.061710700392723083, -...   \n",
       "\n",
       "                                                acoustic  \\\n",
       "0      [194.5, 0.0, 0.07899338752031326, 0.4129735529...   \n",
       "1      [105.5, 1.0, 0.021022265776991844, 0.085999622...   \n",
       "2      [106.5, 1.0, 0.11148008704185486, 0.7265436649...   \n",
       "3      [115.5, 1.0, 0.057251088321208954, 0.338753223...   \n",
       "4      [100.5, 1.0, 0.14517584443092346, 0.6751161813...   \n",
       "...                                                  ...   \n",
       "16321  [127.5, 1.0, 0.11853820085525513, 0.7205798625...   \n",
       "16322  [129.5, 1.0, 0.1991356760263443, 0.69459003210...   \n",
       "16323  [188.5, 0.0, 0.05910159647464752, 0.3314844667...   \n",
       "16324  [133.0, 0.0, 0.027281710878014565, 0.076646529...   \n",
       "16325  [116.5, 1.0, 0.17489837110042572, 0.5657545924...   \n",
       "\n",
       "                                            actual_words  _vlen  _alen  \\\n",
       "0      [Key, is, part, of, the, people, that, we, use...    267    356   \n",
       "1      [They've, been, able, to, find, solutions, or,...     81    107   \n",
       "2      [We're, a, huge, user, of, adhesives, for, our...    215    286   \n",
       "3      [Key, Polymer, brings, a, technical, aspect, t...    138    184   \n",
       "4      [Key, brings, those, types, of, aspects, to, a...    221    295   \n",
       "...                                                  ...    ...    ...   \n",
       "16321  [I, read, other, articles,, what, other, train...     72    103   \n",
       "16322                             [I, do, all, of, that]     28     37   \n",
       "16323  [Now,, if, this, sounds, like, something, you'...    163    227   \n",
       "16324  [I, actually, speak, to, the, experts, myself,...     80    106   \n",
       "16325  [And, we’ve, seen, some, programs,, we’ve, see...    349    465   \n",
       "\n",
       "              _label          idd  \n",
       "0            [[1.0]]  -3g5yACwYnA  \n",
       "1      [[0.6666667]]  -3g5yACwYnA  \n",
       "2            [[0.0]]  -3g5yACwYnA  \n",
       "3            [[0.0]]  -3g5yACwYnA  \n",
       "4            [[1.0]]  -3g5yACwYnA  \n",
       "...              ...          ...  \n",
       "16321        [[0.0]]  zwTrXwi54us  \n",
       "16322        [[0.0]]  zwTrXwi54us  \n",
       "16323  [[0.6666667]]  zwTrXwi54us  \n",
       "16324        [[1.0]]  zwTrXwi54us  \n",
       "16325        [[1.0]]  zx4W0Vuus-I  \n",
       "\n",
       "[16326 rows x 8 columns]"
      ]
     },
     "execution_count": 9,
     "metadata": {},
     "output_type": "execute_result"
    }
   ],
   "source": [
    "train_df"
   ]
  },
  {
   "cell_type": "code",
   "execution_count": 10,
   "metadata": {},
   "outputs": [],
   "source": [
    "accusticMaxTrain = train_df['acoustic'].apply(len).max()\n",
    "accusticMaxDev = dev_df['acoustic'].apply(len).max()\n",
    "accusticMaxTest = test_df['acoustic'].apply(len).max()\n",
    "visualMaxTrain = train_df['visual'].apply(len).max()\n",
    "visualMaxDev = dev_df['visual'].apply(len).max()\n",
    "visualMaxTest = test_df['visual'].apply(len).max()"
   ]
  },
  {
   "cell_type": "code",
   "execution_count": 11,
   "metadata": {},
   "outputs": [
    {
     "data": {
      "text/plain": [
       "37000"
      ]
     },
     "execution_count": 11,
     "metadata": {},
     "output_type": "execute_result"
    }
   ],
   "source": [
    "accusticMaxTrain"
   ]
  },
  {
   "cell_type": "code",
   "execution_count": 12,
   "metadata": {},
   "outputs": [
    {
     "data": {
      "text/plain": [
       "37000"
      ]
     },
     "execution_count": 12,
     "metadata": {},
     "output_type": "execute_result"
    }
   ],
   "source": [
    "accusticMaxDev"
   ]
  },
  {
   "cell_type": "code",
   "execution_count": 13,
   "metadata": {},
   "outputs": [
    {
     "data": {
      "text/plain": [
       "37000"
      ]
     },
     "execution_count": 13,
     "metadata": {},
     "output_type": "execute_result"
    }
   ],
   "source": [
    "accusticMaxTest"
   ]
  },
  {
   "cell_type": "code",
   "execution_count": 14,
   "metadata": {},
   "outputs": [
    {
     "data": {
      "text/plain": [
       "17500"
      ]
     },
     "execution_count": 14,
     "metadata": {},
     "output_type": "execute_result"
    }
   ],
   "source": [
    "visualMaxTrain"
   ]
  },
  {
   "cell_type": "code",
   "execution_count": 15,
   "metadata": {},
   "outputs": [
    {
     "data": {
      "text/plain": [
       "17500"
      ]
     },
     "execution_count": 15,
     "metadata": {},
     "output_type": "execute_result"
    }
   ],
   "source": [
    "visualMaxDev"
   ]
  },
  {
   "cell_type": "code",
   "execution_count": 16,
   "metadata": {},
   "outputs": [
    {
     "data": {
      "text/plain": [
       "17500"
      ]
     },
     "execution_count": 16,
     "metadata": {},
     "output_type": "execute_result"
    }
   ],
   "source": [
    "visualMaxTest"
   ]
  },
  {
   "cell_type": "code",
   "execution_count": 17,
   "metadata": {},
   "outputs": [],
   "source": [
    "train_df['acoustic'] = train_df['acoustic'].apply(lambda arr: arr + [0] * (accusticMaxTrain - len(arr)))\n",
    "dev_df['acoustic'] = dev_df['acoustic'].apply(lambda arr: arr + [0] * (accusticMaxDev - len(arr)))\n",
    "test_df['acoustic'] = test_df['acoustic'].apply(lambda arr: arr + [0] * (accusticMaxTest - len(arr)))\n",
    "train_df['visual'] = train_df['visual'].apply(lambda arr: arr + [0] * (visualMaxTrain - len(arr)))\n",
    "dev_df['visual'] = dev_df['visual'].apply(lambda arr: arr + [0] * (visualMaxDev - len(arr)))\n",
    "test_df['visual'] = test_df['visual'].apply(lambda arr: arr + [0] * (visualMaxTest - len(arr)))"
   ]
  },
  {
   "cell_type": "code",
   "execution_count": 18,
   "metadata": {},
   "outputs": [
    {
     "data": {
      "text/plain": [
       "(17500,)"
      ]
     },
     "execution_count": 18,
     "metadata": {},
     "output_type": "execute_result"
    }
   ],
   "source": [
    "np.shape(train_df['visual'][3])"
   ]
  },
  {
   "cell_type": "code",
   "execution_count": 19,
   "metadata": {},
   "outputs": [
    {
     "data": {
      "text/plain": [
       "0        [-1.2108299732208252, -0.46178698539733887, -0...\n",
       "1        [-1.7858200073242188, -0.6380839943885803, 0.7...\n",
       "2        [-1.7642099857330322, -0.7958599925041199, -0....\n",
       "3        [-1.2986199855804443, -0.2510870099067688, -0....\n",
       "4        [-1.6502399444580078, -0.3371959924697876, -0....\n",
       "                               ...                        \n",
       "16321    [-1.8842400312423706, -0.6028929948806763, 0.6...\n",
       "16322    [-2.153140068054199, -0.04792049899697304, -0....\n",
       "16323    [-4.401090145111084, -1.0127899646759033, -1.5...\n",
       "16324    [-2.3272500038146973, -1.1171799898147583, 0.2...\n",
       "16325    [-1.8243299722671509, -0.061710700392723083, -...\n",
       "Name: visual, Length: 16326, dtype: object"
      ]
     },
     "execution_count": 19,
     "metadata": {},
     "output_type": "execute_result"
    }
   ],
   "source": [
    "train_df['visual']"
   ]
  },
  {
   "cell_type": "code",
   "execution_count": 20,
   "metadata": {},
   "outputs": [
    {
     "name": "stdout",
     "output_type": "stream",
     "text": [
      "Overall Label Minimum: -3.0\n",
      "Overall Label Maximum: 3.0\n"
     ]
    }
   ],
   "source": [
    "all_arrays_label = np.vstack(flatten_2d_array(modelTrainData['Label_denorm']) + flatten_2d_array(modelValData['Label_denorm']) + flatten_2d_array(modelTestData['Label_denorm']))\n",
    "\n",
    "# Calculate the overall label minimum and maximum values\n",
    "label_min = np.min(all_arrays_label)\n",
    "label_max = np.max(all_arrays_label)\n",
    "\n",
    "print(\"Overall Label Minimum:\", label_min)\n",
    "print(\"Overall Label Maximum:\", label_max)"
   ]
  },
  {
   "cell_type": "code",
   "execution_count": 21,
   "metadata": {},
   "outputs": [],
   "source": [
    "# Combine all arrays into a single array\n",
    "all_arrays_visual = np.vstack([train_df['visual'].tolist()+dev_df['visual'].tolist()+test_df['visual'].tolist()])\n",
    "all_arrays_acoustic = np.vstack([train_df['acoustic'].tolist()+dev_df['acoustic'].tolist()+test_df['acoustic'].tolist()])\n",
    "\n",
    "# Calculate the overall visual minimum and maximum values\n",
    "visual_min = np.min(all_arrays_visual)\n",
    "visual_max = np.max(all_arrays_visual)\n",
    "\n",
    "# Calculate the overall acoustic minimum and maximum values\n",
    "acoustic_min = np.min(all_arrays_acoustic)\n",
    "acoustic_max = np.max(all_arrays_acoustic)"
   ]
  },
  {
   "cell_type": "code",
   "execution_count": 22,
   "metadata": {},
   "outputs": [
    {
     "name": "stdout",
     "output_type": "stream",
     "text": [
      "Overall Visual Minimum: -39.62459945678711\n",
      "Overall Visual Maximum: 31.594900131225586\n",
      "Overall Acoustic Minimum: -60.02680587768555\n",
      "Overall Acoustic Maximum: 500.0\n"
     ]
    }
   ],
   "source": [
    "print(\"Overall Visual Minimum:\", visual_min)\n",
    "print(\"Overall Visual Maximum:\", visual_max)\n",
    "\n",
    "print(\"Overall Acoustic Minimum:\", acoustic_min)\n",
    "print(\"Overall Acoustic Maximum:\", acoustic_max)\n"
   ]
  },
  {
   "cell_type": "code",
   "execution_count": 23,
   "metadata": {},
   "outputs": [],
   "source": [
    "def minmax_normalize(arr, min_val, max_val):\n",
    "    return (arr - min_val) / (max_val - min_val)\n",
    "def minmax_denormalize(arr_normalized, min_val, max_val):\n",
    "    return arr_normalized * (max_val - min_val) + min_val"
   ]
  },
  {
   "cell_type": "code",
   "execution_count": 24,
   "metadata": {},
   "outputs": [],
   "source": [
    "train_df['visual_normalized'] = [minmax_normalize(arr, visual_min, visual_max) for arr in train_df['visual']]\n",
    "dev_df['visual_normalized'] = [minmax_normalize(arr, visual_min, visual_max) for arr in dev_df['visual']]\n",
    "test_df['visual_normalized'] = [minmax_normalize(arr, visual_min, visual_max) for arr in test_df['visual']]\n",
    "\n",
    "train_df['acoustic_normalized'] = [minmax_normalize(arr, acoustic_min, acoustic_max) for arr in train_df['acoustic']]\n",
    "dev_df['acoustic_normalized'] = [minmax_normalize(arr, acoustic_min, acoustic_max) for arr in dev_df['acoustic']]\n",
    "test_df['acoustic_normalized'] = [minmax_normalize(arr, acoustic_min, acoustic_max) for arr in test_df['acoustic']]\n"
   ]
  },
  {
   "cell_type": "code",
   "execution_count": 25,
   "metadata": {},
   "outputs": [],
   "source": [
    "modelTrainData['Label'] = np.array([[minmax_normalize(arr[0], label_min, label_max)] for arr in modelTrainData['Label_denorm']])\n",
    "modelValData['Label'] = np.array([[minmax_normalize(arr[0], label_min, label_max)] for arr in modelValData['Label_denorm']])\n",
    "modelTestData['Label'] = np.array([[minmax_normalize(arr[0], label_min, label_max)] for arr in modelTestData['Label_denorm']])"
   ]
  },
  {
   "cell_type": "code",
   "execution_count": 26,
   "metadata": {},
   "outputs": [
    {
     "data": {
      "text/plain": [
       "array([[0.6666667],\n",
       "       [0.6111111],\n",
       "       [0.5      ],\n",
       "       ...,\n",
       "       [0.6111111],\n",
       "       [0.6666667],\n",
       "       [0.6666667]], dtype=float32)"
      ]
     },
     "execution_count": 26,
     "metadata": {},
     "output_type": "execute_result"
    }
   ],
   "source": [
    "modelTrainData['Label']"
   ]
  },
  {
   "cell_type": "code",
   "execution_count": 27,
   "metadata": {},
   "outputs": [
    {
     "data": {
      "text/html": [
       "<div>\n",
       "<style scoped>\n",
       "    .dataframe tbody tr th:only-of-type {\n",
       "        vertical-align: middle;\n",
       "    }\n",
       "\n",
       "    .dataframe tbody tr th {\n",
       "        vertical-align: top;\n",
       "    }\n",
       "\n",
       "    .dataframe thead th {\n",
       "        text-align: right;\n",
       "    }\n",
       "</style>\n",
       "<table border=\"1\" class=\"dataframe\">\n",
       "  <thead>\n",
       "    <tr style=\"text-align: right;\">\n",
       "      <th></th>\n",
       "      <th>words</th>\n",
       "      <th>visual</th>\n",
       "      <th>acoustic</th>\n",
       "      <th>actual_words</th>\n",
       "      <th>_vlen</th>\n",
       "      <th>_alen</th>\n",
       "      <th>_label</th>\n",
       "      <th>idd</th>\n",
       "      <th>visual_normalized</th>\n",
       "      <th>acoustic_normalized</th>\n",
       "    </tr>\n",
       "  </thead>\n",
       "  <tbody>\n",
       "    <tr>\n",
       "      <th>0</th>\n",
       "      <td>Key is part of the people that we use to solve...</td>\n",
       "      <td>[-1.2108299732208252, -0.46178698539733887, -0...</td>\n",
       "      <td>[194.5, 0.0, 0.07899338752031326, 0.4129735529...</td>\n",
       "      <td>[Key, is, part, of, the, people, that, we, use...</td>\n",
       "      <td>267</td>\n",
       "      <td>356</td>\n",
       "      <td>[[1.0]]</td>\n",
       "      <td>-3g5yACwYnA</td>\n",
       "      <td>[0.5393715163091639, 0.5498889025889963, 0.549...</td>\n",
       "      <td>[0.45449039797083624, 0.10718559406028842, 0.1...</td>\n",
       "    </tr>\n",
       "    <tr>\n",
       "      <th>1</th>\n",
       "      <td>They've been able to find solutions or at leas...</td>\n",
       "      <td>[-1.7858200073242188, -0.6380839943885803, 0.7...</td>\n",
       "      <td>[105.5, 1.0, 0.021022265776991844, 0.085999622...</td>\n",
       "      <td>[They've, been, able, to, find, solutions, or,...</td>\n",
       "      <td>81</td>\n",
       "      <td>107</td>\n",
       "      <td>[[0.6666667]]</td>\n",
       "      <td>-3g5yACwYnA</td>\n",
       "      <td>[0.5312980246751372, 0.5474134989423675, 0.566...</td>\n",
       "      <td>[0.2955694337135676, 0.10897122287216784, 0.10...</td>\n",
       "    </tr>\n",
       "    <tr>\n",
       "      <th>2</th>\n",
       "      <td>We're a huge user of adhesives for our operati...</td>\n",
       "      <td>[-1.7642099857330322, -0.7958599925041199, -0....</td>\n",
       "      <td>[106.5, 1.0, 0.11148008704185486, 0.7265436649...</td>\n",
       "      <td>[We're, a, huge, user, of, adhesives, for, our...</td>\n",
       "      <td>215</td>\n",
       "      <td>286</td>\n",
       "      <td>[[0.0]]</td>\n",
       "      <td>-3g5yACwYnA</td>\n",
       "      <td>[0.531601453114205, 0.5451981506314661, 0.5429...</td>\n",
       "      <td>[0.29735506252544697, 0.10897122287216784, 0.1...</td>\n",
       "    </tr>\n",
       "    <tr>\n",
       "      <th>3</th>\n",
       "      <td>Key Polymer brings a technical aspect to our o...</td>\n",
       "      <td>[-1.2986199855804443, -0.2510870099067688, -0....</td>\n",
       "      <td>[115.5, 1.0, 0.057251088321208954, 0.338753223...</td>\n",
       "      <td>[Key, Polymer, brings, a, technical, aspect, t...</td>\n",
       "      <td>138</td>\n",
       "      <td>184</td>\n",
       "      <td>[[0.0]]</td>\n",
       "      <td>-3g5yACwYnA</td>\n",
       "      <td>[0.5381388481091982, 0.552847361672666, 0.5556...</td>\n",
       "      <td>[0.3134257218323618, 0.10897122287216784, 0.10...</td>\n",
       "    </tr>\n",
       "    <tr>\n",
       "      <th>4</th>\n",
       "      <td>Key brings those types of aspects to a busines...</td>\n",
       "      <td>[-1.6502399444580078, -0.3371959924697876, -0....</td>\n",
       "      <td>[100.5, 1.0, 0.14517584443092346, 0.6751161813...</td>\n",
       "      <td>[Key, brings, those, types, of, aspects, to, a...</td>\n",
       "      <td>221</td>\n",
       "      <td>295</td>\n",
       "      <td>[[1.0]]</td>\n",
       "      <td>-3g5yACwYnA</td>\n",
       "      <td>[0.5332017176756568, 0.5516382969774472, 0.545...</td>\n",
       "      <td>[0.28664128965417046, 0.10897122287216784, 0.1...</td>\n",
       "    </tr>\n",
       "    <tr>\n",
       "      <th>...</th>\n",
       "      <td>...</td>\n",
       "      <td>...</td>\n",
       "      <td>...</td>\n",
       "      <td>...</td>\n",
       "      <td>...</td>\n",
       "      <td>...</td>\n",
       "      <td>...</td>\n",
       "      <td>...</td>\n",
       "      <td>...</td>\n",
       "      <td>...</td>\n",
       "    </tr>\n",
       "    <tr>\n",
       "      <th>16321</th>\n",
       "      <td>I read other articles, what other trainers in ...</td>\n",
       "      <td>[-1.8842400312423706, -0.6028929948806763, 0.6...</td>\n",
       "      <td>[127.5, 1.0, 0.11853820085525513, 0.7205798625...</td>\n",
       "      <td>[I, read, other, articles,, what, other, train...</td>\n",
       "      <td>72</td>\n",
       "      <td>103</td>\n",
       "      <td>[[0.0]]</td>\n",
       "      <td>zwTrXwi54us</td>\n",
       "      <td>[0.5299160994371407, 0.5479076192284054, 0.565...</td>\n",
       "      <td>[0.33485326757491485, 0.10897122287216784, 0.1...</td>\n",
       "    </tr>\n",
       "    <tr>\n",
       "      <th>16322</th>\n",
       "      <td>I do all of that</td>\n",
       "      <td>[-2.153140068054199, -0.04792049899697304, -0....</td>\n",
       "      <td>[129.5, 1.0, 0.1991356760263443, 0.69459003210...</td>\n",
       "      <td>[I, do, all, of, that]</td>\n",
       "      <td>28</td>\n",
       "      <td>37</td>\n",
       "      <td>[[0.0]]</td>\n",
       "      <td>zwTrXwi54us</td>\n",
       "      <td>[0.5261404475669739, 0.5557000426390455, 0.544...</td>\n",
       "      <td>[0.3384245251986737, 0.10897122287216784, 0.10...</td>\n",
       "    </tr>\n",
       "    <tr>\n",
       "      <th>16323</th>\n",
       "      <td>Now, if this sounds like something you're inte...</td>\n",
       "      <td>[-4.401090145111084, -1.0127899646759033, -1.5...</td>\n",
       "      <td>[188.5, 0.0, 0.05910159647464752, 0.3314844667...</td>\n",
       "      <td>[Now,, if, this, sounds, like, something, you'...</td>\n",
       "      <td>163</td>\n",
       "      <td>227</td>\n",
       "      <td>[[0.6666667]]</td>\n",
       "      <td>zwTrXwi54us</td>\n",
       "      <td>[0.4945767593908322, 0.5421522155515138, 0.534...</td>\n",
       "      <td>[0.4437766250995597, 0.10718559406028842, 0.10...</td>\n",
       "    </tr>\n",
       "    <tr>\n",
       "      <th>16324</th>\n",
       "      <td>I actually speak to the experts myself to give...</td>\n",
       "      <td>[-2.3272500038146973, -1.1171799898147583, 0.2...</td>\n",
       "      <td>[133.0, 0.0, 0.027281710878014565, 0.076646529...</td>\n",
       "      <td>[I, actually, speak, to, the, experts, myself,...</td>\n",
       "      <td>80</td>\n",
       "      <td>106</td>\n",
       "      <td>[[1.0]]</td>\n",
       "      <td>zwTrXwi54us</td>\n",
       "      <td>[0.5236957528307333, 0.540686464939073, 0.5602...</td>\n",
       "      <td>[0.3446742260402517, 0.10718559406028842, 0.10...</td>\n",
       "    </tr>\n",
       "    <tr>\n",
       "      <th>16325</th>\n",
       "      <td>And we’ve seen some programs, we’ve seen progr...</td>\n",
       "      <td>[-1.8243299722671509, -0.061710700392723083, -...</td>\n",
       "      <td>[116.5, 1.0, 0.17489837110042572, 0.5657545924...</td>\n",
       "      <td>[And, we’ve, seen, some, programs,, we’ve, see...</td>\n",
       "      <td>349</td>\n",
       "      <td>465</td>\n",
       "      <td>[[1.0]]</td>\n",
       "      <td>zx4W0Vuus-I</td>\n",
       "      <td>[0.5307573024689197, 0.5555064130646238, 0.544...</td>\n",
       "      <td>[0.3152113506442412, 0.10897122287216784, 0.10...</td>\n",
       "    </tr>\n",
       "  </tbody>\n",
       "</table>\n",
       "<p>16326 rows × 10 columns</p>\n",
       "</div>"
      ],
      "text/plain": [
       "                                                   words  \\\n",
       "0      Key is part of the people that we use to solve...   \n",
       "1      They've been able to find solutions or at leas...   \n",
       "2      We're a huge user of adhesives for our operati...   \n",
       "3      Key Polymer brings a technical aspect to our o...   \n",
       "4      Key brings those types of aspects to a busines...   \n",
       "...                                                  ...   \n",
       "16321  I read other articles, what other trainers in ...   \n",
       "16322                                   I do all of that   \n",
       "16323  Now, if this sounds like something you're inte...   \n",
       "16324  I actually speak to the experts myself to give...   \n",
       "16325  And we’ve seen some programs, we’ve seen progr...   \n",
       "\n",
       "                                                  visual  \\\n",
       "0      [-1.2108299732208252, -0.46178698539733887, -0...   \n",
       "1      [-1.7858200073242188, -0.6380839943885803, 0.7...   \n",
       "2      [-1.7642099857330322, -0.7958599925041199, -0....   \n",
       "3      [-1.2986199855804443, -0.2510870099067688, -0....   \n",
       "4      [-1.6502399444580078, -0.3371959924697876, -0....   \n",
       "...                                                  ...   \n",
       "16321  [-1.8842400312423706, -0.6028929948806763, 0.6...   \n",
       "16322  [-2.153140068054199, -0.04792049899697304, -0....   \n",
       "16323  [-4.401090145111084, -1.0127899646759033, -1.5...   \n",
       "16324  [-2.3272500038146973, -1.1171799898147583, 0.2...   \n",
       "16325  [-1.8243299722671509, -0.061710700392723083, -...   \n",
       "\n",
       "                                                acoustic  \\\n",
       "0      [194.5, 0.0, 0.07899338752031326, 0.4129735529...   \n",
       "1      [105.5, 1.0, 0.021022265776991844, 0.085999622...   \n",
       "2      [106.5, 1.0, 0.11148008704185486, 0.7265436649...   \n",
       "3      [115.5, 1.0, 0.057251088321208954, 0.338753223...   \n",
       "4      [100.5, 1.0, 0.14517584443092346, 0.6751161813...   \n",
       "...                                                  ...   \n",
       "16321  [127.5, 1.0, 0.11853820085525513, 0.7205798625...   \n",
       "16322  [129.5, 1.0, 0.1991356760263443, 0.69459003210...   \n",
       "16323  [188.5, 0.0, 0.05910159647464752, 0.3314844667...   \n",
       "16324  [133.0, 0.0, 0.027281710878014565, 0.076646529...   \n",
       "16325  [116.5, 1.0, 0.17489837110042572, 0.5657545924...   \n",
       "\n",
       "                                            actual_words  _vlen  _alen  \\\n",
       "0      [Key, is, part, of, the, people, that, we, use...    267    356   \n",
       "1      [They've, been, able, to, find, solutions, or,...     81    107   \n",
       "2      [We're, a, huge, user, of, adhesives, for, our...    215    286   \n",
       "3      [Key, Polymer, brings, a, technical, aspect, t...    138    184   \n",
       "4      [Key, brings, those, types, of, aspects, to, a...    221    295   \n",
       "...                                                  ...    ...    ...   \n",
       "16321  [I, read, other, articles,, what, other, train...     72    103   \n",
       "16322                             [I, do, all, of, that]     28     37   \n",
       "16323  [Now,, if, this, sounds, like, something, you'...    163    227   \n",
       "16324  [I, actually, speak, to, the, experts, myself,...     80    106   \n",
       "16325  [And, we’ve, seen, some, programs,, we’ve, see...    349    465   \n",
       "\n",
       "              _label          idd  \\\n",
       "0            [[1.0]]  -3g5yACwYnA   \n",
       "1      [[0.6666667]]  -3g5yACwYnA   \n",
       "2            [[0.0]]  -3g5yACwYnA   \n",
       "3            [[0.0]]  -3g5yACwYnA   \n",
       "4            [[1.0]]  -3g5yACwYnA   \n",
       "...              ...          ...   \n",
       "16321        [[0.0]]  zwTrXwi54us   \n",
       "16322        [[0.0]]  zwTrXwi54us   \n",
       "16323  [[0.6666667]]  zwTrXwi54us   \n",
       "16324        [[1.0]]  zwTrXwi54us   \n",
       "16325        [[1.0]]  zx4W0Vuus-I   \n",
       "\n",
       "                                       visual_normalized  \\\n",
       "0      [0.5393715163091639, 0.5498889025889963, 0.549...   \n",
       "1      [0.5312980246751372, 0.5474134989423675, 0.566...   \n",
       "2      [0.531601453114205, 0.5451981506314661, 0.5429...   \n",
       "3      [0.5381388481091982, 0.552847361672666, 0.5556...   \n",
       "4      [0.5332017176756568, 0.5516382969774472, 0.545...   \n",
       "...                                                  ...   \n",
       "16321  [0.5299160994371407, 0.5479076192284054, 0.565...   \n",
       "16322  [0.5261404475669739, 0.5557000426390455, 0.544...   \n",
       "16323  [0.4945767593908322, 0.5421522155515138, 0.534...   \n",
       "16324  [0.5236957528307333, 0.540686464939073, 0.5602...   \n",
       "16325  [0.5307573024689197, 0.5555064130646238, 0.544...   \n",
       "\n",
       "                                     acoustic_normalized  \n",
       "0      [0.45449039797083624, 0.10718559406028842, 0.1...  \n",
       "1      [0.2955694337135676, 0.10897122287216784, 0.10...  \n",
       "2      [0.29735506252544697, 0.10897122287216784, 0.1...  \n",
       "3      [0.3134257218323618, 0.10897122287216784, 0.10...  \n",
       "4      [0.28664128965417046, 0.10897122287216784, 0.1...  \n",
       "...                                                  ...  \n",
       "16321  [0.33485326757491485, 0.10897122287216784, 0.1...  \n",
       "16322  [0.3384245251986737, 0.10897122287216784, 0.10...  \n",
       "16323  [0.4437766250995597, 0.10718559406028842, 0.10...  \n",
       "16324  [0.3446742260402517, 0.10718559406028842, 0.10...  \n",
       "16325  [0.3152113506442412, 0.10897122287216784, 0.10...  \n",
       "\n",
       "[16326 rows x 10 columns]"
      ]
     },
     "execution_count": 27,
     "metadata": {},
     "output_type": "execute_result"
    }
   ],
   "source": [
    "train_df"
   ]
  },
  {
   "cell_type": "code",
   "execution_count": 41,
   "metadata": {},
   "outputs": [],
   "source": [
    "import numpy as np\n",
    "import tensorflow as tf\n",
    "\n",
    "class Create_audio_autoencoder(tf.keras.models.Model):\n",
    "    def __init__(self):\n",
    "\n",
    "        super(Create_audio_autoencoder, self).__init__()\n",
    "\n",
    "        self.encoder = tf.keras.Sequential([\n",
    "            tf.keras.layers.Input(shape=(37000,)),\n",
    "            tf.keras.layers.Reshape((37000, 1)), \n",
    "            tf.keras.layers.Conv1D(18500,3, activation='relu', padding='same', strides=2),\n",
    "            tf.keras.layers.MaxPooling1D(2),\n",
    "            tf.keras.layers.Conv1D(9250, 3, activation='relu', padding='same', strides=2)\n",
    "        ])\n",
    "\n",
    "        self.decoder = tf.keras.Sequential([\n",
    "            tf.keras.layers.Conv1D(18500,1,strides=1, activation='relu', padding='same'),\n",
    "            tf.keras.layers.UpSampling1D(2),\n",
    "            tf.keras.layers.Conv1D(37000,1,strides=1, activation='relu', padding='same'),\n",
    "            tf.keras.layers.Conv1D(1,1,strides=1, activation='sigmoid', padding='same')\n",
    "        ])\n",
    "    \n",
    "    def call(self, x):\n",
    "        encoded = self.encoder(x)\n",
    "        decoded = self.decoder(encoded)\n",
    "        \n",
    "        return decoded\n",
    "\n",
    "class Create_visual_autoencoder(tf.keras.models.Model):\n",
    "    def __init__(self):\n",
    "\n",
    "        super(Create_visual_autoencoder, self).__init__()\n",
    "\n",
    "        self.encoder = tf.keras.Sequential([\n",
    "            tf.keras.layers.Input(shape=(17500,)),\n",
    "            tf.keras.layers.Reshape((17500, 1)),\n",
    "            tf.keras.layers.Conv1D(8750, 3, activation='relu', padding='same', strides=2),\n",
    "            tf.keras.layers.MaxPooling1D(2),\n",
    "            tf.keras.layers.Conv1D(4375, 3, activation='relu', padding='same', strides=2)\n",
    "        ])\n",
    "\n",
    "        self.decoder = tf.keras.Sequential([\n",
    "            tf.keras.layers.Conv1D(8750,1,strides=1, activation='relu', padding='same'),\n",
    "            tf.keras.layers.UpSampling1D(2),\n",
    "            tf.keras.layers.Conv1D(17500,1,strides=1, activation='relu', padding='same'),\n",
    "            tf.keras.layers.Conv1D(1,1,strides=1, activation='sigmoid', padding='same')\n",
    "        ])\n",
    "    \n",
    "    def call(self, x):\n",
    "        encoded = self.encoder(x)\n",
    "        decoded = self.decoder(encoded)\n",
    "        \n",
    "        return decoded\n",
    "        \n",
    "# Create autoencoders\n",
    "audio_autoencoder = Create_audio_autoencoder()\n",
    "visual_autoencoder = Create_visual_autoencoder()\n"
   ]
  },
  {
   "cell_type": "code",
   "execution_count": 29,
   "metadata": {},
   "outputs": [],
   "source": [
    "# Convert DataFrame columns to TensorFlow tensors\n",
    "train_acoustic_normalized = tf.convert_to_tensor(train_df['acoustic_normalized'].tolist(), dtype=tf.float32)\n",
    "dev_acoustic_normalized = tf.convert_to_tensor(dev_df['acoustic_normalized'].tolist(), dtype=tf.float32)\n"
   ]
  },
  {
   "cell_type": "code",
   "execution_count": 42,
   "metadata": {},
   "outputs": [],
   "source": [
    "# Compile audio autoencoder\n",
    "audio_autoencoder.compile(optimizer='adam', loss='mse',metrics=['mean_absolute_error'])"
   ]
  },
  {
   "cell_type": "code",
   "execution_count": 31,
   "metadata": {},
   "outputs": [],
   "source": [
    "train_out_audio = train_df['acoustic_normalized'].tolist()\n",
    "dev_out_audio = dev_df['acoustic_normalized'].tolist()"
   ]
  },
  {
   "cell_type": "code",
   "execution_count": 34,
   "metadata": {},
   "outputs": [
    {
     "data": {
      "text/plain": [
       "TensorShape([16326, 37000])"
      ]
     },
     "execution_count": 34,
     "metadata": {},
     "output_type": "execute_result"
    }
   ],
   "source": [
    "np.shape(train_acoustic_normalized)"
   ]
  },
  {
   "cell_type": "code",
   "execution_count": 43,
   "metadata": {},
   "outputs": [
    {
     "name": "stdout",
     "output_type": "stream",
     "text": [
      "Epoch 1/10\n"
     ]
    },
    {
     "ename": "ValueError",
     "evalue": "in user code:\n\n    File \"/Users/deepaknandula/miniforge3/envs/env_tf/lib/python3.9/site-packages/keras/engine/training.py\", line 1051, in train_function  *\n        return step_function(self, iterator)\n    File \"/Users/deepaknandula/miniforge3/envs/env_tf/lib/python3.9/site-packages/keras/engine/training.py\", line 1040, in step_function  **\n        outputs = model.distribute_strategy.run(run_step, args=(data,))\n    File \"/Users/deepaknandula/miniforge3/envs/env_tf/lib/python3.9/site-packages/keras/engine/training.py\", line 1030, in run_step  **\n        outputs = model.train_step(data)\n    File \"/Users/deepaknandula/miniforge3/envs/env_tf/lib/python3.9/site-packages/keras/engine/training.py\", line 890, in train_step\n        loss = self.compute_loss(x, y, y_pred, sample_weight)\n    File \"/Users/deepaknandula/miniforge3/envs/env_tf/lib/python3.9/site-packages/keras/engine/training.py\", line 948, in compute_loss\n        return self.compiled_loss(\n    File \"/Users/deepaknandula/miniforge3/envs/env_tf/lib/python3.9/site-packages/keras/engine/compile_utils.py\", line 201, in __call__\n        loss_value = loss_obj(y_t, y_p, sample_weight=sw)\n    File \"/Users/deepaknandula/miniforge3/envs/env_tf/lib/python3.9/site-packages/keras/losses.py\", line 139, in __call__\n        losses = call_fn(y_true, y_pred)\n    File \"/Users/deepaknandula/miniforge3/envs/env_tf/lib/python3.9/site-packages/keras/losses.py\", line 243, in call  **\n        return ag_fn(y_true, y_pred, **self._fn_kwargs)\n    File \"/Users/deepaknandula/miniforge3/envs/env_tf/lib/python3.9/site-packages/keras/losses.py\", line 1327, in mean_squared_error\n        return backend.mean(tf.math.squared_difference(y_pred, y_true), axis=-1)\n\n    ValueError: Dimensions must be equal, but are 9250 and 37000 for '{{node mean_squared_error/SquaredDifference}} = SquaredDifference[T=DT_FLOAT](mean_squared_error/remove_squeezable_dimensions/Squeeze, IteratorGetNext:1)' with input shapes: [?,9250], [?,37000].\n",
     "output_type": "error",
     "traceback": [
      "\u001b[0;31m---------------------------------------------------------------------------\u001b[0m",
      "\u001b[0;31mValueError\u001b[0m                                Traceback (most recent call last)",
      "Cell \u001b[0;32mIn[43], line 2\u001b[0m\n\u001b[1;32m      1\u001b[0m \u001b[39m# Train visual autoencoder\u001b[39;00m\n\u001b[0;32m----> 2\u001b[0m audio_autoencoder\u001b[39m.\u001b[39;49mfit(\n\u001b[1;32m      3\u001b[0m     train_acoustic_normalized,\n\u001b[1;32m      4\u001b[0m     train_acoustic_normalized,\n\u001b[1;32m      5\u001b[0m     epochs\u001b[39m=\u001b[39;49m\u001b[39m10\u001b[39;49m,\n\u001b[1;32m      6\u001b[0m     shuffle\u001b[39m=\u001b[39;49m\u001b[39mTrue\u001b[39;49;00m,\n\u001b[1;32m      7\u001b[0m     validation_data\u001b[39m=\u001b[39;49m(dev_acoustic_normalized, dev_acoustic_normalized)\n\u001b[1;32m      8\u001b[0m )\n",
      "File \u001b[0;32m~/miniforge3/envs/env_tf/lib/python3.9/site-packages/keras/utils/traceback_utils.py:67\u001b[0m, in \u001b[0;36mfilter_traceback.<locals>.error_handler\u001b[0;34m(*args, **kwargs)\u001b[0m\n\u001b[1;32m     65\u001b[0m \u001b[39mexcept\u001b[39;00m \u001b[39mException\u001b[39;00m \u001b[39mas\u001b[39;00m e:  \u001b[39m# pylint: disable=broad-except\u001b[39;00m\n\u001b[1;32m     66\u001b[0m   filtered_tb \u001b[39m=\u001b[39m _process_traceback_frames(e\u001b[39m.\u001b[39m__traceback__)\n\u001b[0;32m---> 67\u001b[0m   \u001b[39mraise\u001b[39;00m e\u001b[39m.\u001b[39mwith_traceback(filtered_tb) \u001b[39mfrom\u001b[39;00m \u001b[39mNone\u001b[39m\n\u001b[1;32m     68\u001b[0m \u001b[39mfinally\u001b[39;00m:\n\u001b[1;32m     69\u001b[0m   \u001b[39mdel\u001b[39;00m filtered_tb\n",
      "File \u001b[0;32m/var/folders/zj/hd8_xvbd3fvbp9wj5412cw_c0000gn/T/__autograph_generated_fileaaphm85i.py:15\u001b[0m, in \u001b[0;36mouter_factory.<locals>.inner_factory.<locals>.tf__train_function\u001b[0;34m(iterator)\u001b[0m\n\u001b[1;32m     13\u001b[0m \u001b[39mtry\u001b[39;00m:\n\u001b[1;32m     14\u001b[0m     do_return \u001b[39m=\u001b[39m \u001b[39mTrue\u001b[39;00m\n\u001b[0;32m---> 15\u001b[0m     retval_ \u001b[39m=\u001b[39m ag__\u001b[39m.\u001b[39mconverted_call(ag__\u001b[39m.\u001b[39mld(step_function), (ag__\u001b[39m.\u001b[39mld(\u001b[39mself\u001b[39m), ag__\u001b[39m.\u001b[39mld(iterator)), \u001b[39mNone\u001b[39;00m, fscope)\n\u001b[1;32m     16\u001b[0m \u001b[39mexcept\u001b[39;00m:\n\u001b[1;32m     17\u001b[0m     do_return \u001b[39m=\u001b[39m \u001b[39mFalse\u001b[39;00m\n",
      "\u001b[0;31mValueError\u001b[0m: in user code:\n\n    File \"/Users/deepaknandula/miniforge3/envs/env_tf/lib/python3.9/site-packages/keras/engine/training.py\", line 1051, in train_function  *\n        return step_function(self, iterator)\n    File \"/Users/deepaknandula/miniforge3/envs/env_tf/lib/python3.9/site-packages/keras/engine/training.py\", line 1040, in step_function  **\n        outputs = model.distribute_strategy.run(run_step, args=(data,))\n    File \"/Users/deepaknandula/miniforge3/envs/env_tf/lib/python3.9/site-packages/keras/engine/training.py\", line 1030, in run_step  **\n        outputs = model.train_step(data)\n    File \"/Users/deepaknandula/miniforge3/envs/env_tf/lib/python3.9/site-packages/keras/engine/training.py\", line 890, in train_step\n        loss = self.compute_loss(x, y, y_pred, sample_weight)\n    File \"/Users/deepaknandula/miniforge3/envs/env_tf/lib/python3.9/site-packages/keras/engine/training.py\", line 948, in compute_loss\n        return self.compiled_loss(\n    File \"/Users/deepaknandula/miniforge3/envs/env_tf/lib/python3.9/site-packages/keras/engine/compile_utils.py\", line 201, in __call__\n        loss_value = loss_obj(y_t, y_p, sample_weight=sw)\n    File \"/Users/deepaknandula/miniforge3/envs/env_tf/lib/python3.9/site-packages/keras/losses.py\", line 139, in __call__\n        losses = call_fn(y_true, y_pred)\n    File \"/Users/deepaknandula/miniforge3/envs/env_tf/lib/python3.9/site-packages/keras/losses.py\", line 243, in call  **\n        return ag_fn(y_true, y_pred, **self._fn_kwargs)\n    File \"/Users/deepaknandula/miniforge3/envs/env_tf/lib/python3.9/site-packages/keras/losses.py\", line 1327, in mean_squared_error\n        return backend.mean(tf.math.squared_difference(y_pred, y_true), axis=-1)\n\n    ValueError: Dimensions must be equal, but are 9250 and 37000 for '{{node mean_squared_error/SquaredDifference}} = SquaredDifference[T=DT_FLOAT](mean_squared_error/remove_squeezable_dimensions/Squeeze, IteratorGetNext:1)' with input shapes: [?,9250], [?,37000].\n"
     ]
    }
   ],
   "source": [
    "\n",
    "# Train visual autoencoder\n",
    "audio_autoencoder.fit(\n",
    "    train_acoustic_normalized,\n",
    "    train_acoustic_normalized,\n",
    "    epochs=10,\n",
    "    shuffle=True,\n",
    "    validation_data=(dev_acoustic_normalized, dev_acoustic_normalized)\n",
    ")\n"
   ]
  },
  {
   "cell_type": "code",
   "execution_count": null,
   "metadata": {},
   "outputs": [],
   "source": [
    "# Convert DataFrame columns to TensorFlow tensors\n",
    "train_visual_normalized = tf.convert_to_tensor(train_df['visual_normalized'].tolist(), dtype=tf.float32)\n",
    "dev_visual_normalized = tf.convert_to_tensor(dev_df['visual_normalized'].tolist(), dtype=tf.float32)\n"
   ]
  },
  {
   "cell_type": "code",
   "execution_count": null,
   "metadata": {},
   "outputs": [],
   "source": [
    "# compiling visual autoencoder\n",
    "visual_autoencoder.compile(optimizer='adam', loss='mae',metrics=['mean_absolute_error'])"
   ]
  },
  {
   "cell_type": "code",
   "execution_count": null,
   "metadata": {},
   "outputs": [
    {
     "name": "stdout",
     "output_type": "stream",
     "text": [
      "Epoch 1/10\n"
     ]
    },
    {
     "name": "stderr",
     "output_type": "stream",
     "text": [
      "2023-08-19 00:07:26.293239: I tensorflow/core/grappler/optimizers/custom_graph_optimizer_registry.cc:113] Plugin optimizer for device_type GPU is enabled.\n"
     ]
    },
    {
     "name": "stdout",
     "output_type": "stream",
     "text": [
      "511/511 [==============================] - ETA: 0s - loss: 0.0096 - accuracy: 5.5127e-04 - mean_absolute_error: 0.0096"
     ]
    },
    {
     "name": "stderr",
     "output_type": "stream",
     "text": [
      "2023-08-19 00:08:32.827755: I tensorflow/core/grappler/optimizers/custom_graph_optimizer_registry.cc:113] Plugin optimizer for device_type GPU is enabled.\n"
     ]
    },
    {
     "name": "stdout",
     "output_type": "stream",
     "text": [
      "511/511 [==============================] - 68s 132ms/step - loss: 0.0096 - accuracy: 5.5127e-04 - mean_absolute_error: 0.0096 - val_loss: 0.0058 - val_accuracy: 0.0000e+00 - val_mean_absolute_error: 0.0058\n",
      "Epoch 2/10\n",
      "511/511 [==============================] - 67s 130ms/step - loss: 0.0056 - accuracy: 0.0000e+00 - mean_absolute_error: 0.0056 - val_loss: 0.0055 - val_accuracy: 0.0000e+00 - val_mean_absolute_error: 0.0055\n",
      "Epoch 3/10\n",
      "511/511 [==============================] - 67s 130ms/step - loss: 0.0053 - accuracy: 1.2250e-04 - mean_absolute_error: 0.0053 - val_loss: 0.0050 - val_accuracy: 0.0000e+00 - val_mean_absolute_error: 0.0050\n",
      "Epoch 4/10\n",
      "511/511 [==============================] - 67s 130ms/step - loss: 0.0049 - accuracy: 0.0000e+00 - mean_absolute_error: 0.0049 - val_loss: 0.0049 - val_accuracy: 0.0000e+00 - val_mean_absolute_error: 0.0049\n",
      "Epoch 5/10\n",
      "511/511 [==============================] - 66s 130ms/step - loss: 0.0048 - accuracy: 0.0000e+00 - mean_absolute_error: 0.0048 - val_loss: 0.0049 - val_accuracy: 0.0000e+00 - val_mean_absolute_error: 0.0049\n",
      "Epoch 6/10\n",
      "511/511 [==============================] - 67s 131ms/step - loss: 0.0061 - accuracy: 1.8376e-04 - mean_absolute_error: 0.0061 - val_loss: 0.0060 - val_accuracy: 0.0043 - val_mean_absolute_error: 0.0060\n",
      "Epoch 7/10\n",
      "511/511 [==============================] - 67s 130ms/step - loss: 0.0054 - accuracy: 3.6751e-04 - mean_absolute_error: 0.0054 - val_loss: 0.0056 - val_accuracy: 0.0000e+00 - val_mean_absolute_error: 0.0056\n",
      "Epoch 8/10\n",
      "511/511 [==============================] - 66s 129ms/step - loss: 0.0050 - accuracy: 0.0000e+00 - mean_absolute_error: 0.0050 - val_loss: 0.0053 - val_accuracy: 0.0000e+00 - val_mean_absolute_error: 0.0053\n",
      "Epoch 9/10\n",
      "511/511 [==============================] - 66s 130ms/step - loss: 0.0049 - accuracy: 0.0000e+00 - mean_absolute_error: 0.0049 - val_loss: 0.0048 - val_accuracy: 0.0000e+00 - val_mean_absolute_error: 0.0048\n",
      "Epoch 10/10\n",
      "511/511 [==============================] - 67s 131ms/step - loss: 0.0048 - accuracy: 6.1252e-05 - mean_absolute_error: 0.0048 - val_loss: 0.0049 - val_accuracy: 0.0000e+00 - val_mean_absolute_error: 0.0049\n"
     ]
    },
    {
     "data": {
      "text/plain": [
       "<keras.callbacks.History at 0x2e1d5f250>"
      ]
     },
     "execution_count": 125,
     "metadata": {},
     "output_type": "execute_result"
    }
   ],
   "source": [
    "# Train acustic autoencoders\n",
    "visual_autoencoder.fit(\n",
    "    train_visual_normalized,\n",
    "    train_df['visual'].tolist(),\n",
    "    epochs=10,\n",
    "    batch_size=12,\n",
    "    shuffle=True,\n",
    "    verbose=1,\n",
    "    validation_data=(dev_visual_normalized, dev_df['visual'].tolist())\n",
    ")"
   ]
  },
  {
   "cell_type": "code",
   "execution_count": null,
   "metadata": {},
   "outputs": [],
   "source": [
    "# Convert DataFrame columns to TensorFlow tensors\n",
    "\n",
    "test_acoustic_normalized = tf.convert_to_tensor(test_df['acoustic_normalized'].tolist(), dtype=tf.float32)\n",
    "test_visual_normalized = tf.convert_to_tensor(test_df['visual_normalized'].tolist(), dtype=tf.float32)\n"
   ]
  },
  {
   "cell_type": "code",
   "execution_count": null,
   "metadata": {},
   "outputs": [
    {
     "name": "stdout",
     "output_type": "stream",
     "text": [
      "  5/146 [>.............................] - ETA: 3s"
     ]
    },
    {
     "name": "stderr",
     "output_type": "stream",
     "text": [
      "2023-08-19 00:18:42.701041: I tensorflow/core/grappler/optimizers/custom_graph_optimizer_registry.cc:113] Plugin optimizer for device_type GPU is enabled.\n"
     ]
    },
    {
     "name": "stdout",
     "output_type": "stream",
     "text": [
      "146/146 [==============================] - 3s 18ms/step\n",
      "Mean Squared Error: 0.0002781122\n",
      "Mean Absolute Error: 0.0047522406\n"
     ]
    }
   ],
   "source": [
    "from sklearn.metrics import mean_squared_error, mean_absolute_error\n",
    "\n",
    "visual_autoencoder_predictions = visual_autoencoder.predict(test_visual_normalized)\n",
    "visual_mse = mean_squared_error(test_visual_normalized, visual_autoencoder_predictions)\n",
    "visual_mae = mean_absolute_error(test_visual_normalized, visual_autoencoder_predictions)\n",
    "\n",
    "print(\"Mean Squared Error:\", visual_mse)\n",
    "print(\"Mean Absolute Error:\", visual_mae)"
   ]
  },
  {
   "cell_type": "code",
   "execution_count": null,
   "metadata": {},
   "outputs": [
    {
     "name": "stdout",
     "output_type": "stream",
     "text": [
      "  1/146 [..............................] - ETA: 9s"
     ]
    },
    {
     "name": "stderr",
     "output_type": "stream",
     "text": [
      "2023-08-19 00:18:48.334747: I tensorflow/core/grappler/optimizers/custom_graph_optimizer_registry.cc:113] Plugin optimizer for device_type GPU is enabled.\n"
     ]
    },
    {
     "name": "stdout",
     "output_type": "stream",
     "text": [
      "146/146 [==============================] - 14s 99ms/step\n",
      "Mean Squared Error: 0.00080710155\n",
      "Mean Absolute Error: 0.02327575\n"
     ]
    }
   ],
   "source": [
    "\n",
    "acustic_autoencoder_predictions = audio_autoencoder.predict(test_acoustic_normalized)\n",
    "acustic_mse = mean_squared_error(test_acoustic_normalized, acustic_autoencoder_predictions)\n",
    "acustic_mae = mean_absolute_error(test_acoustic_normalized, acustic_autoencoder_predictions)\n",
    "\n",
    "print(\"Mean Squared Error:\", acustic_mse)\n",
    "print(\"Mean Absolute Error:\", acustic_mae)"
   ]
  },
  {
   "cell_type": "code",
   "execution_count": null,
   "metadata": {},
   "outputs": [
    {
     "data": {
      "text/plain": [
       "<tf.Tensor: shape=(37000,), dtype=float32, numpy=\n",
       "array([0.4544904 , 0.10718559, 0.10732665, ..., 0.10718559, 0.10718559,\n",
       "       0.10718559], dtype=float32)>"
      ]
     },
     "execution_count": 129,
     "metadata": {},
     "output_type": "execute_result"
    }
   ],
   "source": [
    "train_acoustic_normalized[0]"
   ]
  },
  {
   "cell_type": "code",
   "execution_count": null,
   "metadata": {},
   "outputs": [
    {
     "name": "stdout",
     "output_type": "stream",
     "text": [
      "Encoded Audio Data Shape: (16326, 9250)\n",
      "Encoded Visual Data Shape: (16326, 4375)\n"
     ]
    }
   ],
   "source": [
    "# audio_encoder = tf.keras.models.Model(inputs=audio_autoencoder.input, outputs=audio_autoencoder.layers[2].output)\n",
    "# visual_encoder = tf.keras.models.Model(inputs=visual_autoencoder.input, outputs=visual_autoencoder.layers[2].output)\n",
    "\n",
    "# Predict encoded values\n",
    "encoded_audio_data_train = audio_autoencoder.encoder(train_acoustic_normalized)\n",
    "encoded_visual_data_train = visual_autoencoder.encoder(train_visual_normalized)\n",
    "\n",
    "print(\"Encoded Audio Data Shape:\", encoded_audio_data_train.shape)\n",
    "print(\"Encoded Visual Data Shape:\", encoded_visual_data_train.shape)"
   ]
  },
  {
   "cell_type": "code",
   "execution_count": null,
   "metadata": {},
   "outputs": [
    {
     "data": {
      "text/plain": [
       "(16326, 1)"
      ]
     },
     "execution_count": 131,
     "metadata": {},
     "output_type": "execute_result"
    }
   ],
   "source": [
    "np.shape(modelTrainData['Label'])"
   ]
  },
  {
   "cell_type": "code",
   "execution_count": null,
   "metadata": {},
   "outputs": [],
   "source": [
    "\n",
    "encoded_audio_data_val = audio_autoencoder.encoder(dev_acoustic_normalized)\n",
    "encoded_visual_data_val = visual_autoencoder.encoder(dev_visual_normalized)"
   ]
  },
  {
   "cell_type": "code",
   "execution_count": null,
   "metadata": {},
   "outputs": [
    {
     "data": {
      "text/plain": [
       "(9250,)"
      ]
     },
     "execution_count": 133,
     "metadata": {},
     "output_type": "execute_result"
    }
   ],
   "source": [
    "input_shape1 = (16326, 9250)\n",
    "input_shape1[1:]"
   ]
  },
  {
   "cell_type": "code",
   "execution_count": null,
   "metadata": {},
   "outputs": [
    {
     "data": {
      "text/plain": [
       "<tf.Tensor: shape=(9250,), dtype=float32, numpy=array([0., 0., 0., ..., 0., 0., 0.], dtype=float32)>"
      ]
     },
     "execution_count": 134,
     "metadata": {},
     "output_type": "execute_result"
    }
   ],
   "source": [
    "encoded_audio_data_val[0]"
   ]
  },
  {
   "cell_type": "code",
   "execution_count": null,
   "metadata": {},
   "outputs": [],
   "source": [
    "encoded_audio_data_test = audio_autoencoder.encoder(test_acoustic_normalized)\n",
    "encoded_visual_data_test = visual_autoencoder.encoder(test_visual_normalized)"
   ]
  },
  {
   "cell_type": "code",
   "execution_count": null,
   "metadata": {},
   "outputs": [],
   "source": [
    "import tensorflow as tf\n",
    "import numpy as np\n",
    "\n",
    "# Define the MLP architecture\n",
    "input_layer1 = tf.keras.layers.Input(shape=(9250,))\n",
    "input_layer2 = tf.keras.layers.Input(shape=(4375,))\n",
    "\n",
    "# Combine input layers\n",
    "combined_input = tf.keras.layers.Concatenate(axis=-1)([input_layer1, input_layer2])\n",
    "\n",
    "\n",
    "hidden_layer1 = tf.keras.layers.Dense(6800, activation='relu')(combined_input)\n",
    "hidden_layer2 = tf.keras.layers.Dense(3400, activation='relu')(hidden_layer1)\n",
    "\n",
    "output_layer = tf.keras.layers.Dense(1, activation='sigmoid')(hidden_layer2)\n",
    "\n",
    "# Create the model\n",
    "model_final = tf.keras.Model(inputs=[input_layer1, input_layer2], outputs=output_layer)\n"
   ]
  },
  {
   "cell_type": "code",
   "execution_count": null,
   "metadata": {},
   "outputs": [
    {
     "name": "stdout",
     "output_type": "stream",
     "text": [
      "Model: \"model_5\"\n",
      "__________________________________________________________________________________________________\n",
      " Layer (type)                   Output Shape         Param #     Connected to                     \n",
      "==================================================================================================\n",
      " input_15 (InputLayer)          [(None, 9250)]       0           []                               \n",
      "                                                                                                  \n",
      " input_16 (InputLayer)          [(None, 4375)]       0           []                               \n",
      "                                                                                                  \n",
      " concatenate_5 (Concatenate)    (None, 13625)        0           ['input_15[0][0]',               \n",
      "                                                                  'input_16[0][0]']               \n",
      "                                                                                                  \n",
      " dense_31 (Dense)               (None, 6800)         92656800    ['concatenate_5[0][0]']          \n",
      "                                                                                                  \n",
      " dense_32 (Dense)               (None, 3400)         23123400    ['dense_31[0][0]']               \n",
      "                                                                                                  \n",
      " dense_33 (Dense)               (None, 1)            3401        ['dense_32[0][0]']               \n",
      "                                                                                                  \n",
      "==================================================================================================\n",
      "Total params: 115,783,601\n",
      "Trainable params: 115,783,601\n",
      "Non-trainable params: 0\n",
      "__________________________________________________________________________________________________\n"
     ]
    }
   ],
   "source": [
    "# Compile the model\n",
    "model_final.compile(optimizer='adam', loss=tf.keras.losses.MeanSquaredError(),metrics=['accuracy','mean_absolute_error'])\n",
    "# Print model summary\n",
    "model_final.summary()"
   ]
  },
  {
   "cell_type": "code",
   "execution_count": null,
   "metadata": {},
   "outputs": [
    {
     "name": "stdout",
     "output_type": "stream",
     "text": [
      "Epoch 1/10\n"
     ]
    },
    {
     "name": "stderr",
     "output_type": "stream",
     "text": [
      "2023-08-19 00:49:37.164940: I tensorflow/core/grappler/optimizers/custom_graph_optimizer_registry.cc:113] Plugin optimizer for device_type GPU is enabled.\n"
     ]
    },
    {
     "name": "stdout",
     "output_type": "stream",
     "text": [
      "511/511 [==============================] - ETA: 0s - loss: 0.7048 - accuracy: 0.0029 - mean_absolute_error: 0.1434"
     ]
    },
    {
     "name": "stderr",
     "output_type": "stream",
     "text": [
      "2023-08-19 00:50:03.768576: I tensorflow/core/grappler/optimizers/custom_graph_optimizer_registry.cc:113] Plugin optimizer for device_type GPU is enabled.\n"
     ]
    },
    {
     "name": "stdout",
     "output_type": "stream",
     "text": [
      "511/511 [==============================] - 28s 53ms/step - loss: 0.7048 - accuracy: 0.0029 - mean_absolute_error: 0.1434 - val_loss: 0.6913 - val_accuracy: 0.0037 - val_mean_absolute_error: 0.1296\n",
      "Epoch 2/10\n",
      "511/511 [==============================] - 26s 50ms/step - loss: 0.6920 - accuracy: 0.0029 - mean_absolute_error: 0.1414 - val_loss: 0.6913 - val_accuracy: 0.0037 - val_mean_absolute_error: 0.1296\n",
      "Epoch 3/10\n",
      "511/511 [==============================] - 26s 51ms/step - loss: 0.6920 - accuracy: 0.0029 - mean_absolute_error: 0.1414 - val_loss: 0.6913 - val_accuracy: 0.0037 - val_mean_absolute_error: 0.1296\n",
      "Epoch 4/10\n",
      "511/511 [==============================] - 26s 51ms/step - loss: 0.6920 - accuracy: 0.0029 - mean_absolute_error: 0.1414 - val_loss: 0.6912 - val_accuracy: 0.0037 - val_mean_absolute_error: 0.1296\n",
      "Epoch 5/10\n",
      "511/511 [==============================] - 26s 51ms/step - loss: 0.6920 - accuracy: 0.0029 - mean_absolute_error: 0.1415 - val_loss: 0.6913 - val_accuracy: 0.0037 - val_mean_absolute_error: 0.1296\n",
      "Epoch 6/10\n",
      "511/511 [==============================] - 26s 51ms/step - loss: 0.6920 - accuracy: 0.0029 - mean_absolute_error: 0.1414 - val_loss: 0.6914 - val_accuracy: 0.0037 - val_mean_absolute_error: 0.1296\n",
      "Epoch 7/10\n",
      "511/511 [==============================] - 26s 51ms/step - loss: 0.6920 - accuracy: 0.0029 - mean_absolute_error: 0.1415 - val_loss: 0.6914 - val_accuracy: 0.0037 - val_mean_absolute_error: 0.1296\n",
      "Epoch 8/10\n",
      "511/511 [==============================] - 26s 51ms/step - loss: 0.6920 - accuracy: 0.0029 - mean_absolute_error: 0.1415 - val_loss: 0.6915 - val_accuracy: 0.0037 - val_mean_absolute_error: 0.1296\n",
      "Epoch 9/10\n",
      "511/511 [==============================] - 26s 51ms/step - loss: 0.6920 - accuracy: 0.0029 - mean_absolute_error: 0.1414 - val_loss: 0.6915 - val_accuracy: 0.0037 - val_mean_absolute_error: 0.1296\n",
      "Epoch 10/10\n",
      "511/511 [==============================] - 27s 52ms/step - loss: 0.6920 - accuracy: 0.0029 - mean_absolute_error: 0.1414 - val_loss: 0.6913 - val_accuracy: 0.0037 - val_mean_absolute_error: 0.1296\n"
     ]
    },
    {
     "data": {
      "text/plain": [
       "<keras.callbacks.History at 0x2e2f77d00>"
      ]
     },
     "execution_count": 158,
     "metadata": {},
     "output_type": "execute_result"
    }
   ],
   "source": [
    "\n",
    "# Train the model\n",
    "model_final.fit(\n",
    "    [encoded_audio_data_train, encoded_visual_data_train], \n",
    "    modelTrainData['Label'], \n",
    "    epochs=10, \n",
    "    batch_size=32,\n",
    "    shuffle=True,\n",
    "    validation_data=([encoded_audio_data_val, encoded_visual_data_val],modelValData['Label'])\n",
    ")  # Adjust epochs and batch_size as needed\n"
   ]
  },
  {
   "cell_type": "code",
   "execution_count": null,
   "metadata": {},
   "outputs": [
    {
     "name": "stdout",
     "output_type": "stream",
     "text": [
      " 20/146 [===>..........................] - ETA: 1s"
     ]
    },
    {
     "name": "stderr",
     "output_type": "stream",
     "text": [
      "2023-08-19 00:53:59.378681: I tensorflow/core/grappler/optimizers/custom_graph_optimizer_registry.cc:113] Plugin optimizer for device_type GPU is enabled.\n"
     ]
    },
    {
     "name": "stdout",
     "output_type": "stream",
     "text": [
      "146/146 [==============================] - 2s 11ms/step\n"
     ]
    }
   ],
   "source": [
    "\n",
    "\n",
    "predictions = model_final.predict([encoded_audio_data_test, encoded_visual_data_test])"
   ]
  },
  {
   "cell_type": "code",
   "execution_count": null,
   "metadata": {},
   "outputs": [
    {
     "data": {
      "text/plain": [
       "array([[0.5555555 ],\n",
       "       [0.33333334],\n",
       "       [0.5       ],\n",
       "       ...,\n",
       "       [0.5       ],\n",
       "       [0.6666667 ],\n",
       "       [0.77777773]], dtype=float32)"
      ]
     },
     "execution_count": 160,
     "metadata": {},
     "output_type": "execute_result"
    }
   ],
   "source": [
    "modelTestData['Label']"
   ]
  },
  {
   "cell_type": "code",
   "execution_count": null,
   "metadata": {},
   "outputs": [
    {
     "data": {
      "text/plain": [
       "array([[0.52407086],\n",
       "       [0.52407086],\n",
       "       [0.52407086],\n",
       "       ...,\n",
       "       [0.52407086],\n",
       "       [0.52407086],\n",
       "       [0.52407086]], dtype=float32)"
      ]
     },
     "execution_count": 161,
     "metadata": {},
     "output_type": "execute_result"
    }
   ],
   "source": [
    "predictions"
   ]
  },
  {
   "cell_type": "code",
   "execution_count": null,
   "metadata": {},
   "outputs": [],
   "source": [
    "denormPred = np.array([[minmax_denormalize(arr[0], label_min, label_max)] for arr in predictions])"
   ]
  },
  {
   "cell_type": "code",
   "execution_count": null,
   "metadata": {},
   "outputs": [
    {
     "data": {
      "text/plain": [
       "4659"
      ]
     },
     "execution_count": 168,
     "metadata": {},
     "output_type": "execute_result"
    }
   ],
   "source": [
    "len(denormPred)"
   ]
  },
  {
   "cell_type": "code",
   "execution_count": null,
   "metadata": {},
   "outputs": [
    {
     "data": {
      "text/plain": [
       "4659"
      ]
     },
     "execution_count": 169,
     "metadata": {},
     "output_type": "execute_result"
    }
   ],
   "source": [
    "len(modelTestData['Label_denorm'])"
   ]
  },
  {
   "cell_type": "code",
   "execution_count": null,
   "metadata": {},
   "outputs": [
    {
     "name": "stdout",
     "output_type": "stream",
     "text": [
      "Mean Squared Error: 1.2290605\n",
      "Mean Absolute Error: 0.8412341\n"
     ]
    }
   ],
   "source": [
    "from sklearn.metrics import mean_squared_error, mean_absolute_error\n",
    "mse = mean_squared_error(modelTestData['Label_denorm'], denormPred)\n",
    "mae = mean_absolute_error(modelTestData['Label_denorm'], denormPred)\n",
    "\n",
    "print(\"Mean Squared Error:\", mse)\n",
    "print(\"Mean Absolute Error:\", mae)"
   ]
  },
  {
   "cell_type": "code",
   "execution_count": null,
   "metadata": {},
   "outputs": [
    {
     "data": {
      "image/png": "[encoded data removed]",
      "text/plain": [
       "<Figure size 1000x600 with 1 Axes>"
      ]
     },
     "metadata": {},
     "output_type": "display_data"
    }
   ],
   "source": [
    "import matplotlib.pyplot as plt\n",
    "\n",
    "# Sample data (replace these with your actual data)\n",
    "x = np.linspace(0, 10, 4659)  # Assuming you have 4659 data points\n",
    "y1 = flatten_2d_array(denormPred)      # Replace with your first array data\n",
    "y2 = flatten_2d_array(modelTestData['Label_denorm'])      # Replace with your second array data\n",
    "\n",
    "# Create a figure and axis\n",
    "plt.figure(figsize=(10, 6))  # Set the figure size\n",
    "\n",
    "# Plot y1 and y2 as overlapping lines\n",
    "plt.plot(x, y2, color='green', label='predicted')  # Green line for y2\n",
    "plt.plot(x, y1, color='red', label='actual')    # Red line for y1\n",
    "\n",
    "# Add labels and title\n",
    "plt.xlabel('X-axis')\n",
    "plt.ylabel('Y-axis')\n",
    "plt.title('Overlapping Red and Green Lines')\n",
    "\n",
    "# Add a legend\n",
    "plt.legend()\n",
    "\n",
    "# Show the plot\n",
    "plt.show()"
   ]
  },
  {
   "cell_type": "code",
   "execution_count": null,
   "metadata": {},
   "outputs": [
    {
     "data": {
      "text/plain": [
       "(array([ 311.,  760., 1125., 1459., 1083., 5715., 3116., 1739.,  811.,\n",
       "         207.]),\n",
       " array([0.        , 0.1       , 0.2       , 0.30000001, 0.40000001,\n",
       "        0.5       , 0.60000002, 0.69999999, 0.80000001, 0.89999998,\n",
       "        1.        ]),\n",
       " <BarContainer object of 10 artists>)"
      ]
     },
     "execution_count": 177,
     "metadata": {},
     "output_type": "execute_result"
    },
    {
     "data": {
      "image/png": "[encoded data removed]",
      "text/plain": [
       "<Figure size 640x480 with 1 Axes>"
      ]
     },
     "metadata": {},
     "output_type": "display_data"
    }
   ],
   "source": [
    "plt.hist(modelTrainData['Label'])"
   ]
  },
  {
   "cell_type": "code",
   "execution_count": null,
   "metadata": {},
   "outputs": [
    {
     "ename": "NameError",
     "evalue": "name 'input_ids_data' is not defined",
     "output_type": "error",
     "traceback": [
      "\u001b[0;31m---------------------------------------------------------------------------\u001b[0m",
      "\u001b[0;31mNameError\u001b[0m                                 Traceback (most recent call last)",
      "Cell \u001b[0;32mIn[166], line 5\u001b[0m\n\u001b[1;32m      2\u001b[0m \u001b[39mimport\u001b[39;00m \u001b[39mtensorflow\u001b[39;00m \u001b[39mas\u001b[39;00m \u001b[39mtf\u001b[39;00m\n\u001b[1;32m      4\u001b[0m \u001b[39m# Assuming you have input_ids_data and attention_mask_data from BERT tokenization\u001b[39;00m\n\u001b[0;32m----> 5\u001b[0m num_samples \u001b[39m=\u001b[39m input_ids_data\u001b[39m.\u001b[39mshape[\u001b[39m0\u001b[39m]\n\u001b[1;32m      6\u001b[0m sequence_length \u001b[39m=\u001b[39m input_ids_data\u001b[39m.\u001b[39mshape[\u001b[39m1\u001b[39m]\n\u001b[1;32m      8\u001b[0m \u001b[39m# Build the autoencoder model\u001b[39;00m\n",
      "\u001b[0;31mNameError\u001b[0m: name 'input_ids_data' is not defined"
     ]
    }
   ],
   "source": [
    "import numpy as np\n",
    "import tensorflow as tf\n",
    "\n",
    "# Assuming you have input_ids_data and attention_mask_data from BERT tokenization\n",
    "num_samples = input_ids_data.shape[0]\n",
    "sequence_length = input_ids_data.shape[1]\n",
    "\n",
    "# Build the autoencoder model\n",
    "input_layer = tf.keras.layers.Input(shape=(sequence_length,), dtype=tf.int32)\n",
    "attention_mask = tf.keras.layers.Input(shape=(sequence_length,), dtype=tf.int32)\n",
    "\n",
    "embedding_size = 768  # Assuming BERT embeddings\n",
    "\n",
    "# You can use pretrained BERT embeddings here or learn embeddings with the autoencoder\n",
    "# For simplicity, let's use a linear layer for embedding learning\n",
    "encoded = tf.keras.layers.Dense(128, activation='relu')(input_layer)\n",
    "encoded = tf.keras.layers.Dense(64, activation='relu')(encoded)\n",
    "encoded = tf.keras.layers.Dense(32, activation='relu')(encoded)\n",
    "\n",
    "# Decoder\n",
    "decoded = tf.keras.layers.Dense(64, activation='relu')(encoded)\n",
    "decoded = tf.keras.layers.Dense(128, activation='relu')(decoded)\n",
    "decoded = tf.keras.layers.Dense(embedding_size, activation='linear')(decoded)\n",
    "\n",
    "autoencoder = tf.keras.Model(inputs=input_layer, outputs=decoded)\n",
    "\n",
    "# Compile the model\n",
    "autoencoder.compile(optimizer='adam', loss='mean_squared_error')\n",
    "\n",
    "# Train the autoencoder\n",
    "autoencoder.fit(input_ids_data, input_ids_data, epochs=10, batch_size=32, shuffle=True)\n",
    "\n",
    "# Use the trained autoencoder for encoding and decoding\n",
    "encoded_sequences = autoencoder.predict(input_ids_data)\n"
   ]
  },
  {
   "cell_type": "code",
   "execution_count": null,
   "metadata": {},
   "outputs": [
    {
     "name": "stderr",
     "output_type": "stream",
     "text": [
      "WARNING:absl:Found untraced functions such as _jit_compiled_convolution_op, _jit_compiled_convolution_op, _jit_compiled_convolution_op, _jit_compiled_convolution_op, embeddings_layer_call_fn while saving (showing 5 of 424). These functions will not be directly callable after loading.\n"
     ]
    },
    {
     "name": "stdout",
     "output_type": "stream",
     "text": [
      "INFO:tensorflow:Assets written to: ./savedModel1/assets\n"
     ]
    },
    {
     "name": "stderr",
     "output_type": "stream",
     "text": [
      "INFO:tensorflow:Assets written to: ./savedModel1/assets\n"
     ]
    }
   ],
   "source": [
    "\n",
    "# Save the model to a directory\n",
    "model_final.save('./savedModel1')\n",
    "\n",
    "# Optionally, you can save the tokenizer used for encoding the text data\n",
    "# tokenizer.save_pretrained('./savedModels')"
   ]
  }
 ],
 "metadata": {
  "kernelspec": {
   "display_name": "Python 3.9.16 (env_tf)",
   "language": "python",
   "name": "env_tf"
  },
  "language_info": {
   "codemirror_mode": {
    "name": "ipython",
    "version": 3
   },
   "file_extension": ".py",
   "mimetype": "text/x-python",
   "name": "python",
   "nbconvert_exporter": "python",
   "pygments_lexer": "ipython3",
   "version": "3.9.16"
  },
  "orig_nbformat": 4,
  "vscode": {
   "interpreter": {
    "hash": "e7f7a6c7a328c331394eefecd3ffebe18a341a9e21c7b3790bdb1b050ca99952"
   }
  }
 },
 "nbformat": 4,
 "nbformat_minor": 2
}
